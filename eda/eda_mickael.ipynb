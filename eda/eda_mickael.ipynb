{
 "cells": [
  {
   "cell_type": "code",
   "execution_count": 1,
   "id": "18e25ae8",
   "metadata": {},
   "outputs": [],
   "source": [
    "import numpy as np\n",
    "import pandas as pd\n",
    "from pandas_profiling import ProfileReport\n",
    "#import tkinter\n",
    "#import matplotlib\n",
    "import matplotlib.pyplot as plt\n",
    "#matplotlib.use('TkAgg')\n",
    "%matplotlib inline\n",
    "import imp\n",
    "\n",
    "\n",
    "# importing sys\n",
    "import sys\n",
    "  \n",
    "# adding Folder_2 to the system path\n",
    "sys.path.insert(0, '../utils')\n",
    "  \n",
    "# importing the add and odd_even \n",
    "# function\n",
    "\n",
    "import utils_main as utm"
   ]
  },
  {
   "cell_type": "markdown",
   "id": "fd95fe24-9303-45bb-a7e7-413c0c44b38a",
   "metadata": {},
   "source": [
    "# Read files"
   ]
  },
  {
   "cell_type": "code",
   "execution_count": 2,
   "id": "7b3d7dee",
   "metadata": {},
   "outputs": [],
   "source": [
    "portfolio = pd.read_json('./../data/portfolio.json', lines=True)\n",
    "profile = pd.read_json('./../data/profile.json', lines=True)\n",
    "transcript = pd.read_json('./../data/transcript.json', lines=True)"
   ]
  },
  {
   "cell_type": "markdown",
   "id": "116a6af9-bf58-441b-8b60-7a2b23b82484",
   "metadata": {},
   "source": [
    "The data comprises of three separate file described below."
   ]
  },
  {
   "cell_type": "markdown",
   "id": "ddf70ab3-219f-4a25-845e-211733ea0145",
   "metadata": {},
   "source": [
    "# Portfolio data"
   ]
  },
  {
   "cell_type": "markdown",
   "id": "efb1408b-ef37-478c-b93e-f23107db8605",
   "metadata": {},
   "source": [
    "portfolio.json contains information about the ten promotions.\n",
    "* reward is the monetary value of the promotion.\n",
    "* channels is the ways in which the promotion was advertised.\n",
    "* diffculty is the amount the customer needs to spend in order to receive the reward.\n",
    "* duration is the total number of days that the promotion was available.\n",
    "* offer_type is the type of promotion. This is either a money off offer (discount), buy one get one free (BOGO) or\n",
    "a news letter (informational).\n",
    "* id is the promotion identitifcation --> rename as id_promotion\n"
   ]
  },
  {
   "cell_type": "markdown",
   "id": "2810959d-282c-41d9-a707-211069591829",
   "metadata": {},
   "source": [
    "Things to do:\n",
    "* Channels is an unsupported type (list) --> Expand the channels column as it is a list"
   ]
  },
  {
   "cell_type": "code",
   "execution_count": 3,
   "id": "e6e9279d-b4bf-45b6-9e82-cb832838e6c7",
   "metadata": {},
   "outputs": [
    {
     "data": {
      "text/plain": [
       "<module 'utils_main' from 'C:\\\\Users\\\\BASTAMX2\\\\04_TargetingCustomers_DAIB\\\\TargetingCustomers_DAIB\\\\eda\\\\../utils\\\\utils_main.py'>"
      ]
     },
     "execution_count": 3,
     "metadata": {},
     "output_type": "execute_result"
    }
   ],
   "source": [
    "imp.reload(utm)"
   ]
  },
  {
   "cell_type": "code",
   "execution_count": 4,
   "id": "b2f289db-6a88-455f-80a2-169459ad8861",
   "metadata": {},
   "outputs": [],
   "source": [
    "portfolio, profile, transcript = utm.readFiles()"
   ]
  },
  {
   "cell_type": "code",
   "execution_count": 5,
   "id": "83f4a5b3",
   "metadata": {},
   "outputs": [
    {
     "data": {
      "text/html": [
       "<div>\n",
       "<style scoped>\n",
       "    .dataframe tbody tr th:only-of-type {\n",
       "        vertical-align: middle;\n",
       "    }\n",
       "\n",
       "    .dataframe tbody tr th {\n",
       "        vertical-align: top;\n",
       "    }\n",
       "\n",
       "    .dataframe thead th {\n",
       "        text-align: right;\n",
       "    }\n",
       "</style>\n",
       "<table border=\"1\" class=\"dataframe\">\n",
       "  <thead>\n",
       "    <tr style=\"text-align: right;\">\n",
       "      <th></th>\n",
       "      <th>reward</th>\n",
       "      <th>channels</th>\n",
       "      <th>difficulty</th>\n",
       "      <th>duration</th>\n",
       "      <th>offer_type</th>\n",
       "      <th>id_promotion</th>\n",
       "    </tr>\n",
       "  </thead>\n",
       "  <tbody>\n",
       "    <tr>\n",
       "      <th>0</th>\n",
       "      <td>10</td>\n",
       "      <td>[email, mobile, social]</td>\n",
       "      <td>10</td>\n",
       "      <td>7</td>\n",
       "      <td>bogo</td>\n",
       "      <td>ae264e3637204a6fb9bb56bc8210ddfd</td>\n",
       "    </tr>\n",
       "    <tr>\n",
       "      <th>1</th>\n",
       "      <td>10</td>\n",
       "      <td>[web, email, mobile, social]</td>\n",
       "      <td>10</td>\n",
       "      <td>5</td>\n",
       "      <td>bogo</td>\n",
       "      <td>4d5c57ea9a6940dd891ad53e9dbe8da0</td>\n",
       "    </tr>\n",
       "    <tr>\n",
       "      <th>2</th>\n",
       "      <td>0</td>\n",
       "      <td>[web, email, mobile]</td>\n",
       "      <td>0</td>\n",
       "      <td>4</td>\n",
       "      <td>informational</td>\n",
       "      <td>3f207df678b143eea3cee63160fa8bed</td>\n",
       "    </tr>\n",
       "    <tr>\n",
       "      <th>3</th>\n",
       "      <td>5</td>\n",
       "      <td>[web, email, mobile]</td>\n",
       "      <td>5</td>\n",
       "      <td>7</td>\n",
       "      <td>bogo</td>\n",
       "      <td>9b98b8c7a33c4b65b9aebfe6a799e6d9</td>\n",
       "    </tr>\n",
       "    <tr>\n",
       "      <th>4</th>\n",
       "      <td>5</td>\n",
       "      <td>[web, email]</td>\n",
       "      <td>20</td>\n",
       "      <td>10</td>\n",
       "      <td>discount</td>\n",
       "      <td>0b1e1539f2cc45b7b9fa7c272da2e1d7</td>\n",
       "    </tr>\n",
       "  </tbody>\n",
       "</table>\n",
       "</div>"
      ],
      "text/plain": [
       "   reward                      channels  difficulty  duration     offer_type  \\\n",
       "0      10       [email, mobile, social]          10         7           bogo   \n",
       "1      10  [web, email, mobile, social]          10         5           bogo   \n",
       "2       0          [web, email, mobile]           0         4  informational   \n",
       "3       5          [web, email, mobile]           5         7           bogo   \n",
       "4       5                  [web, email]          20        10       discount   \n",
       "\n",
       "                       id_promotion  \n",
       "0  ae264e3637204a6fb9bb56bc8210ddfd  \n",
       "1  4d5c57ea9a6940dd891ad53e9dbe8da0  \n",
       "2  3f207df678b143eea3cee63160fa8bed  \n",
       "3  9b98b8c7a33c4b65b9aebfe6a799e6d9  \n",
       "4  0b1e1539f2cc45b7b9fa7c272da2e1d7  "
      ]
     },
     "execution_count": 5,
     "metadata": {},
     "output_type": "execute_result"
    }
   ],
   "source": [
    "portfolio.head()"
   ]
  },
  {
   "cell_type": "code",
   "execution_count": 6,
   "id": "8161d30d-1a12-49b0-ae4e-1f5e1c5888a8",
   "metadata": {},
   "outputs": [
    {
     "data": {
      "text/plain": [
       "(10, 6)"
      ]
     },
     "execution_count": 6,
     "metadata": {},
     "output_type": "execute_result"
    }
   ],
   "source": [
    "portfolio.shape"
   ]
  },
  {
   "cell_type": "code",
   "execution_count": 7,
   "id": "f3cfb0f0-7f51-4a52-8105-b0abdba9a134",
   "metadata": {},
   "outputs": [
    {
     "name": "stdout",
     "output_type": "stream",
     "text": [
      "reward          0\n",
      "channels        0\n",
      "difficulty      0\n",
      "duration        0\n",
      "offer_type      0\n",
      "id_promotion    0\n",
      "dtype: int64\n"
     ]
    }
   ],
   "source": [
    "print(portfolio.isnull().sum())"
   ]
  },
  {
   "cell_type": "code",
   "execution_count": 8,
   "id": "c94e4bd2-9af3-4e0f-96c0-1c75b7ddcf1c",
   "metadata": {},
   "outputs": [
    {
     "name": "stdout",
     "output_type": "stream",
     "text": [
      "reward          0\n",
      "channels        0\n",
      "difficulty      0\n",
      "duration        0\n",
      "offer_type      0\n",
      "id_promotion    0\n",
      "dtype: int64\n"
     ]
    }
   ],
   "source": [
    "print(portfolio.isna().sum())"
   ]
  },
  {
   "cell_type": "code",
   "execution_count": 9,
   "id": "b8d24c2a-fde3-4dac-b57f-f400d831d69d",
   "metadata": {},
   "outputs": [
    {
     "data": {
      "text/plain": [
       "reward           int64\n",
       "channels        object\n",
       "difficulty       int64\n",
       "duration         int64\n",
       "offer_type      object\n",
       "id_promotion    object\n",
       "dtype: object"
      ]
     },
     "execution_count": 9,
     "metadata": {},
     "output_type": "execute_result"
    }
   ],
   "source": [
    "portfolio.dtypes"
   ]
  },
  {
   "cell_type": "code",
   "execution_count": 10,
   "id": "dd7421ab-1501-4174-985e-2047190ae9d9",
   "metadata": {},
   "outputs": [
    {
     "data": {
      "application/vnd.jupyter.widget-view+json": {
       "model_id": "190bce4d39f24193bcb8145c5fcf2101",
       "version_major": 2,
       "version_minor": 0
      },
      "text/plain": [
       "Summarize dataset:   0%|          | 0/5 [00:00<?, ?it/s]"
      ]
     },
     "metadata": {},
     "output_type": "display_data"
    },
    {
     "data": {
      "application/vnd.jupyter.widget-view+json": {
       "model_id": "53387748ae624458b8df0f3ed499a712",
       "version_major": 2,
       "version_minor": 0
      },
      "text/plain": [
       "Generate report structure:   0%|          | 0/1 [00:00<?, ?it/s]"
      ]
     },
     "metadata": {},
     "output_type": "display_data"
    },
    {
     "data": {
      "application/vnd.jupyter.widget-view+json": {
       "model_id": "5476e3ae4764402eb09ee979156d6871",
       "version_major": 2,
       "version_minor": 0
      },
      "text/plain": [
       "Render HTML:   0%|          | 0/1 [00:00<?, ?it/s]"
      ]
     },
     "metadata": {},
     "output_type": "display_data"
    },
    {
     "data": {
      "application/vnd.jupyter.widget-view+json": {
       "model_id": "f7f05e2a6ae5481db61688f2d00b92b5",
       "version_major": 2,
       "version_minor": 0
      },
      "text/plain": [
       "Export report to file:   0%|          | 0/1 [00:00<?, ?it/s]"
      ]
     },
     "metadata": {},
     "output_type": "display_data"
    }
   ],
   "source": [
    "portfolio_report = ProfileReport(portfolio)\n",
    "portfolio_report.to_file(\"reports/portfolio.html\")\n",
    "#portfolio_report"
   ]
  },
  {
   "cell_type": "markdown",
   "id": "0b6cf2d7-d152-4f41-a19a-165638282d89",
   "metadata": {},
   "source": [
    "# Profile data"
   ]
  },
  {
   "cell_type": "markdown",
   "id": "55e32ca6-bfc6-44e3-9b34-da5551940aaa",
   "metadata": {},
   "source": [
    "profile.json contains information about customers.\n",
    "* gender is the identified gender of the customer.\n",
    "* age is the age of the customer at the time of the promotion period.\n",
    "* id is the customer membership identification --> rename as id_membership\n",
    "* became_member is the date when the customer became a member.\n",
    "* income is the self reported income of the customer at the time of the promotion period.\n"
   ]
  },
  {
   "cell_type": "code",
   "execution_count": 11,
   "id": "d4184712-6590-40aa-b407-9115a612c36f",
   "metadata": {},
   "outputs": [],
   "source": [
    "portfolio, profile, transcript = utm.readFiles()"
   ]
  },
  {
   "cell_type": "code",
   "execution_count": 12,
   "id": "bd2ae43b",
   "metadata": {},
   "outputs": [
    {
     "data": {
      "text/html": [
       "<div>\n",
       "<style scoped>\n",
       "    .dataframe tbody tr th:only-of-type {\n",
       "        vertical-align: middle;\n",
       "    }\n",
       "\n",
       "    .dataframe tbody tr th {\n",
       "        vertical-align: top;\n",
       "    }\n",
       "\n",
       "    .dataframe thead th {\n",
       "        text-align: right;\n",
       "    }\n",
       "</style>\n",
       "<table border=\"1\" class=\"dataframe\">\n",
       "  <thead>\n",
       "    <tr style=\"text-align: right;\">\n",
       "      <th></th>\n",
       "      <th>gender</th>\n",
       "      <th>age</th>\n",
       "      <th>id_membership</th>\n",
       "      <th>became_member_on</th>\n",
       "      <th>income</th>\n",
       "    </tr>\n",
       "  </thead>\n",
       "  <tbody>\n",
       "    <tr>\n",
       "      <th>0</th>\n",
       "      <td>None</td>\n",
       "      <td>118</td>\n",
       "      <td>68be06ca386d4c31939f3a4f0e3dd783</td>\n",
       "      <td>2017-02-12</td>\n",
       "      <td>NaN</td>\n",
       "    </tr>\n",
       "    <tr>\n",
       "      <th>1</th>\n",
       "      <td>F</td>\n",
       "      <td>55</td>\n",
       "      <td>0610b486422d4921ae7d2bf64640c50b</td>\n",
       "      <td>2017-07-15</td>\n",
       "      <td>112000.0</td>\n",
       "    </tr>\n",
       "    <tr>\n",
       "      <th>2</th>\n",
       "      <td>None</td>\n",
       "      <td>118</td>\n",
       "      <td>38fe809add3b4fcf9315a9694bb96ff5</td>\n",
       "      <td>2018-07-12</td>\n",
       "      <td>NaN</td>\n",
       "    </tr>\n",
       "    <tr>\n",
       "      <th>3</th>\n",
       "      <td>F</td>\n",
       "      <td>75</td>\n",
       "      <td>78afa995795e4d85b5d9ceeca43f5fef</td>\n",
       "      <td>2017-05-09</td>\n",
       "      <td>100000.0</td>\n",
       "    </tr>\n",
       "    <tr>\n",
       "      <th>4</th>\n",
       "      <td>None</td>\n",
       "      <td>118</td>\n",
       "      <td>a03223e636434f42ac4c3df47e8bac43</td>\n",
       "      <td>2017-08-04</td>\n",
       "      <td>NaN</td>\n",
       "    </tr>\n",
       "  </tbody>\n",
       "</table>\n",
       "</div>"
      ],
      "text/plain": [
       "  gender  age                     id_membership became_member_on    income\n",
       "0   None  118  68be06ca386d4c31939f3a4f0e3dd783       2017-02-12       NaN\n",
       "1      F   55  0610b486422d4921ae7d2bf64640c50b       2017-07-15  112000.0\n",
       "2   None  118  38fe809add3b4fcf9315a9694bb96ff5       2018-07-12       NaN\n",
       "3      F   75  78afa995795e4d85b5d9ceeca43f5fef       2017-05-09  100000.0\n",
       "4   None  118  a03223e636434f42ac4c3df47e8bac43       2017-08-04       NaN"
      ]
     },
     "execution_count": 12,
     "metadata": {},
     "output_type": "execute_result"
    }
   ],
   "source": [
    "profile.head()"
   ]
  },
  {
   "cell_type": "code",
   "execution_count": 13,
   "id": "325ce036-df36-4119-ba40-36564017d71e",
   "metadata": {},
   "outputs": [
    {
     "data": {
      "text/plain": [
       "(17000, 5)"
      ]
     },
     "execution_count": 13,
     "metadata": {},
     "output_type": "execute_result"
    }
   ],
   "source": [
    "profile.shape"
   ]
  },
  {
   "cell_type": "code",
   "execution_count": 14,
   "id": "06c8ad8f-cf77-4f95-893a-9575db51d6b1",
   "metadata": {},
   "outputs": [
    {
     "data": {
      "text/plain": [
       "gender                      object\n",
       "age                          int64\n",
       "id_membership               object\n",
       "became_member_on    datetime64[ns]\n",
       "income                     float64\n",
       "dtype: object"
      ]
     },
     "execution_count": 14,
     "metadata": {},
     "output_type": "execute_result"
    }
   ],
   "source": [
    "profile.dtypes"
   ]
  },
  {
   "cell_type": "code",
   "execution_count": 15,
   "id": "03ef5493-e821-4d05-a2d7-93011beb5acc",
   "metadata": {},
   "outputs": [
    {
     "name": "stdout",
     "output_type": "stream",
     "text": [
      "gender              2175\n",
      "age                    0\n",
      "id_membership          0\n",
      "became_member_on       0\n",
      "income              2175\n",
      "dtype: int64\n"
     ]
    }
   ],
   "source": [
    "print(profile.isnull().sum())"
   ]
  },
  {
   "cell_type": "code",
   "execution_count": 16,
   "id": "b27129da-4d40-427e-9470-2b00e43bdf07",
   "metadata": {},
   "outputs": [
    {
     "name": "stdout",
     "output_type": "stream",
     "text": [
      "gender              2175\n",
      "age                    0\n",
      "id_membership          0\n",
      "became_member_on       0\n",
      "income              2175\n",
      "dtype: int64\n"
     ]
    }
   ],
   "source": [
    "print(profile.isna().sum())"
   ]
  },
  {
   "cell_type": "code",
   "execution_count": 17,
   "id": "1fabb761-0885-4367-bb07-e3f21c0dbf9f",
   "metadata": {},
   "outputs": [
    {
     "data": {
      "application/vnd.jupyter.widget-view+json": {
       "model_id": "1a234e681e114930bb1fdcabbb004fa8",
       "version_major": 2,
       "version_minor": 0
      },
      "text/plain": [
       "Summarize dataset:   0%|          | 0/5 [00:00<?, ?it/s]"
      ]
     },
     "metadata": {},
     "output_type": "display_data"
    },
    {
     "data": {
      "application/vnd.jupyter.widget-view+json": {
       "model_id": "7fda2c1e7935425cba46f6242979848e",
       "version_major": 2,
       "version_minor": 0
      },
      "text/plain": [
       "Generate report structure:   0%|          | 0/1 [00:00<?, ?it/s]"
      ]
     },
     "metadata": {},
     "output_type": "display_data"
    },
    {
     "data": {
      "application/vnd.jupyter.widget-view+json": {
       "model_id": "04adb91b54674b8aa60b95cdba95708a",
       "version_major": 2,
       "version_minor": 0
      },
      "text/plain": [
       "Render HTML:   0%|          | 0/1 [00:00<?, ?it/s]"
      ]
     },
     "metadata": {},
     "output_type": "display_data"
    },
    {
     "data": {
      "application/vnd.jupyter.widget-view+json": {
       "model_id": "5c7e148749474ab286326f0f0bc612a5",
       "version_major": 2,
       "version_minor": 0
      },
      "text/plain": [
       "Export report to file:   0%|          | 0/1 [00:00<?, ?it/s]"
      ]
     },
     "metadata": {},
     "output_type": "display_data"
    }
   ],
   "source": [
    "profile_report = ProfileReport(profile)\n",
    "profile_report.to_file(\"reports/profile.html\")\n",
    "#profile_report"
   ]
  },
  {
   "cell_type": "markdown",
   "id": "1ac8c778-68f2-4840-8b40-bf457fa80fe9",
   "metadata": {},
   "source": [
    "# Transcript data"
   ]
  },
  {
   "cell_type": "markdown",
   "id": "f4b2efc8-0a6a-44a3-bec2-1f7e63d6355a",
   "metadata": {},
   "source": [
    "transactions.json contains information specific transaction across the promotion period.\n",
    "* person is the customer membership identification --> renamed id_membership\n",
    "* event is the event - either offer received, offer viewed, offer complete or transaction.\n",
    "* value.offer.id is the promotion identification --> renamed id_promotion\n",
    "* value.amount is the amount spent in GBP for a given transaction.\n",
    "* value.reward is the monetary value of the promotion.\n",
    "* time is the time from the beginning of the promotion period."
   ]
  },
  {
   "cell_type": "code",
   "execution_count": 18,
   "id": "c41dcb2d-125d-4cdd-84a4-26d0f60d78a6",
   "metadata": {},
   "outputs": [
    {
     "data": {
      "text/plain": [
       "<module 'utils_main' from 'C:\\\\Users\\\\BASTAMX2\\\\04_TargetingCustomers_DAIB\\\\TargetingCustomers_DAIB\\\\eda\\\\../utils\\\\utils_main.py'>"
      ]
     },
     "execution_count": 18,
     "metadata": {},
     "output_type": "execute_result"
    }
   ],
   "source": [
    "imp.reload(utm)"
   ]
  },
  {
   "cell_type": "code",
   "execution_count": 19,
   "id": "1587ad2b-4d0f-4df3-86f6-1209b4ae42ea",
   "metadata": {},
   "outputs": [],
   "source": [
    "portfolio, profile, transcript = utm.readFiles()"
   ]
  },
  {
   "cell_type": "code",
   "execution_count": 20,
   "id": "e8c968ca-0211-4ae5-81a0-5439d7375f25",
   "metadata": {},
   "outputs": [
    {
     "data": {
      "text/html": [
       "<div>\n",
       "<style scoped>\n",
       "    .dataframe tbody tr th:only-of-type {\n",
       "        vertical-align: middle;\n",
       "    }\n",
       "\n",
       "    .dataframe tbody tr th {\n",
       "        vertical-align: top;\n",
       "    }\n",
       "\n",
       "    .dataframe thead th {\n",
       "        text-align: right;\n",
       "    }\n",
       "</style>\n",
       "<table border=\"1\" class=\"dataframe\">\n",
       "  <thead>\n",
       "    <tr style=\"text-align: right;\">\n",
       "      <th></th>\n",
       "      <th>id_membership</th>\n",
       "      <th>event</th>\n",
       "      <th>value</th>\n",
       "      <th>time</th>\n",
       "      <th>id_promotion</th>\n",
       "      <th>amount</th>\n",
       "      <th>reward</th>\n",
       "    </tr>\n",
       "  </thead>\n",
       "  <tbody>\n",
       "    <tr>\n",
       "      <th>306529</th>\n",
       "      <td>b3a1272bc9904337b331bf348c3e8c17</td>\n",
       "      <td>transaction</td>\n",
       "      <td>{'amount': 1.5899999999999999}</td>\n",
       "      <td>714</td>\n",
       "      <td></td>\n",
       "      <td>1.59</td>\n",
       "      <td>0</td>\n",
       "    </tr>\n",
       "    <tr>\n",
       "      <th>306530</th>\n",
       "      <td>68213b08d99a4ae1b0dcb72aebd9aa35</td>\n",
       "      <td>transaction</td>\n",
       "      <td>{'amount': 9.53}</td>\n",
       "      <td>714</td>\n",
       "      <td></td>\n",
       "      <td>9.53</td>\n",
       "      <td>0</td>\n",
       "    </tr>\n",
       "    <tr>\n",
       "      <th>306531</th>\n",
       "      <td>a00058cf10334a308c68e7631c529907</td>\n",
       "      <td>transaction</td>\n",
       "      <td>{'amount': 3.61}</td>\n",
       "      <td>714</td>\n",
       "      <td></td>\n",
       "      <td>3.61</td>\n",
       "      <td>0</td>\n",
       "    </tr>\n",
       "    <tr>\n",
       "      <th>306532</th>\n",
       "      <td>76ddbd6576844afe811f1a3c0fbb5bec</td>\n",
       "      <td>transaction</td>\n",
       "      <td>{'amount': 3.5300000000000002}</td>\n",
       "      <td>714</td>\n",
       "      <td></td>\n",
       "      <td>3.53</td>\n",
       "      <td>0</td>\n",
       "    </tr>\n",
       "    <tr>\n",
       "      <th>306533</th>\n",
       "      <td>c02b10e8752c4d8e9b73f918558531f7</td>\n",
       "      <td>transaction</td>\n",
       "      <td>{'amount': 4.05}</td>\n",
       "      <td>714</td>\n",
       "      <td></td>\n",
       "      <td>4.05</td>\n",
       "      <td>0</td>\n",
       "    </tr>\n",
       "  </tbody>\n",
       "</table>\n",
       "</div>"
      ],
      "text/plain": [
       "                           id_membership        event  \\\n",
       "306529  b3a1272bc9904337b331bf348c3e8c17  transaction   \n",
       "306530  68213b08d99a4ae1b0dcb72aebd9aa35  transaction   \n",
       "306531  a00058cf10334a308c68e7631c529907  transaction   \n",
       "306532  76ddbd6576844afe811f1a3c0fbb5bec  transaction   \n",
       "306533  c02b10e8752c4d8e9b73f918558531f7  transaction   \n",
       "\n",
       "                                 value  time id_promotion  amount  reward  \n",
       "306529  {'amount': 1.5899999999999999}   714                 1.59       0  \n",
       "306530                {'amount': 9.53}   714                 9.53       0  \n",
       "306531                {'amount': 3.61}   714                 3.61       0  \n",
       "306532  {'amount': 3.5300000000000002}   714                 3.53       0  \n",
       "306533                {'amount': 4.05}   714                 4.05       0  "
      ]
     },
     "execution_count": 20,
     "metadata": {},
     "output_type": "execute_result"
    }
   ],
   "source": [
    "transcript.tail()"
   ]
  },
  {
   "cell_type": "code",
   "execution_count": 21,
   "id": "bb044161-5d14-4664-a5f7-84fd3b3f9707",
   "metadata": {},
   "outputs": [
    {
     "data": {
      "text/plain": [
       "array(['9b98b8c7a33c4b65b9aebfe6a799e6d9',\n",
       "       '0b1e1539f2cc45b7b9fa7c272da2e1d7',\n",
       "       '2906b810c7d4411798c6938adc9daaa5',\n",
       "       'fafdcd668e3743c1bb461111dcafc2a4',\n",
       "       '4d5c57ea9a6940dd891ad53e9dbe8da0',\n",
       "       'f19421c1d4aa40978ebb69ca19b0e20d',\n",
       "       '2298d6c36e964ae4a3e7e9706d1fb8c2',\n",
       "       '3f207df678b143eea3cee63160fa8bed',\n",
       "       'ae264e3637204a6fb9bb56bc8210ddfd',\n",
       "       '5a8bc65990b245e5a138643cd4eb9837', ''], dtype=object)"
      ]
     },
     "execution_count": 21,
     "metadata": {},
     "output_type": "execute_result"
    }
   ],
   "source": [
    "transcript[\"id_promotion\"].unique()"
   ]
  },
  {
   "cell_type": "code",
   "execution_count": 22,
   "id": "66fa70d5-1dae-48cd-80e5-903fadcd195e",
   "metadata": {},
   "outputs": [
    {
     "data": {
      "text/plain": [
       "array([  0.  ,   0.83,  34.56, ..., 685.07, 405.04, 476.33])"
      ]
     },
     "execution_count": 22,
     "metadata": {},
     "output_type": "execute_result"
    }
   ],
   "source": [
    "transcript[\"amount\"].unique()"
   ]
  },
  {
   "cell_type": "code",
   "execution_count": 23,
   "id": "253986ef-0a43-4f84-b4c8-20c3b45162a0",
   "metadata": {},
   "outputs": [
    {
     "data": {
      "text/plain": [
       "array([ 0,  2,  5, 10,  3], dtype=int64)"
      ]
     },
     "execution_count": 23,
     "metadata": {},
     "output_type": "execute_result"
    }
   ],
   "source": [
    "transcript[\"reward\"].unique()"
   ]
  },
  {
   "cell_type": "code",
   "execution_count": 24,
   "id": "b34cbb55-55d6-4cbe-a38d-bf3134a61f6b",
   "metadata": {},
   "outputs": [
    {
     "data": {
      "text/plain": [
       "(306534, 7)"
      ]
     },
     "execution_count": 24,
     "metadata": {},
     "output_type": "execute_result"
    }
   ],
   "source": [
    "transcript.shape"
   ]
  },
  {
   "cell_type": "code",
   "execution_count": 25,
   "id": "a7c5936e-db69-48b0-8c00-404131e8e67d",
   "metadata": {},
   "outputs": [
    {
     "data": {
      "text/plain": [
       "id_membership     object\n",
       "event             object\n",
       "value             object\n",
       "time               int64\n",
       "id_promotion      object\n",
       "amount           float64\n",
       "reward             int64\n",
       "dtype: object"
      ]
     },
     "execution_count": 25,
     "metadata": {},
     "output_type": "execute_result"
    }
   ],
   "source": [
    "transcript.dtypes"
   ]
  },
  {
   "cell_type": "code",
   "execution_count": 26,
   "id": "9a37a6b5-bab9-4d8f-9980-1a5aa7a6c1f4",
   "metadata": {},
   "outputs": [
    {
     "name": "stdout",
     "output_type": "stream",
     "text": [
      "id_membership    0\n",
      "event            0\n",
      "value            0\n",
      "time             0\n",
      "id_promotion     0\n",
      "amount           0\n",
      "reward           0\n",
      "dtype: int64\n"
     ]
    }
   ],
   "source": [
    "print(transcript.isnull().sum())"
   ]
  },
  {
   "cell_type": "code",
   "execution_count": 27,
   "id": "e9197d20-6945-4003-8199-7a6ead11f109",
   "metadata": {},
   "outputs": [
    {
     "name": "stdout",
     "output_type": "stream",
     "text": [
      "id_membership    0\n",
      "event            0\n",
      "value            0\n",
      "time             0\n",
      "id_promotion     0\n",
      "amount           0\n",
      "reward           0\n",
      "dtype: int64\n"
     ]
    }
   ],
   "source": [
    "print(transcript.isna().sum())"
   ]
  },
  {
   "cell_type": "code",
   "execution_count": 28,
   "id": "149862e8",
   "metadata": {},
   "outputs": [
    {
     "data": {
      "application/vnd.jupyter.widget-view+json": {
       "model_id": "8b2d3a8b6a594bab8248325abfbc6797",
       "version_major": 2,
       "version_minor": 0
      },
      "text/plain": [
       "Summarize dataset:   0%|          | 0/5 [00:00<?, ?it/s]"
      ]
     },
     "metadata": {},
     "output_type": "display_data"
    },
    {
     "name": "stderr",
     "output_type": "stream",
     "text": [
      "C:\\Users\\BASTAMX2\\Anaconda3\\envs\\daib\\lib\\site-packages\\scipy\\stats\\stats.py:4812: RuntimeWarning: overflow encountered in longlong_scalars\n",
      "  (2 * xtie * ytie) / m + x0 * y0 / (9 * m * (size - 2)))\n"
     ]
    },
    {
     "data": {
      "application/vnd.jupyter.widget-view+json": {
       "model_id": "6b365cd6f0e34cb48db62c09870e57ff",
       "version_major": 2,
       "version_minor": 0
      },
      "text/plain": [
       "Generate report structure:   0%|          | 0/1 [00:00<?, ?it/s]"
      ]
     },
     "metadata": {},
     "output_type": "display_data"
    },
    {
     "data": {
      "application/vnd.jupyter.widget-view+json": {
       "model_id": "ca0f6ef60cef44d0a4044494cffd3c5e",
       "version_major": 2,
       "version_minor": 0
      },
      "text/plain": [
       "Render HTML:   0%|          | 0/1 [00:00<?, ?it/s]"
      ]
     },
     "metadata": {},
     "output_type": "display_data"
    },
    {
     "data": {
      "application/vnd.jupyter.widget-view+json": {
       "model_id": "ea96de6f96194c7fb0d982f146519145",
       "version_major": 2,
       "version_minor": 0
      },
      "text/plain": [
       "Export report to file:   0%|          | 0/1 [00:00<?, ?it/s]"
      ]
     },
     "metadata": {},
     "output_type": "display_data"
    }
   ],
   "source": [
    "transcript_report = ProfileReport(transcript)\n",
    "transcript_report.to_file(\"reports/transcript.html\")\n",
    "#transcript_report"
   ]
  },
  {
   "cell_type": "markdown",
   "id": "b4736590-e0fa-4c9a-b6e9-ce9c3b2030b5",
   "metadata": {},
   "source": [
    "# Merge dataframe"
   ]
  },
  {
   "cell_type": "markdown",
   "id": "3baf476e-c3ee-4580-af3c-479b4bb58cad",
   "metadata": {},
   "source": [
    "The idea is to merge the portfolio, profile, and transcript dataframes using the id_membership and id_promotion keys"
   ]
  },
  {
   "cell_type": "code",
   "execution_count": 29,
   "id": "cbaa2f08-3719-44cc-9db4-823fc0c87f12",
   "metadata": {},
   "outputs": [
    {
     "data": {
      "text/plain": [
       "Index(['reward', 'channels', 'difficulty', 'duration', 'offer_type',\n",
       "       'id_promotion'],\n",
       "      dtype='object')"
      ]
     },
     "execution_count": 29,
     "metadata": {},
     "output_type": "execute_result"
    }
   ],
   "source": [
    "portfolio.columns"
   ]
  },
  {
   "cell_type": "code",
   "execution_count": 30,
   "id": "61dec99e-c471-434a-8a87-963b68f1974c",
   "metadata": {},
   "outputs": [
    {
     "data": {
      "text/plain": [
       "Index(['gender', 'age', 'id_membership', 'became_member_on', 'income'], dtype='object')"
      ]
     },
     "execution_count": 30,
     "metadata": {},
     "output_type": "execute_result"
    }
   ],
   "source": [
    "profile.columns"
   ]
  },
  {
   "cell_type": "code",
   "execution_count": 31,
   "id": "edc1b592-95b1-44b1-bc81-e87293c6b4dd",
   "metadata": {},
   "outputs": [
    {
     "data": {
      "text/plain": [
       "Index(['id_membership', 'event', 'value', 'time', 'id_promotion', 'amount',\n",
       "       'reward'],\n",
       "      dtype='object')"
      ]
     },
     "execution_count": 31,
     "metadata": {},
     "output_type": "execute_result"
    }
   ],
   "source": [
    "transcript.columns"
   ]
  },
  {
   "cell_type": "code",
   "execution_count": 32,
   "id": "55597c33-ba4a-4327-b683-9b2293804e7f",
   "metadata": {},
   "outputs": [],
   "source": [
    "trans_pro = pd.merge(transcript, profile, on=\"id_membership\")"
   ]
  },
  {
   "cell_type": "code",
   "execution_count": 33,
   "id": "5ae8f3f2-a933-468a-8e83-b4841101ee7d",
   "metadata": {},
   "outputs": [
    {
     "data": {
      "text/html": [
       "<div>\n",
       "<style scoped>\n",
       "    .dataframe tbody tr th:only-of-type {\n",
       "        vertical-align: middle;\n",
       "    }\n",
       "\n",
       "    .dataframe tbody tr th {\n",
       "        vertical-align: top;\n",
       "    }\n",
       "\n",
       "    .dataframe thead th {\n",
       "        text-align: right;\n",
       "    }\n",
       "</style>\n",
       "<table border=\"1\" class=\"dataframe\">\n",
       "  <thead>\n",
       "    <tr style=\"text-align: right;\">\n",
       "      <th></th>\n",
       "      <th>id_membership</th>\n",
       "      <th>event</th>\n",
       "      <th>value</th>\n",
       "      <th>time</th>\n",
       "      <th>id_promotion</th>\n",
       "      <th>amount</th>\n",
       "      <th>reward</th>\n",
       "      <th>gender</th>\n",
       "      <th>age</th>\n",
       "      <th>became_member_on</th>\n",
       "      <th>income</th>\n",
       "    </tr>\n",
       "  </thead>\n",
       "  <tbody>\n",
       "    <tr>\n",
       "      <th>0</th>\n",
       "      <td>78afa995795e4d85b5d9ceeca43f5fef</td>\n",
       "      <td>offer received</td>\n",
       "      <td>{'offer id': '9b98b8c7a33c4b65b9aebfe6a799e6d9'}</td>\n",
       "      <td>0</td>\n",
       "      <td>9b98b8c7a33c4b65b9aebfe6a799e6d9</td>\n",
       "      <td>0.00</td>\n",
       "      <td>0</td>\n",
       "      <td>F</td>\n",
       "      <td>75</td>\n",
       "      <td>2017-05-09</td>\n",
       "      <td>100000.0</td>\n",
       "    </tr>\n",
       "    <tr>\n",
       "      <th>1</th>\n",
       "      <td>78afa995795e4d85b5d9ceeca43f5fef</td>\n",
       "      <td>offer viewed</td>\n",
       "      <td>{'offer id': '9b98b8c7a33c4b65b9aebfe6a799e6d9'}</td>\n",
       "      <td>6</td>\n",
       "      <td>9b98b8c7a33c4b65b9aebfe6a799e6d9</td>\n",
       "      <td>0.00</td>\n",
       "      <td>0</td>\n",
       "      <td>F</td>\n",
       "      <td>75</td>\n",
       "      <td>2017-05-09</td>\n",
       "      <td>100000.0</td>\n",
       "    </tr>\n",
       "    <tr>\n",
       "      <th>2</th>\n",
       "      <td>78afa995795e4d85b5d9ceeca43f5fef</td>\n",
       "      <td>transaction</td>\n",
       "      <td>{'amount': 19.89}</td>\n",
       "      <td>132</td>\n",
       "      <td></td>\n",
       "      <td>19.89</td>\n",
       "      <td>0</td>\n",
       "      <td>F</td>\n",
       "      <td>75</td>\n",
       "      <td>2017-05-09</td>\n",
       "      <td>100000.0</td>\n",
       "    </tr>\n",
       "    <tr>\n",
       "      <th>3</th>\n",
       "      <td>78afa995795e4d85b5d9ceeca43f5fef</td>\n",
       "      <td>offer completed</td>\n",
       "      <td>{'offer_id': '9b98b8c7a33c4b65b9aebfe6a799e6d9...</td>\n",
       "      <td>132</td>\n",
       "      <td></td>\n",
       "      <td>0.00</td>\n",
       "      <td>5</td>\n",
       "      <td>F</td>\n",
       "      <td>75</td>\n",
       "      <td>2017-05-09</td>\n",
       "      <td>100000.0</td>\n",
       "    </tr>\n",
       "    <tr>\n",
       "      <th>4</th>\n",
       "      <td>78afa995795e4d85b5d9ceeca43f5fef</td>\n",
       "      <td>transaction</td>\n",
       "      <td>{'amount': 17.78}</td>\n",
       "      <td>144</td>\n",
       "      <td></td>\n",
       "      <td>17.78</td>\n",
       "      <td>0</td>\n",
       "      <td>F</td>\n",
       "      <td>75</td>\n",
       "      <td>2017-05-09</td>\n",
       "      <td>100000.0</td>\n",
       "    </tr>\n",
       "  </tbody>\n",
       "</table>\n",
       "</div>"
      ],
      "text/plain": [
       "                      id_membership            event  \\\n",
       "0  78afa995795e4d85b5d9ceeca43f5fef   offer received   \n",
       "1  78afa995795e4d85b5d9ceeca43f5fef     offer viewed   \n",
       "2  78afa995795e4d85b5d9ceeca43f5fef      transaction   \n",
       "3  78afa995795e4d85b5d9ceeca43f5fef  offer completed   \n",
       "4  78afa995795e4d85b5d9ceeca43f5fef      transaction   \n",
       "\n",
       "                                               value  time  \\\n",
       "0   {'offer id': '9b98b8c7a33c4b65b9aebfe6a799e6d9'}     0   \n",
       "1   {'offer id': '9b98b8c7a33c4b65b9aebfe6a799e6d9'}     6   \n",
       "2                                  {'amount': 19.89}   132   \n",
       "3  {'offer_id': '9b98b8c7a33c4b65b9aebfe6a799e6d9...   132   \n",
       "4                                  {'amount': 17.78}   144   \n",
       "\n",
       "                       id_promotion  amount  reward gender  age  \\\n",
       "0  9b98b8c7a33c4b65b9aebfe6a799e6d9    0.00       0      F   75   \n",
       "1  9b98b8c7a33c4b65b9aebfe6a799e6d9    0.00       0      F   75   \n",
       "2                                     19.89       0      F   75   \n",
       "3                                      0.00       5      F   75   \n",
       "4                                     17.78       0      F   75   \n",
       "\n",
       "  became_member_on    income  \n",
       "0       2017-05-09  100000.0  \n",
       "1       2017-05-09  100000.0  \n",
       "2       2017-05-09  100000.0  \n",
       "3       2017-05-09  100000.0  \n",
       "4       2017-05-09  100000.0  "
      ]
     },
     "execution_count": 33,
     "metadata": {},
     "output_type": "execute_result"
    }
   ],
   "source": [
    "trans_pro.head()"
   ]
  },
  {
   "cell_type": "code",
   "execution_count": 34,
   "id": "23bf1b06-4819-4b86-a367-9bf9a8740915",
   "metadata": {},
   "outputs": [],
   "source": [
    "trans_pro_port = pd.merge(trans_pro, portfolio, on=\"id_promotion\")"
   ]
  },
  {
   "cell_type": "code",
   "execution_count": 35,
   "id": "135fb98e-fdc6-4e7a-97da-fcf4745645bc",
   "metadata": {},
   "outputs": [
    {
     "data": {
      "text/html": [
       "<div>\n",
       "<style scoped>\n",
       "    .dataframe tbody tr th:only-of-type {\n",
       "        vertical-align: middle;\n",
       "    }\n",
       "\n",
       "    .dataframe tbody tr th {\n",
       "        vertical-align: top;\n",
       "    }\n",
       "\n",
       "    .dataframe thead th {\n",
       "        text-align: right;\n",
       "    }\n",
       "</style>\n",
       "<table border=\"1\" class=\"dataframe\">\n",
       "  <thead>\n",
       "    <tr style=\"text-align: right;\">\n",
       "      <th></th>\n",
       "      <th>id_membership</th>\n",
       "      <th>event</th>\n",
       "      <th>value</th>\n",
       "      <th>time</th>\n",
       "      <th>id_promotion</th>\n",
       "      <th>amount</th>\n",
       "      <th>reward_x</th>\n",
       "      <th>gender</th>\n",
       "      <th>age</th>\n",
       "      <th>became_member_on</th>\n",
       "      <th>income</th>\n",
       "      <th>reward_y</th>\n",
       "      <th>channels</th>\n",
       "      <th>difficulty</th>\n",
       "      <th>duration</th>\n",
       "      <th>offer_type</th>\n",
       "    </tr>\n",
       "  </thead>\n",
       "  <tbody>\n",
       "    <tr>\n",
       "      <th>0</th>\n",
       "      <td>78afa995795e4d85b5d9ceeca43f5fef</td>\n",
       "      <td>offer received</td>\n",
       "      <td>{'offer id': '9b98b8c7a33c4b65b9aebfe6a799e6d9'}</td>\n",
       "      <td>0</td>\n",
       "      <td>9b98b8c7a33c4b65b9aebfe6a799e6d9</td>\n",
       "      <td>0.0</td>\n",
       "      <td>0</td>\n",
       "      <td>F</td>\n",
       "      <td>75</td>\n",
       "      <td>2017-05-09</td>\n",
       "      <td>100000.0</td>\n",
       "      <td>5</td>\n",
       "      <td>[web, email, mobile]</td>\n",
       "      <td>5</td>\n",
       "      <td>7</td>\n",
       "      <td>bogo</td>\n",
       "    </tr>\n",
       "    <tr>\n",
       "      <th>1</th>\n",
       "      <td>78afa995795e4d85b5d9ceeca43f5fef</td>\n",
       "      <td>offer viewed</td>\n",
       "      <td>{'offer id': '9b98b8c7a33c4b65b9aebfe6a799e6d9'}</td>\n",
       "      <td>6</td>\n",
       "      <td>9b98b8c7a33c4b65b9aebfe6a799e6d9</td>\n",
       "      <td>0.0</td>\n",
       "      <td>0</td>\n",
       "      <td>F</td>\n",
       "      <td>75</td>\n",
       "      <td>2017-05-09</td>\n",
       "      <td>100000.0</td>\n",
       "      <td>5</td>\n",
       "      <td>[web, email, mobile]</td>\n",
       "      <td>5</td>\n",
       "      <td>7</td>\n",
       "      <td>bogo</td>\n",
       "    </tr>\n",
       "    <tr>\n",
       "      <th>2</th>\n",
       "      <td>e2127556f4f64592b11af22de27a7932</td>\n",
       "      <td>offer received</td>\n",
       "      <td>{'offer id': '9b98b8c7a33c4b65b9aebfe6a799e6d9'}</td>\n",
       "      <td>408</td>\n",
       "      <td>9b98b8c7a33c4b65b9aebfe6a799e6d9</td>\n",
       "      <td>0.0</td>\n",
       "      <td>0</td>\n",
       "      <td>M</td>\n",
       "      <td>68</td>\n",
       "      <td>2018-04-26</td>\n",
       "      <td>70000.0</td>\n",
       "      <td>5</td>\n",
       "      <td>[web, email, mobile]</td>\n",
       "      <td>5</td>\n",
       "      <td>7</td>\n",
       "      <td>bogo</td>\n",
       "    </tr>\n",
       "    <tr>\n",
       "      <th>3</th>\n",
       "      <td>e2127556f4f64592b11af22de27a7932</td>\n",
       "      <td>offer viewed</td>\n",
       "      <td>{'offer id': '9b98b8c7a33c4b65b9aebfe6a799e6d9'}</td>\n",
       "      <td>420</td>\n",
       "      <td>9b98b8c7a33c4b65b9aebfe6a799e6d9</td>\n",
       "      <td>0.0</td>\n",
       "      <td>0</td>\n",
       "      <td>M</td>\n",
       "      <td>68</td>\n",
       "      <td>2018-04-26</td>\n",
       "      <td>70000.0</td>\n",
       "      <td>5</td>\n",
       "      <td>[web, email, mobile]</td>\n",
       "      <td>5</td>\n",
       "      <td>7</td>\n",
       "      <td>bogo</td>\n",
       "    </tr>\n",
       "    <tr>\n",
       "      <th>4</th>\n",
       "      <td>68617ca6246f4fbc85e91a2a49552598</td>\n",
       "      <td>offer received</td>\n",
       "      <td>{'offer id': '9b98b8c7a33c4b65b9aebfe6a799e6d9'}</td>\n",
       "      <td>504</td>\n",
       "      <td>9b98b8c7a33c4b65b9aebfe6a799e6d9</td>\n",
       "      <td>0.0</td>\n",
       "      <td>0</td>\n",
       "      <td>None</td>\n",
       "      <td>118</td>\n",
       "      <td>2017-10-02</td>\n",
       "      <td>NaN</td>\n",
       "      <td>5</td>\n",
       "      <td>[web, email, mobile]</td>\n",
       "      <td>5</td>\n",
       "      <td>7</td>\n",
       "      <td>bogo</td>\n",
       "    </tr>\n",
       "  </tbody>\n",
       "</table>\n",
       "</div>"
      ],
      "text/plain": [
       "                      id_membership           event  \\\n",
       "0  78afa995795e4d85b5d9ceeca43f5fef  offer received   \n",
       "1  78afa995795e4d85b5d9ceeca43f5fef    offer viewed   \n",
       "2  e2127556f4f64592b11af22de27a7932  offer received   \n",
       "3  e2127556f4f64592b11af22de27a7932    offer viewed   \n",
       "4  68617ca6246f4fbc85e91a2a49552598  offer received   \n",
       "\n",
       "                                              value  time  \\\n",
       "0  {'offer id': '9b98b8c7a33c4b65b9aebfe6a799e6d9'}     0   \n",
       "1  {'offer id': '9b98b8c7a33c4b65b9aebfe6a799e6d9'}     6   \n",
       "2  {'offer id': '9b98b8c7a33c4b65b9aebfe6a799e6d9'}   408   \n",
       "3  {'offer id': '9b98b8c7a33c4b65b9aebfe6a799e6d9'}   420   \n",
       "4  {'offer id': '9b98b8c7a33c4b65b9aebfe6a799e6d9'}   504   \n",
       "\n",
       "                       id_promotion  amount  reward_x gender  age  \\\n",
       "0  9b98b8c7a33c4b65b9aebfe6a799e6d9     0.0         0      F   75   \n",
       "1  9b98b8c7a33c4b65b9aebfe6a799e6d9     0.0         0      F   75   \n",
       "2  9b98b8c7a33c4b65b9aebfe6a799e6d9     0.0         0      M   68   \n",
       "3  9b98b8c7a33c4b65b9aebfe6a799e6d9     0.0         0      M   68   \n",
       "4  9b98b8c7a33c4b65b9aebfe6a799e6d9     0.0         0   None  118   \n",
       "\n",
       "  became_member_on    income  reward_y              channels  difficulty  \\\n",
       "0       2017-05-09  100000.0         5  [web, email, mobile]           5   \n",
       "1       2017-05-09  100000.0         5  [web, email, mobile]           5   \n",
       "2       2018-04-26   70000.0         5  [web, email, mobile]           5   \n",
       "3       2018-04-26   70000.0         5  [web, email, mobile]           5   \n",
       "4       2017-10-02       NaN         5  [web, email, mobile]           5   \n",
       "\n",
       "   duration offer_type  \n",
       "0         7       bogo  \n",
       "1         7       bogo  \n",
       "2         7       bogo  \n",
       "3         7       bogo  \n",
       "4         7       bogo  "
      ]
     },
     "execution_count": 35,
     "metadata": {},
     "output_type": "execute_result"
    }
   ],
   "source": [
    "trans_pro_port.head()"
   ]
  },
  {
   "cell_type": "code",
   "execution_count": 36,
   "id": "ffdf883b-4977-4a51-a52e-92ec3f7433d3",
   "metadata": {},
   "outputs": [
    {
     "data": {
      "text/plain": [
       "(134002, 16)"
      ]
     },
     "execution_count": 36,
     "metadata": {},
     "output_type": "execute_result"
    }
   ],
   "source": [
    "trans_pro_port.shape"
   ]
  },
  {
   "cell_type": "code",
   "execution_count": 37,
   "id": "6701c047-87af-4182-b948-e08bb7f1b16c",
   "metadata": {},
   "outputs": [
    {
     "data": {
      "text/plain": [
       "(306534, 11)"
      ]
     },
     "execution_count": 37,
     "metadata": {},
     "output_type": "execute_result"
    }
   ],
   "source": [
    "trans_pro.shape"
   ]
  },
  {
   "cell_type": "code",
   "execution_count": 38,
   "id": "9afe8e64-2746-4bb8-930c-1705281e8c24",
   "metadata": {},
   "outputs": [
    {
     "data": {
      "text/plain": [
       "(306534, 7)"
      ]
     },
     "execution_count": 38,
     "metadata": {},
     "output_type": "execute_result"
    }
   ],
   "source": [
    "transcript.shape"
   ]
  },
  {
   "cell_type": "code",
   "execution_count": 39,
   "id": "5783c366-8157-4b1d-a7a9-bfa7c3fc4d2f",
   "metadata": {},
   "outputs": [
    {
     "data": {
      "text/plain": [
       "(17000, 5)"
      ]
     },
     "execution_count": 39,
     "metadata": {},
     "output_type": "execute_result"
    }
   ],
   "source": [
    "profile.shape"
   ]
  },
  {
   "cell_type": "code",
   "execution_count": 40,
   "id": "c7e45777-24da-4da0-a7c0-88a93f456aba",
   "metadata": {},
   "outputs": [
    {
     "data": {
      "text/plain": [
       "(10, 6)"
      ]
     },
     "execution_count": 40,
     "metadata": {},
     "output_type": "execute_result"
    }
   ],
   "source": [
    "portfolio.shape"
   ]
  },
  {
   "cell_type": "code",
   "execution_count": null,
   "id": "9582ea69-0f94-4113-90ee-0317a65f071f",
   "metadata": {},
   "outputs": [],
   "source": []
  }
 ],
 "metadata": {
  "kernelspec": {
   "display_name": "Python 3 (ipykernel)",
   "language": "python",
   "name": "python3"
  },
  "language_info": {
   "codemirror_mode": {
    "name": "ipython",
    "version": 3
   },
   "file_extension": ".py",
   "mimetype": "text/x-python",
   "name": "python",
   "nbconvert_exporter": "python",
   "pygments_lexer": "ipython3",
   "version": "3.8.12"
  },
  "varInspector": {
   "cols": {
    "lenName": 16,
    "lenType": 16,
    "lenVar": 40
   },
   "kernels_config": {
    "python": {
     "delete_cmd_postfix": "",
     "delete_cmd_prefix": "del ",
     "library": "var_list.py",
     "varRefreshCmd": "print(var_dic_list())"
    },
    "r": {
     "delete_cmd_postfix": ") ",
     "delete_cmd_prefix": "rm(",
     "library": "var_list.r",
     "varRefreshCmd": "cat(var_dic_list()) "
    }
   },
   "types_to_exclude": [
    "module",
    "function",
    "builtin_function_or_method",
    "instance",
    "_Feature"
   ],
   "window_display": false
  }
 },
 "nbformat": 4,
 "nbformat_minor": 5
}
