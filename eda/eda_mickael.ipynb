{
 "cells": [
  {
   "cell_type": "code",
   "execution_count": 25,
   "id": "18e25ae8",
   "metadata": {},
   "outputs": [],
   "source": [
    "import numpy as np\n",
    "import pandas as pd\n",
    "from pandas_profiling import ProfileReport\n",
    "import matplotlib.pyplot as plt\n",
    "%matplotlib inline\n",
    "import imp\n",
    "\n",
    "import sys\n",
    "  \n",
    "# adding utils folder to the system path\n",
    "sys.path.insert(0, '../utils')\n",
    "  \n",
    "# importing the utils_main library as utm\n",
    "import utils_main as utm\n",
    "\n",
    "from lifetimes.utils import summary_data_from_transaction_data"
   ]
  },
  {
   "cell_type": "markdown",
   "id": "fd95fe24-9303-45bb-a7e7-413c0c44b38a",
   "metadata": {},
   "source": [
    "# Read files"
   ]
  },
  {
   "cell_type": "code",
   "execution_count": 2,
   "id": "7b3d7dee",
   "metadata": {},
   "outputs": [],
   "source": [
    "portfolio = pd.read_json('./../data/portfolio.json', lines=True)\n",
    "profile = pd.read_json('./../data/profile.json', lines=True)\n",
    "transcript = pd.read_json('./../data/transcript.json', lines=True)"
   ]
  },
  {
   "cell_type": "markdown",
   "id": "116a6af9-bf58-441b-8b60-7a2b23b82484",
   "metadata": {},
   "source": [
    "The data comprises of three separate file described below."
   ]
  },
  {
   "cell_type": "markdown",
   "id": "ddf70ab3-219f-4a25-845e-211733ea0145",
   "metadata": {},
   "source": [
    "# Portfolio data"
   ]
  },
  {
   "cell_type": "markdown",
   "id": "efb1408b-ef37-478c-b93e-f23107db8605",
   "metadata": {},
   "source": [
    "portfolio.json contains information about the ten promotions.\n",
    "* reward is the monetary value of the promotion.\n",
    "* channels is the ways in which the promotion was advertised.\n",
    "* diffculty is the amount the customer needs to spend in order to receive the reward.\n",
    "* duration is the total number of days that the promotion was available.\n",
    "* offer_type is the type of promotion. This is either a money off offer (discount), buy one get one free (BOGO) or\n",
    "a news letter (informational).\n",
    "* id is the promotion identitifcation --> rename as id_promotion\n"
   ]
  },
  {
   "cell_type": "markdown",
   "id": "7d26fe4c-d86e-4c8a-a072-db92e42a629f",
   "metadata": {},
   "source": [
    "Preprocessing:\n",
    "* Created the binary columns from the channels column of type list:\n",
    "    * email column\n",
    "    * mobile column\n",
    "    * social column\n",
    "    * web column\n",
    "* Renamed id column into id_promotion column"
   ]
  },
  {
   "cell_type": "code",
   "execution_count": 86,
   "id": "e6e9279d-b4bf-45b6-9e82-cb832838e6c7",
   "metadata": {},
   "outputs": [
    {
     "data": {
      "text/plain": [
       "<module 'utils_main' from 'C:\\\\Users\\\\BASTAMX2\\\\04_TargetingCustomers_DAIB\\\\TargetingCustomers_DAIB\\\\eda\\\\../utils\\\\utils_main.py'>"
      ]
     },
     "execution_count": 86,
     "metadata": {},
     "output_type": "execute_result"
    }
   ],
   "source": [
    "imp.reload(utm)"
   ]
  },
  {
   "cell_type": "code",
   "execution_count": 87,
   "id": "b2f289db-6a88-455f-80a2-169459ad8861",
   "metadata": {},
   "outputs": [],
   "source": [
    "portfolio, profile, transcript = utm.readFiles(dropUnnecessaryCol = True)"
   ]
  },
  {
   "cell_type": "code",
   "execution_count": 88,
   "id": "5382038c-1e63-4a3b-8351-a13948842750",
   "metadata": {},
   "outputs": [
    {
     "data": {
      "text/html": [
       "<div>\n",
       "<style scoped>\n",
       "    .dataframe tbody tr th:only-of-type {\n",
       "        vertical-align: middle;\n",
       "    }\n",
       "\n",
       "    .dataframe tbody tr th {\n",
       "        vertical-align: top;\n",
       "    }\n",
       "\n",
       "    .dataframe thead th {\n",
       "        text-align: right;\n",
       "    }\n",
       "</style>\n",
       "<table border=\"1\" class=\"dataframe\">\n",
       "  <thead>\n",
       "    <tr style=\"text-align: right;\">\n",
       "      <th></th>\n",
       "      <th>reward</th>\n",
       "      <th>channels</th>\n",
       "      <th>difficulty</th>\n",
       "      <th>duration</th>\n",
       "      <th>offer_type</th>\n",
       "      <th>id_promotion</th>\n",
       "    </tr>\n",
       "  </thead>\n",
       "  <tbody>\n",
       "    <tr>\n",
       "      <th>0</th>\n",
       "      <td>10</td>\n",
       "      <td>[email, mobile, social]</td>\n",
       "      <td>10</td>\n",
       "      <td>7</td>\n",
       "      <td>bogo</td>\n",
       "      <td>ae264e3637204a6fb9bb56bc8210ddfd</td>\n",
       "    </tr>\n",
       "    <tr>\n",
       "      <th>1</th>\n",
       "      <td>10</td>\n",
       "      <td>[web, email, mobile, social]</td>\n",
       "      <td>10</td>\n",
       "      <td>5</td>\n",
       "      <td>bogo</td>\n",
       "      <td>4d5c57ea9a6940dd891ad53e9dbe8da0</td>\n",
       "    </tr>\n",
       "    <tr>\n",
       "      <th>2</th>\n",
       "      <td>0</td>\n",
       "      <td>[web, email, mobile]</td>\n",
       "      <td>0</td>\n",
       "      <td>4</td>\n",
       "      <td>informational</td>\n",
       "      <td>3f207df678b143eea3cee63160fa8bed</td>\n",
       "    </tr>\n",
       "    <tr>\n",
       "      <th>3</th>\n",
       "      <td>5</td>\n",
       "      <td>[web, email, mobile]</td>\n",
       "      <td>5</td>\n",
       "      <td>7</td>\n",
       "      <td>bogo</td>\n",
       "      <td>9b98b8c7a33c4b65b9aebfe6a799e6d9</td>\n",
       "    </tr>\n",
       "    <tr>\n",
       "      <th>4</th>\n",
       "      <td>5</td>\n",
       "      <td>[web, email]</td>\n",
       "      <td>20</td>\n",
       "      <td>10</td>\n",
       "      <td>discount</td>\n",
       "      <td>0b1e1539f2cc45b7b9fa7c272da2e1d7</td>\n",
       "    </tr>\n",
       "    <tr>\n",
       "      <th>5</th>\n",
       "      <td>3</td>\n",
       "      <td>[web, email, mobile, social]</td>\n",
       "      <td>7</td>\n",
       "      <td>7</td>\n",
       "      <td>discount</td>\n",
       "      <td>2298d6c36e964ae4a3e7e9706d1fb8c2</td>\n",
       "    </tr>\n",
       "    <tr>\n",
       "      <th>6</th>\n",
       "      <td>2</td>\n",
       "      <td>[web, email, mobile, social]</td>\n",
       "      <td>10</td>\n",
       "      <td>10</td>\n",
       "      <td>discount</td>\n",
       "      <td>fafdcd668e3743c1bb461111dcafc2a4</td>\n",
       "    </tr>\n",
       "    <tr>\n",
       "      <th>7</th>\n",
       "      <td>0</td>\n",
       "      <td>[email, mobile, social]</td>\n",
       "      <td>0</td>\n",
       "      <td>3</td>\n",
       "      <td>informational</td>\n",
       "      <td>5a8bc65990b245e5a138643cd4eb9837</td>\n",
       "    </tr>\n",
       "    <tr>\n",
       "      <th>8</th>\n",
       "      <td>5</td>\n",
       "      <td>[web, email, mobile, social]</td>\n",
       "      <td>5</td>\n",
       "      <td>5</td>\n",
       "      <td>bogo</td>\n",
       "      <td>f19421c1d4aa40978ebb69ca19b0e20d</td>\n",
       "    </tr>\n",
       "    <tr>\n",
       "      <th>9</th>\n",
       "      <td>2</td>\n",
       "      <td>[web, email, mobile]</td>\n",
       "      <td>10</td>\n",
       "      <td>7</td>\n",
       "      <td>discount</td>\n",
       "      <td>2906b810c7d4411798c6938adc9daaa5</td>\n",
       "    </tr>\n",
       "  </tbody>\n",
       "</table>\n",
       "</div>"
      ],
      "text/plain": [
       "   reward                      channels  difficulty  duration     offer_type  \\\n",
       "0      10       [email, mobile, social]          10         7           bogo   \n",
       "1      10  [web, email, mobile, social]          10         5           bogo   \n",
       "2       0          [web, email, mobile]           0         4  informational   \n",
       "3       5          [web, email, mobile]           5         7           bogo   \n",
       "4       5                  [web, email]          20        10       discount   \n",
       "5       3  [web, email, mobile, social]           7         7       discount   \n",
       "6       2  [web, email, mobile, social]          10        10       discount   \n",
       "7       0       [email, mobile, social]           0         3  informational   \n",
       "8       5  [web, email, mobile, social]           5         5           bogo   \n",
       "9       2          [web, email, mobile]          10         7       discount   \n",
       "\n",
       "                       id_promotion  \n",
       "0  ae264e3637204a6fb9bb56bc8210ddfd  \n",
       "1  4d5c57ea9a6940dd891ad53e9dbe8da0  \n",
       "2  3f207df678b143eea3cee63160fa8bed  \n",
       "3  9b98b8c7a33c4b65b9aebfe6a799e6d9  \n",
       "4  0b1e1539f2cc45b7b9fa7c272da2e1d7  \n",
       "5  2298d6c36e964ae4a3e7e9706d1fb8c2  \n",
       "6  fafdcd668e3743c1bb461111dcafc2a4  \n",
       "7  5a8bc65990b245e5a138643cd4eb9837  \n",
       "8  f19421c1d4aa40978ebb69ca19b0e20d  \n",
       "9  2906b810c7d4411798c6938adc9daaa5  "
      ]
     },
     "execution_count": 88,
     "metadata": {},
     "output_type": "execute_result"
    }
   ],
   "source": [
    "portfolio"
   ]
  },
  {
   "cell_type": "code",
   "execution_count": 89,
   "id": "abbe0b4d-cfd7-4407-9dfc-c41a925d8a3f",
   "metadata": {},
   "outputs": [],
   "source": [
    "portfolio_hot, _, _ = utm.oneHotEncoder(portfolio, profile, transcript, dropUnnecessaryCol = True)"
   ]
  },
  {
   "cell_type": "code",
   "execution_count": 90,
   "id": "6ef14bc4-5120-4c3b-b3ea-60fdbea16915",
   "metadata": {},
   "outputs": [
    {
     "data": {
      "text/html": [
       "<div>\n",
       "<style scoped>\n",
       "    .dataframe tbody tr th:only-of-type {\n",
       "        vertical-align: middle;\n",
       "    }\n",
       "\n",
       "    .dataframe tbody tr th {\n",
       "        vertical-align: top;\n",
       "    }\n",
       "\n",
       "    .dataframe thead th {\n",
       "        text-align: right;\n",
       "    }\n",
       "</style>\n",
       "<table border=\"1\" class=\"dataframe\">\n",
       "  <thead>\n",
       "    <tr style=\"text-align: right;\">\n",
       "      <th></th>\n",
       "      <th>reward</th>\n",
       "      <th>difficulty</th>\n",
       "      <th>duration</th>\n",
       "      <th>id_promotion</th>\n",
       "      <th>email</th>\n",
       "      <th>mobile</th>\n",
       "      <th>social</th>\n",
       "      <th>web</th>\n",
       "      <th>bogo</th>\n",
       "      <th>discount</th>\n",
       "      <th>informational</th>\n",
       "    </tr>\n",
       "  </thead>\n",
       "  <tbody>\n",
       "    <tr>\n",
       "      <th>0</th>\n",
       "      <td>10</td>\n",
       "      <td>10</td>\n",
       "      <td>7</td>\n",
       "      <td>ae264e3637204a6fb9bb56bc8210ddfd</td>\n",
       "      <td>1</td>\n",
       "      <td>1</td>\n",
       "      <td>1</td>\n",
       "      <td>0</td>\n",
       "      <td>1</td>\n",
       "      <td>0</td>\n",
       "      <td>0</td>\n",
       "    </tr>\n",
       "    <tr>\n",
       "      <th>1</th>\n",
       "      <td>10</td>\n",
       "      <td>10</td>\n",
       "      <td>5</td>\n",
       "      <td>4d5c57ea9a6940dd891ad53e9dbe8da0</td>\n",
       "      <td>1</td>\n",
       "      <td>1</td>\n",
       "      <td>1</td>\n",
       "      <td>1</td>\n",
       "      <td>1</td>\n",
       "      <td>0</td>\n",
       "      <td>0</td>\n",
       "    </tr>\n",
       "    <tr>\n",
       "      <th>2</th>\n",
       "      <td>0</td>\n",
       "      <td>0</td>\n",
       "      <td>4</td>\n",
       "      <td>3f207df678b143eea3cee63160fa8bed</td>\n",
       "      <td>1</td>\n",
       "      <td>1</td>\n",
       "      <td>0</td>\n",
       "      <td>1</td>\n",
       "      <td>0</td>\n",
       "      <td>0</td>\n",
       "      <td>1</td>\n",
       "    </tr>\n",
       "    <tr>\n",
       "      <th>3</th>\n",
       "      <td>5</td>\n",
       "      <td>5</td>\n",
       "      <td>7</td>\n",
       "      <td>9b98b8c7a33c4b65b9aebfe6a799e6d9</td>\n",
       "      <td>1</td>\n",
       "      <td>1</td>\n",
       "      <td>0</td>\n",
       "      <td>1</td>\n",
       "      <td>1</td>\n",
       "      <td>0</td>\n",
       "      <td>0</td>\n",
       "    </tr>\n",
       "    <tr>\n",
       "      <th>4</th>\n",
       "      <td>5</td>\n",
       "      <td>20</td>\n",
       "      <td>10</td>\n",
       "      <td>0b1e1539f2cc45b7b9fa7c272da2e1d7</td>\n",
       "      <td>1</td>\n",
       "      <td>0</td>\n",
       "      <td>0</td>\n",
       "      <td>1</td>\n",
       "      <td>0</td>\n",
       "      <td>1</td>\n",
       "      <td>0</td>\n",
       "    </tr>\n",
       "    <tr>\n",
       "      <th>5</th>\n",
       "      <td>3</td>\n",
       "      <td>7</td>\n",
       "      <td>7</td>\n",
       "      <td>2298d6c36e964ae4a3e7e9706d1fb8c2</td>\n",
       "      <td>1</td>\n",
       "      <td>1</td>\n",
       "      <td>1</td>\n",
       "      <td>1</td>\n",
       "      <td>0</td>\n",
       "      <td>1</td>\n",
       "      <td>0</td>\n",
       "    </tr>\n",
       "    <tr>\n",
       "      <th>6</th>\n",
       "      <td>2</td>\n",
       "      <td>10</td>\n",
       "      <td>10</td>\n",
       "      <td>fafdcd668e3743c1bb461111dcafc2a4</td>\n",
       "      <td>1</td>\n",
       "      <td>1</td>\n",
       "      <td>1</td>\n",
       "      <td>1</td>\n",
       "      <td>0</td>\n",
       "      <td>1</td>\n",
       "      <td>0</td>\n",
       "    </tr>\n",
       "    <tr>\n",
       "      <th>7</th>\n",
       "      <td>0</td>\n",
       "      <td>0</td>\n",
       "      <td>3</td>\n",
       "      <td>5a8bc65990b245e5a138643cd4eb9837</td>\n",
       "      <td>1</td>\n",
       "      <td>1</td>\n",
       "      <td>1</td>\n",
       "      <td>0</td>\n",
       "      <td>0</td>\n",
       "      <td>0</td>\n",
       "      <td>1</td>\n",
       "    </tr>\n",
       "    <tr>\n",
       "      <th>8</th>\n",
       "      <td>5</td>\n",
       "      <td>5</td>\n",
       "      <td>5</td>\n",
       "      <td>f19421c1d4aa40978ebb69ca19b0e20d</td>\n",
       "      <td>1</td>\n",
       "      <td>1</td>\n",
       "      <td>1</td>\n",
       "      <td>1</td>\n",
       "      <td>1</td>\n",
       "      <td>0</td>\n",
       "      <td>0</td>\n",
       "    </tr>\n",
       "    <tr>\n",
       "      <th>9</th>\n",
       "      <td>2</td>\n",
       "      <td>10</td>\n",
       "      <td>7</td>\n",
       "      <td>2906b810c7d4411798c6938adc9daaa5</td>\n",
       "      <td>1</td>\n",
       "      <td>1</td>\n",
       "      <td>0</td>\n",
       "      <td>1</td>\n",
       "      <td>0</td>\n",
       "      <td>1</td>\n",
       "      <td>0</td>\n",
       "    </tr>\n",
       "  </tbody>\n",
       "</table>\n",
       "</div>"
      ],
      "text/plain": [
       "   reward  difficulty  duration                      id_promotion  email  \\\n",
       "0      10          10         7  ae264e3637204a6fb9bb56bc8210ddfd      1   \n",
       "1      10          10         5  4d5c57ea9a6940dd891ad53e9dbe8da0      1   \n",
       "2       0           0         4  3f207df678b143eea3cee63160fa8bed      1   \n",
       "3       5           5         7  9b98b8c7a33c4b65b9aebfe6a799e6d9      1   \n",
       "4       5          20        10  0b1e1539f2cc45b7b9fa7c272da2e1d7      1   \n",
       "5       3           7         7  2298d6c36e964ae4a3e7e9706d1fb8c2      1   \n",
       "6       2          10        10  fafdcd668e3743c1bb461111dcafc2a4      1   \n",
       "7       0           0         3  5a8bc65990b245e5a138643cd4eb9837      1   \n",
       "8       5           5         5  f19421c1d4aa40978ebb69ca19b0e20d      1   \n",
       "9       2          10         7  2906b810c7d4411798c6938adc9daaa5      1   \n",
       "\n",
       "   mobile  social  web  bogo  discount  informational  \n",
       "0       1       1    0     1         0              0  \n",
       "1       1       1    1     1         0              0  \n",
       "2       1       0    1     0         0              1  \n",
       "3       1       0    1     1         0              0  \n",
       "4       0       0    1     0         1              0  \n",
       "5       1       1    1     0         1              0  \n",
       "6       1       1    1     0         1              0  \n",
       "7       1       1    0     0         0              1  \n",
       "8       1       1    1     1         0              0  \n",
       "9       1       0    1     0         1              0  "
      ]
     },
     "execution_count": 90,
     "metadata": {},
     "output_type": "execute_result"
    }
   ],
   "source": [
    "portfolio_hot"
   ]
  },
  {
   "cell_type": "code",
   "execution_count": 85,
   "id": "8161d30d-1a12-49b0-ae4e-1f5e1c5888a8",
   "metadata": {},
   "outputs": [
    {
     "data": {
      "text/plain": [
       "(10, 12)"
      ]
     },
     "execution_count": 85,
     "metadata": {},
     "output_type": "execute_result"
    }
   ],
   "source": [
    "portfolio.shape"
   ]
  },
  {
   "cell_type": "code",
   "execution_count": 7,
   "id": "f3cfb0f0-7f51-4a52-8105-b0abdba9a134",
   "metadata": {},
   "outputs": [
    {
     "name": "stdout",
     "output_type": "stream",
     "text": [
      "reward          0\n",
      "difficulty      0\n",
      "duration        0\n",
      "offer_type      0\n",
      "id_promotion    0\n",
      "email           0\n",
      "mobile          0\n",
      "social          0\n",
      "web             0\n",
      "dtype: int64\n"
     ]
    }
   ],
   "source": [
    "print(portfolio.isnull().sum())"
   ]
  },
  {
   "cell_type": "code",
   "execution_count": 8,
   "id": "c94e4bd2-9af3-4e0f-96c0-1c75b7ddcf1c",
   "metadata": {},
   "outputs": [
    {
     "name": "stdout",
     "output_type": "stream",
     "text": [
      "reward          0\n",
      "difficulty      0\n",
      "duration        0\n",
      "offer_type      0\n",
      "id_promotion    0\n",
      "email           0\n",
      "mobile          0\n",
      "social          0\n",
      "web             0\n",
      "dtype: int64\n"
     ]
    }
   ],
   "source": [
    "print(portfolio.isna().sum())"
   ]
  },
  {
   "cell_type": "code",
   "execution_count": 9,
   "id": "b8d24c2a-fde3-4dac-b57f-f400d831d69d",
   "metadata": {},
   "outputs": [
    {
     "data": {
      "text/plain": [
       "reward           int64\n",
       "difficulty       int64\n",
       "duration         int64\n",
       "offer_type      object\n",
       "id_promotion    object\n",
       "email            int64\n",
       "mobile           int64\n",
       "social           int64\n",
       "web              int64\n",
       "dtype: object"
      ]
     },
     "execution_count": 9,
     "metadata": {},
     "output_type": "execute_result"
    }
   ],
   "source": [
    "portfolio.dtypes"
   ]
  },
  {
   "cell_type": "code",
   "execution_count": 10,
   "id": "dd7421ab-1501-4174-985e-2047190ae9d9",
   "metadata": {},
   "outputs": [
    {
     "data": {
      "application/vnd.jupyter.widget-view+json": {
       "model_id": "8174ff8153094d74952b0ec769ad5a60",
       "version_major": 2,
       "version_minor": 0
      },
      "text/plain": [
       "Summarize dataset:   0%|          | 0/5 [00:00<?, ?it/s]"
      ]
     },
     "metadata": {},
     "output_type": "display_data"
    },
    {
     "data": {
      "application/vnd.jupyter.widget-view+json": {
       "model_id": "947fb2fb73684ff09e1d5062cd6183eb",
       "version_major": 2,
       "version_minor": 0
      },
      "text/plain": [
       "Generate report structure:   0%|          | 0/1 [00:00<?, ?it/s]"
      ]
     },
     "metadata": {},
     "output_type": "display_data"
    },
    {
     "data": {
      "application/vnd.jupyter.widget-view+json": {
       "model_id": "0b4aeafdcfd14336a82cbca47523f112",
       "version_major": 2,
       "version_minor": 0
      },
      "text/plain": [
       "Render HTML:   0%|          | 0/1 [00:00<?, ?it/s]"
      ]
     },
     "metadata": {},
     "output_type": "display_data"
    },
    {
     "data": {
      "application/vnd.jupyter.widget-view+json": {
       "model_id": "f1db4718ca6a4d06b8d61231d2096986",
       "version_major": 2,
       "version_minor": 0
      },
      "text/plain": [
       "Export report to file:   0%|          | 0/1 [00:00<?, ?it/s]"
      ]
     },
     "metadata": {},
     "output_type": "display_data"
    }
   ],
   "source": [
    "portfolio_report = ProfileReport(portfolio)\n",
    "portfolio_report.to_file(\"reports/portfolio.html\")\n",
    "#portfolio_report"
   ]
  },
  {
   "cell_type": "markdown",
   "id": "0b6cf2d7-d152-4f41-a19a-165638282d89",
   "metadata": {},
   "source": [
    "# Profile data"
   ]
  },
  {
   "cell_type": "markdown",
   "id": "55e32ca6-bfc6-44e3-9b34-da5551940aaa",
   "metadata": {},
   "source": [
    "profile.json contains information about customers.\n",
    "* gender is the identified gender of the customer.\n",
    "* age is the age of the customer at the time of the promotion period.\n",
    "* id is the customer membership identification --> rename as id_membership\n",
    "* became_member is the date when the customer became a member.\n",
    "* income is the self reported income of the customer at the time of the promotion period.\n"
   ]
  },
  {
   "cell_type": "markdown",
   "id": "f225957a-6e4a-4086-aeab-a5a563533fd9",
   "metadata": {},
   "source": [
    "Assumption:\n",
    "* You can assume that all customers were members before the promotional period began"
   ]
  },
  {
   "cell_type": "markdown",
   "id": "ec7cecfc-b65f-417f-bfce-8e600c14680d",
   "metadata": {},
   "source": [
    "Preprocessing:\n",
    "* Changes format of the \"became_member_on\" column from int to datetime64[ns]\n",
    "* Renamed id column into id_membership column"
   ]
  },
  {
   "cell_type": "markdown",
   "id": "b21c9d71-43fb-42bd-997f-76992491670c",
   "metadata": {},
   "source": [
    "Things to do:\n",
    "*  Since in this case we want the cluster customers, someone who joined in say March 2015 would have a longer membership than someone who joined say March 2018 and therefore the important aspect here may be the 'length of membership'."
   ]
  },
  {
   "cell_type": "markdown",
   "id": "82d3da51-1719-491f-a4c3-f6b2923fd7c1",
   "metadata": {},
   "source": [
    "Observation:\n",
    "*  all the persons with **age 118** have their gender set to None  and their incomes set to NaN. Probably, these are persons who did not want to share their personal informations to the seller. While analysing this group later on, we notice that these persons tend to spend less than others if we look at the sumamry statistics of the total average spend per customer."
   ]
  },
  {
   "cell_type": "code",
   "execution_count": 99,
   "id": "416b8775-8642-49bc-9eac-a1d3d09f676e",
   "metadata": {},
   "outputs": [
    {
     "data": {
      "text/plain": [
       "<module 'utils_main' from 'C:\\\\Users\\\\BASTAMX2\\\\04_TargetingCustomers_DAIB\\\\TargetingCustomers_DAIB\\\\eda\\\\../utils\\\\utils_main.py'>"
      ]
     },
     "execution_count": 99,
     "metadata": {},
     "output_type": "execute_result"
    }
   ],
   "source": [
    "imp.reload(utm)"
   ]
  },
  {
   "cell_type": "code",
   "execution_count": 102,
   "id": "d4184712-6590-40aa-b407-9115a612c36f",
   "metadata": {},
   "outputs": [],
   "source": [
    "portfolio, profile, transcript = utm.readFiles(dropUnnecessaryCol = True)"
   ]
  },
  {
   "cell_type": "code",
   "execution_count": 110,
   "id": "bd2ae43b",
   "metadata": {},
   "outputs": [
    {
     "data": {
      "text/html": [
       "<div>\n",
       "<style scoped>\n",
       "    .dataframe tbody tr th:only-of-type {\n",
       "        vertical-align: middle;\n",
       "    }\n",
       "\n",
       "    .dataframe tbody tr th {\n",
       "        vertical-align: top;\n",
       "    }\n",
       "\n",
       "    .dataframe thead th {\n",
       "        text-align: right;\n",
       "    }\n",
       "</style>\n",
       "<table border=\"1\" class=\"dataframe\">\n",
       "  <thead>\n",
       "    <tr style=\"text-align: right;\">\n",
       "      <th></th>\n",
       "      <th>gender</th>\n",
       "      <th>age</th>\n",
       "      <th>id_membership</th>\n",
       "      <th>became_member_on</th>\n",
       "      <th>income</th>\n",
       "      <th>year_joined</th>\n",
       "    </tr>\n",
       "  </thead>\n",
       "  <tbody>\n",
       "    <tr>\n",
       "      <th>0</th>\n",
       "      <td>NA</td>\n",
       "      <td>118</td>\n",
       "      <td>68be06ca386d4c31939f3a4f0e3dd783</td>\n",
       "      <td>2017-02-12</td>\n",
       "      <td>NaN</td>\n",
       "      <td>2017</td>\n",
       "    </tr>\n",
       "    <tr>\n",
       "      <th>1</th>\n",
       "      <td>F</td>\n",
       "      <td>55</td>\n",
       "      <td>0610b486422d4921ae7d2bf64640c50b</td>\n",
       "      <td>2017-07-15</td>\n",
       "      <td>112000.0</td>\n",
       "      <td>2017</td>\n",
       "    </tr>\n",
       "    <tr>\n",
       "      <th>2</th>\n",
       "      <td>NA</td>\n",
       "      <td>118</td>\n",
       "      <td>38fe809add3b4fcf9315a9694bb96ff5</td>\n",
       "      <td>2018-07-12</td>\n",
       "      <td>NaN</td>\n",
       "      <td>2018</td>\n",
       "    </tr>\n",
       "    <tr>\n",
       "      <th>3</th>\n",
       "      <td>F</td>\n",
       "      <td>75</td>\n",
       "      <td>78afa995795e4d85b5d9ceeca43f5fef</td>\n",
       "      <td>2017-05-09</td>\n",
       "      <td>100000.0</td>\n",
       "      <td>2017</td>\n",
       "    </tr>\n",
       "    <tr>\n",
       "      <th>4</th>\n",
       "      <td>NA</td>\n",
       "      <td>118</td>\n",
       "      <td>a03223e636434f42ac4c3df47e8bac43</td>\n",
       "      <td>2017-08-04</td>\n",
       "      <td>NaN</td>\n",
       "      <td>2017</td>\n",
       "    </tr>\n",
       "    <tr>\n",
       "      <th>...</th>\n",
       "      <td>...</td>\n",
       "      <td>...</td>\n",
       "      <td>...</td>\n",
       "      <td>...</td>\n",
       "      <td>...</td>\n",
       "      <td>...</td>\n",
       "    </tr>\n",
       "    <tr>\n",
       "      <th>16995</th>\n",
       "      <td>F</td>\n",
       "      <td>45</td>\n",
       "      <td>6d5f3a774f3d4714ab0c092238f3a1d7</td>\n",
       "      <td>2018-06-04</td>\n",
       "      <td>54000.0</td>\n",
       "      <td>2018</td>\n",
       "    </tr>\n",
       "    <tr>\n",
       "      <th>16996</th>\n",
       "      <td>M</td>\n",
       "      <td>61</td>\n",
       "      <td>2cb4f97358b841b9a9773a7aa05a9d77</td>\n",
       "      <td>2018-07-13</td>\n",
       "      <td>72000.0</td>\n",
       "      <td>2018</td>\n",
       "    </tr>\n",
       "    <tr>\n",
       "      <th>16997</th>\n",
       "      <td>M</td>\n",
       "      <td>49</td>\n",
       "      <td>01d26f638c274aa0b965d24cefe3183f</td>\n",
       "      <td>2017-01-26</td>\n",
       "      <td>73000.0</td>\n",
       "      <td>2017</td>\n",
       "    </tr>\n",
       "    <tr>\n",
       "      <th>16998</th>\n",
       "      <td>F</td>\n",
       "      <td>83</td>\n",
       "      <td>9dc1421481194dcd9400aec7c9ae6366</td>\n",
       "      <td>2016-03-07</td>\n",
       "      <td>50000.0</td>\n",
       "      <td>2016</td>\n",
       "    </tr>\n",
       "    <tr>\n",
       "      <th>16999</th>\n",
       "      <td>F</td>\n",
       "      <td>62</td>\n",
       "      <td>e4052622e5ba45a8b96b59aba68cf068</td>\n",
       "      <td>2017-07-22</td>\n",
       "      <td>82000.0</td>\n",
       "      <td>2017</td>\n",
       "    </tr>\n",
       "  </tbody>\n",
       "</table>\n",
       "<p>17000 rows × 6 columns</p>\n",
       "</div>"
      ],
      "text/plain": [
       "      gender  age                     id_membership became_member_on  \\\n",
       "0         NA  118  68be06ca386d4c31939f3a4f0e3dd783       2017-02-12   \n",
       "1          F   55  0610b486422d4921ae7d2bf64640c50b       2017-07-15   \n",
       "2         NA  118  38fe809add3b4fcf9315a9694bb96ff5       2018-07-12   \n",
       "3          F   75  78afa995795e4d85b5d9ceeca43f5fef       2017-05-09   \n",
       "4         NA  118  a03223e636434f42ac4c3df47e8bac43       2017-08-04   \n",
       "...      ...  ...                               ...              ...   \n",
       "16995      F   45  6d5f3a774f3d4714ab0c092238f3a1d7       2018-06-04   \n",
       "16996      M   61  2cb4f97358b841b9a9773a7aa05a9d77       2018-07-13   \n",
       "16997      M   49  01d26f638c274aa0b965d24cefe3183f       2017-01-26   \n",
       "16998      F   83  9dc1421481194dcd9400aec7c9ae6366       2016-03-07   \n",
       "16999      F   62  e4052622e5ba45a8b96b59aba68cf068       2017-07-22   \n",
       "\n",
       "         income year_joined  \n",
       "0           NaN        2017  \n",
       "1      112000.0        2017  \n",
       "2           NaN        2018  \n",
       "3      100000.0        2017  \n",
       "4           NaN        2017  \n",
       "...         ...         ...  \n",
       "16995   54000.0        2018  \n",
       "16996   72000.0        2018  \n",
       "16997   73000.0        2017  \n",
       "16998   50000.0        2016  \n",
       "16999   82000.0        2017  \n",
       "\n",
       "[17000 rows x 6 columns]"
      ]
     },
     "execution_count": 110,
     "metadata": {},
     "output_type": "execute_result"
    }
   ],
   "source": [
    "profile"
   ]
  },
  {
   "cell_type": "code",
   "execution_count": 104,
   "id": "98d497be-f363-4fa4-ba3b-e0f31e556c60",
   "metadata": {},
   "outputs": [],
   "source": [
    "_, profile_hot, _ = utm.oneHotEncoder(portfolio, profile, transcript, dropUnnecessaryCol = True)"
   ]
  },
  {
   "cell_type": "code",
   "execution_count": 109,
   "id": "5321e160-af59-4b5a-bbcd-67ac895a051c",
   "metadata": {},
   "outputs": [
    {
     "data": {
      "text/html": [
       "<div>\n",
       "<style scoped>\n",
       "    .dataframe tbody tr th:only-of-type {\n",
       "        vertical-align: middle;\n",
       "    }\n",
       "\n",
       "    .dataframe tbody tr th {\n",
       "        vertical-align: top;\n",
       "    }\n",
       "\n",
       "    .dataframe thead th {\n",
       "        text-align: right;\n",
       "    }\n",
       "</style>\n",
       "<table border=\"1\" class=\"dataframe\">\n",
       "  <thead>\n",
       "    <tr style=\"text-align: right;\">\n",
       "      <th></th>\n",
       "      <th>age</th>\n",
       "      <th>id_membership</th>\n",
       "      <th>income</th>\n",
       "      <th>gender_F</th>\n",
       "      <th>gender_M</th>\n",
       "      <th>gender_NA</th>\n",
       "      <th>gender_O</th>\n",
       "      <th>year_joined_2013</th>\n",
       "      <th>year_joined_2014</th>\n",
       "      <th>year_joined_2015</th>\n",
       "      <th>year_joined_2016</th>\n",
       "      <th>year_joined_2017</th>\n",
       "      <th>year_joined_2018</th>\n",
       "    </tr>\n",
       "  </thead>\n",
       "  <tbody>\n",
       "    <tr>\n",
       "      <th>0</th>\n",
       "      <td>118</td>\n",
       "      <td>68be06ca386d4c31939f3a4f0e3dd783</td>\n",
       "      <td>NaN</td>\n",
       "      <td>0</td>\n",
       "      <td>0</td>\n",
       "      <td>1</td>\n",
       "      <td>0</td>\n",
       "      <td>0</td>\n",
       "      <td>0</td>\n",
       "      <td>0</td>\n",
       "      <td>0</td>\n",
       "      <td>1</td>\n",
       "      <td>0</td>\n",
       "    </tr>\n",
       "    <tr>\n",
       "      <th>1</th>\n",
       "      <td>55</td>\n",
       "      <td>0610b486422d4921ae7d2bf64640c50b</td>\n",
       "      <td>112000.0</td>\n",
       "      <td>1</td>\n",
       "      <td>0</td>\n",
       "      <td>0</td>\n",
       "      <td>0</td>\n",
       "      <td>0</td>\n",
       "      <td>0</td>\n",
       "      <td>0</td>\n",
       "      <td>0</td>\n",
       "      <td>1</td>\n",
       "      <td>0</td>\n",
       "    </tr>\n",
       "    <tr>\n",
       "      <th>2</th>\n",
       "      <td>118</td>\n",
       "      <td>38fe809add3b4fcf9315a9694bb96ff5</td>\n",
       "      <td>NaN</td>\n",
       "      <td>0</td>\n",
       "      <td>0</td>\n",
       "      <td>1</td>\n",
       "      <td>0</td>\n",
       "      <td>0</td>\n",
       "      <td>0</td>\n",
       "      <td>0</td>\n",
       "      <td>0</td>\n",
       "      <td>0</td>\n",
       "      <td>1</td>\n",
       "    </tr>\n",
       "    <tr>\n",
       "      <th>3</th>\n",
       "      <td>75</td>\n",
       "      <td>78afa995795e4d85b5d9ceeca43f5fef</td>\n",
       "      <td>100000.0</td>\n",
       "      <td>1</td>\n",
       "      <td>0</td>\n",
       "      <td>0</td>\n",
       "      <td>0</td>\n",
       "      <td>0</td>\n",
       "      <td>0</td>\n",
       "      <td>0</td>\n",
       "      <td>0</td>\n",
       "      <td>1</td>\n",
       "      <td>0</td>\n",
       "    </tr>\n",
       "    <tr>\n",
       "      <th>4</th>\n",
       "      <td>118</td>\n",
       "      <td>a03223e636434f42ac4c3df47e8bac43</td>\n",
       "      <td>NaN</td>\n",
       "      <td>0</td>\n",
       "      <td>0</td>\n",
       "      <td>1</td>\n",
       "      <td>0</td>\n",
       "      <td>0</td>\n",
       "      <td>0</td>\n",
       "      <td>0</td>\n",
       "      <td>0</td>\n",
       "      <td>1</td>\n",
       "      <td>0</td>\n",
       "    </tr>\n",
       "    <tr>\n",
       "      <th>...</th>\n",
       "      <td>...</td>\n",
       "      <td>...</td>\n",
       "      <td>...</td>\n",
       "      <td>...</td>\n",
       "      <td>...</td>\n",
       "      <td>...</td>\n",
       "      <td>...</td>\n",
       "      <td>...</td>\n",
       "      <td>...</td>\n",
       "      <td>...</td>\n",
       "      <td>...</td>\n",
       "      <td>...</td>\n",
       "      <td>...</td>\n",
       "    </tr>\n",
       "    <tr>\n",
       "      <th>16995</th>\n",
       "      <td>45</td>\n",
       "      <td>6d5f3a774f3d4714ab0c092238f3a1d7</td>\n",
       "      <td>54000.0</td>\n",
       "      <td>1</td>\n",
       "      <td>0</td>\n",
       "      <td>0</td>\n",
       "      <td>0</td>\n",
       "      <td>0</td>\n",
       "      <td>0</td>\n",
       "      <td>0</td>\n",
       "      <td>0</td>\n",
       "      <td>0</td>\n",
       "      <td>1</td>\n",
       "    </tr>\n",
       "    <tr>\n",
       "      <th>16996</th>\n",
       "      <td>61</td>\n",
       "      <td>2cb4f97358b841b9a9773a7aa05a9d77</td>\n",
       "      <td>72000.0</td>\n",
       "      <td>0</td>\n",
       "      <td>1</td>\n",
       "      <td>0</td>\n",
       "      <td>0</td>\n",
       "      <td>0</td>\n",
       "      <td>0</td>\n",
       "      <td>0</td>\n",
       "      <td>0</td>\n",
       "      <td>0</td>\n",
       "      <td>1</td>\n",
       "    </tr>\n",
       "    <tr>\n",
       "      <th>16997</th>\n",
       "      <td>49</td>\n",
       "      <td>01d26f638c274aa0b965d24cefe3183f</td>\n",
       "      <td>73000.0</td>\n",
       "      <td>0</td>\n",
       "      <td>1</td>\n",
       "      <td>0</td>\n",
       "      <td>0</td>\n",
       "      <td>0</td>\n",
       "      <td>0</td>\n",
       "      <td>0</td>\n",
       "      <td>0</td>\n",
       "      <td>1</td>\n",
       "      <td>0</td>\n",
       "    </tr>\n",
       "    <tr>\n",
       "      <th>16998</th>\n",
       "      <td>83</td>\n",
       "      <td>9dc1421481194dcd9400aec7c9ae6366</td>\n",
       "      <td>50000.0</td>\n",
       "      <td>1</td>\n",
       "      <td>0</td>\n",
       "      <td>0</td>\n",
       "      <td>0</td>\n",
       "      <td>0</td>\n",
       "      <td>0</td>\n",
       "      <td>0</td>\n",
       "      <td>1</td>\n",
       "      <td>0</td>\n",
       "      <td>0</td>\n",
       "    </tr>\n",
       "    <tr>\n",
       "      <th>16999</th>\n",
       "      <td>62</td>\n",
       "      <td>e4052622e5ba45a8b96b59aba68cf068</td>\n",
       "      <td>82000.0</td>\n",
       "      <td>1</td>\n",
       "      <td>0</td>\n",
       "      <td>0</td>\n",
       "      <td>0</td>\n",
       "      <td>0</td>\n",
       "      <td>0</td>\n",
       "      <td>0</td>\n",
       "      <td>0</td>\n",
       "      <td>1</td>\n",
       "      <td>0</td>\n",
       "    </tr>\n",
       "  </tbody>\n",
       "</table>\n",
       "<p>17000 rows × 13 columns</p>\n",
       "</div>"
      ],
      "text/plain": [
       "       age                     id_membership    income  gender_F  gender_M  \\\n",
       "0      118  68be06ca386d4c31939f3a4f0e3dd783       NaN         0         0   \n",
       "1       55  0610b486422d4921ae7d2bf64640c50b  112000.0         1         0   \n",
       "2      118  38fe809add3b4fcf9315a9694bb96ff5       NaN         0         0   \n",
       "3       75  78afa995795e4d85b5d9ceeca43f5fef  100000.0         1         0   \n",
       "4      118  a03223e636434f42ac4c3df47e8bac43       NaN         0         0   \n",
       "...    ...                               ...       ...       ...       ...   \n",
       "16995   45  6d5f3a774f3d4714ab0c092238f3a1d7   54000.0         1         0   \n",
       "16996   61  2cb4f97358b841b9a9773a7aa05a9d77   72000.0         0         1   \n",
       "16997   49  01d26f638c274aa0b965d24cefe3183f   73000.0         0         1   \n",
       "16998   83  9dc1421481194dcd9400aec7c9ae6366   50000.0         1         0   \n",
       "16999   62  e4052622e5ba45a8b96b59aba68cf068   82000.0         1         0   \n",
       "\n",
       "       gender_NA  gender_O  year_joined_2013  year_joined_2014  \\\n",
       "0              1         0                 0                 0   \n",
       "1              0         0                 0                 0   \n",
       "2              1         0                 0                 0   \n",
       "3              0         0                 0                 0   \n",
       "4              1         0                 0                 0   \n",
       "...          ...       ...               ...               ...   \n",
       "16995          0         0                 0                 0   \n",
       "16996          0         0                 0                 0   \n",
       "16997          0         0                 0                 0   \n",
       "16998          0         0                 0                 0   \n",
       "16999          0         0                 0                 0   \n",
       "\n",
       "       year_joined_2015  year_joined_2016  year_joined_2017  year_joined_2018  \n",
       "0                     0                 0                 1                 0  \n",
       "1                     0                 0                 1                 0  \n",
       "2                     0                 0                 0                 1  \n",
       "3                     0                 0                 1                 0  \n",
       "4                     0                 0                 1                 0  \n",
       "...                 ...               ...               ...               ...  \n",
       "16995                 0                 0                 0                 1  \n",
       "16996                 0                 0                 0                 1  \n",
       "16997                 0                 0                 1                 0  \n",
       "16998                 0                 1                 0                 0  \n",
       "16999                 0                 0                 1                 0  \n",
       "\n",
       "[17000 rows x 13 columns]"
      ]
     },
     "execution_count": 109,
     "metadata": {},
     "output_type": "execute_result"
    }
   ],
   "source": [
    "profile_hot"
   ]
  },
  {
   "cell_type": "markdown",
   "id": "472f49cd-320e-426b-a652-f68dce833683",
   "metadata": {},
   "source": [
    "All the persons with **age 118** seem to have their gender set to None  and their incomes set to NaN. Lets double check that"
   ]
  },
  {
   "cell_type": "code",
   "execution_count": 13,
   "id": "c5f009c0-881a-4bd0-bc1c-aa8c35630a11",
   "metadata": {},
   "outputs": [
    {
     "data": {
      "text/plain": [
       "2175"
      ]
     },
     "execution_count": 13,
     "metadata": {},
     "output_type": "execute_result"
    }
   ],
   "source": [
    "sum(profile.age==118)"
   ]
  },
  {
   "cell_type": "code",
   "execution_count": 14,
   "id": "f1d6dfb1-f28b-4ec9-b77c-cf3e573d7835",
   "metadata": {},
   "outputs": [
    {
     "data": {
      "text/plain": [
       "2175"
      ]
     },
     "execution_count": 14,
     "metadata": {},
     "output_type": "execute_result"
    }
   ],
   "source": [
    "sum(profile.income.isna())"
   ]
  },
  {
   "cell_type": "code",
   "execution_count": 15,
   "id": "32af523e-ae4b-487b-a8cf-4986673d6bf7",
   "metadata": {},
   "outputs": [
    {
     "data": {
      "text/plain": [
       "2175"
      ]
     },
     "execution_count": 15,
     "metadata": {},
     "output_type": "execute_result"
    }
   ],
   "source": [
    "sum(profile.gender.isna())"
   ]
  },
  {
   "cell_type": "code",
   "execution_count": 16,
   "id": "325ce036-df36-4119-ba40-36564017d71e",
   "metadata": {},
   "outputs": [
    {
     "data": {
      "text/plain": [
       "(17000, 5)"
      ]
     },
     "execution_count": 16,
     "metadata": {},
     "output_type": "execute_result"
    }
   ],
   "source": [
    "profile.shape"
   ]
  },
  {
   "cell_type": "code",
   "execution_count": 17,
   "id": "f128589c-feef-4883-8f3e-df967f60131a",
   "metadata": {},
   "outputs": [
    {
     "data": {
      "text/plain": [
       "17000"
      ]
     },
     "execution_count": 17,
     "metadata": {},
     "output_type": "execute_result"
    }
   ],
   "source": [
    "sum(profile.income.isna() == profile.gender.isna())"
   ]
  },
  {
   "cell_type": "code",
   "execution_count": 18,
   "id": "83ff1005-f6d6-445d-8c6d-0dc4c8b50744",
   "metadata": {},
   "outputs": [
    {
     "data": {
      "text/plain": [
       "17000"
      ]
     },
     "execution_count": 18,
     "metadata": {},
     "output_type": "execute_result"
    }
   ],
   "source": [
    "sum((profile.age==118) == (profile.gender.isna()))"
   ]
  },
  {
   "cell_type": "code",
   "execution_count": 19,
   "id": "06c8ad8f-cf77-4f95-893a-9575db51d6b1",
   "metadata": {},
   "outputs": [
    {
     "data": {
      "text/plain": [
       "gender                      object\n",
       "age                          int64\n",
       "id_membership               object\n",
       "became_member_on    datetime64[ns]\n",
       "income                     float64\n",
       "dtype: object"
      ]
     },
     "execution_count": 19,
     "metadata": {},
     "output_type": "execute_result"
    }
   ],
   "source": [
    "profile.dtypes"
   ]
  },
  {
   "cell_type": "code",
   "execution_count": 20,
   "id": "03ef5493-e821-4d05-a2d7-93011beb5acc",
   "metadata": {},
   "outputs": [
    {
     "name": "stdout",
     "output_type": "stream",
     "text": [
      "gender              2175\n",
      "age                    0\n",
      "id_membership          0\n",
      "became_member_on       0\n",
      "income              2175\n",
      "dtype: int64\n"
     ]
    }
   ],
   "source": [
    "print(profile.isnull().sum())"
   ]
  },
  {
   "cell_type": "code",
   "execution_count": 21,
   "id": "b27129da-4d40-427e-9470-2b00e43bdf07",
   "metadata": {},
   "outputs": [
    {
     "name": "stdout",
     "output_type": "stream",
     "text": [
      "gender              2175\n",
      "age                    0\n",
      "id_membership          0\n",
      "became_member_on       0\n",
      "income              2175\n",
      "dtype: int64\n"
     ]
    }
   ],
   "source": [
    "print(profile.isna().sum())"
   ]
  },
  {
   "cell_type": "code",
   "execution_count": 22,
   "id": "1fabb761-0885-4367-bb07-e3f21c0dbf9f",
   "metadata": {},
   "outputs": [
    {
     "data": {
      "application/vnd.jupyter.widget-view+json": {
       "model_id": "77123ea6a0094b36a7ef782e92ddf7d7",
       "version_major": 2,
       "version_minor": 0
      },
      "text/plain": [
       "Summarize dataset:   0%|          | 0/5 [00:00<?, ?it/s]"
      ]
     },
     "metadata": {},
     "output_type": "display_data"
    },
    {
     "data": {
      "application/vnd.jupyter.widget-view+json": {
       "model_id": "abd8aad96ab949bca4abbddb6563e19c",
       "version_major": 2,
       "version_minor": 0
      },
      "text/plain": [
       "Generate report structure:   0%|          | 0/1 [00:00<?, ?it/s]"
      ]
     },
     "metadata": {},
     "output_type": "display_data"
    },
    {
     "data": {
      "application/vnd.jupyter.widget-view+json": {
       "model_id": "6daff7a3462f41a3aca86a6328005425",
       "version_major": 2,
       "version_minor": 0
      },
      "text/plain": [
       "Render HTML:   0%|          | 0/1 [00:00<?, ?it/s]"
      ]
     },
     "metadata": {},
     "output_type": "display_data"
    },
    {
     "data": {
      "application/vnd.jupyter.widget-view+json": {
       "model_id": "dcc448e2a8c54b6ea49254b2111b752a",
       "version_major": 2,
       "version_minor": 0
      },
      "text/plain": [
       "Export report to file:   0%|          | 0/1 [00:00<?, ?it/s]"
      ]
     },
     "metadata": {},
     "output_type": "display_data"
    }
   ],
   "source": [
    "profile_report = ProfileReport(profile)\n",
    "profile_report.to_file(\"reports/profile.html\")\n",
    "#profile_report"
   ]
  },
  {
   "cell_type": "markdown",
   "id": "1ac8c778-68f2-4840-8b40-bf457fa80fe9",
   "metadata": {},
   "source": [
    "# Transcript data"
   ]
  },
  {
   "cell_type": "markdown",
   "id": "f4b2efc8-0a6a-44a3-bec2-1f7e63d6355a",
   "metadata": {},
   "source": [
    "transactions.json contains information specific transaction across the promotion period.\n",
    "* person is the customer membership identification --> renamed id_membership\n",
    "* event is the event - either offer received, offer viewed, offer complete or transaction.\n",
    "* value.offer.id is the promotion identification for received offers --> renamed id_promotion_rec\n",
    "* value.amount is the amount spent in GBP for a given transaction.\n",
    "* value.offer_id is the promotion identification for completed offers --> renamed id_promotion_comp\n",
    "* value.reward is the monetary value of the promotion.\n",
    "* time is the time from the beginning of the promotion period."
   ]
  },
  {
   "cell_type": "markdown",
   "id": "9b08d57b-5d01-4967-99a7-a2b53ebb8e80",
   "metadata": {
    "jp-MarkdownHeadingCollapsed": true,
    "tags": []
   },
   "source": [
    "Preprocessing:\n",
    "* Extracted values from the \"value\" dictionnary column into:\n",
    "    * id_promotion_rec column for received offers\n",
    "    * id_promotion_comp column for completed offers\n",
    "    * amount column\n",
    "    * reward column for completed offers\n",
    "* Renamed person column into id_membership column\n",
    "* Renamed value.offer.id column into id_promotion column"
   ]
  },
  {
   "cell_type": "code",
   "execution_count": 111,
   "id": "c41dcb2d-125d-4cdd-84a4-26d0f60d78a6",
   "metadata": {
    "tags": []
   },
   "outputs": [
    {
     "data": {
      "text/plain": [
       "<module 'utils_main' from 'C:\\\\Users\\\\BASTAMX2\\\\04_TargetingCustomers_DAIB\\\\TargetingCustomers_DAIB\\\\eda\\\\../utils\\\\utils_main.py'>"
      ]
     },
     "execution_count": 111,
     "metadata": {},
     "output_type": "execute_result"
    }
   ],
   "source": [
    "imp.reload(utm)"
   ]
  },
  {
   "cell_type": "code",
   "execution_count": 2,
   "id": "1587ad2b-4d0f-4df3-86f6-1209b4ae42ea",
   "metadata": {},
   "outputs": [],
   "source": [
    "portfolio, profile, transcript = utm.readFiles(dropUnnecessaryCol = True)"
   ]
  },
  {
   "cell_type": "code",
   "execution_count": 113,
   "id": "a0aebcb0-8d01-47ed-a265-abd46b8be0a3",
   "metadata": {},
   "outputs": [],
   "source": [
    "#transcript[transcript.id_membership == \"ffff82501cea40309d5fdd7edcca4a07\"]"
   ]
  },
  {
   "cell_type": "code",
   "execution_count": 3,
   "id": "e8c968ca-0211-4ae5-81a0-5439d7375f25",
   "metadata": {},
   "outputs": [
    {
     "data": {
      "text/html": [
       "<div>\n",
       "<style scoped>\n",
       "    .dataframe tbody tr th:only-of-type {\n",
       "        vertical-align: middle;\n",
       "    }\n",
       "\n",
       "    .dataframe tbody tr th {\n",
       "        vertical-align: top;\n",
       "    }\n",
       "\n",
       "    .dataframe thead th {\n",
       "        text-align: right;\n",
       "    }\n",
       "</style>\n",
       "<table border=\"1\" class=\"dataframe\">\n",
       "  <thead>\n",
       "    <tr style=\"text-align: right;\">\n",
       "      <th></th>\n",
       "      <th>id_membership</th>\n",
       "      <th>event</th>\n",
       "      <th>time</th>\n",
       "      <th>id_promotion_rec</th>\n",
       "      <th>id_promotion_comp</th>\n",
       "      <th>amount</th>\n",
       "      <th>reward</th>\n",
       "    </tr>\n",
       "  </thead>\n",
       "  <tbody>\n",
       "    <tr>\n",
       "      <th>0</th>\n",
       "      <td>78afa995795e4d85b5d9ceeca43f5fef</td>\n",
       "      <td>offer received</td>\n",
       "      <td>0</td>\n",
       "      <td>9b98b8c7a33c4b65b9aebfe6a799e6d9</td>\n",
       "      <td></td>\n",
       "      <td>0.0</td>\n",
       "      <td>0</td>\n",
       "    </tr>\n",
       "    <tr>\n",
       "      <th>1</th>\n",
       "      <td>a03223e636434f42ac4c3df47e8bac43</td>\n",
       "      <td>offer received</td>\n",
       "      <td>0</td>\n",
       "      <td>0b1e1539f2cc45b7b9fa7c272da2e1d7</td>\n",
       "      <td></td>\n",
       "      <td>0.0</td>\n",
       "      <td>0</td>\n",
       "    </tr>\n",
       "    <tr>\n",
       "      <th>2</th>\n",
       "      <td>e2127556f4f64592b11af22de27a7932</td>\n",
       "      <td>offer received</td>\n",
       "      <td>0</td>\n",
       "      <td>2906b810c7d4411798c6938adc9daaa5</td>\n",
       "      <td></td>\n",
       "      <td>0.0</td>\n",
       "      <td>0</td>\n",
       "    </tr>\n",
       "    <tr>\n",
       "      <th>3</th>\n",
       "      <td>8ec6ce2a7e7949b1bf142def7d0e0586</td>\n",
       "      <td>offer received</td>\n",
       "      <td>0</td>\n",
       "      <td>fafdcd668e3743c1bb461111dcafc2a4</td>\n",
       "      <td></td>\n",
       "      <td>0.0</td>\n",
       "      <td>0</td>\n",
       "    </tr>\n",
       "    <tr>\n",
       "      <th>4</th>\n",
       "      <td>68617ca6246f4fbc85e91a2a49552598</td>\n",
       "      <td>offer received</td>\n",
       "      <td>0</td>\n",
       "      <td>4d5c57ea9a6940dd891ad53e9dbe8da0</td>\n",
       "      <td></td>\n",
       "      <td>0.0</td>\n",
       "      <td>0</td>\n",
       "    </tr>\n",
       "  </tbody>\n",
       "</table>\n",
       "</div>"
      ],
      "text/plain": [
       "                      id_membership           event  time  \\\n",
       "0  78afa995795e4d85b5d9ceeca43f5fef  offer received     0   \n",
       "1  a03223e636434f42ac4c3df47e8bac43  offer received     0   \n",
       "2  e2127556f4f64592b11af22de27a7932  offer received     0   \n",
       "3  8ec6ce2a7e7949b1bf142def7d0e0586  offer received     0   \n",
       "4  68617ca6246f4fbc85e91a2a49552598  offer received     0   \n",
       "\n",
       "                   id_promotion_rec id_promotion_comp  amount  reward  \n",
       "0  9b98b8c7a33c4b65b9aebfe6a799e6d9                       0.0       0  \n",
       "1  0b1e1539f2cc45b7b9fa7c272da2e1d7                       0.0       0  \n",
       "2  2906b810c7d4411798c6938adc9daaa5                       0.0       0  \n",
       "3  fafdcd668e3743c1bb461111dcafc2a4                       0.0       0  \n",
       "4  4d5c57ea9a6940dd891ad53e9dbe8da0                       0.0       0  "
      ]
     },
     "execution_count": 3,
     "metadata": {},
     "output_type": "execute_result"
    }
   ],
   "source": [
    "transcript.head()"
   ]
  },
  {
   "cell_type": "code",
   "execution_count": 4,
   "id": "cebdd0bb-a2cc-49e0-9cbd-3903c9dae784",
   "metadata": {},
   "outputs": [],
   "source": [
    "_, _, transcript_hot = utm.oneHotEncoder(portfolio, profile, transcript, dropUnnecessaryCol = True)"
   ]
  },
  {
   "cell_type": "code",
   "execution_count": 5,
   "id": "4098d817-b572-429f-84c1-f4abb8e9db75",
   "metadata": {},
   "outputs": [
    {
     "data": {
      "text/html": [
       "<div>\n",
       "<style scoped>\n",
       "    .dataframe tbody tr th:only-of-type {\n",
       "        vertical-align: middle;\n",
       "    }\n",
       "\n",
       "    .dataframe tbody tr th {\n",
       "        vertical-align: top;\n",
       "    }\n",
       "\n",
       "    .dataframe thead th {\n",
       "        text-align: right;\n",
       "    }\n",
       "</style>\n",
       "<table border=\"1\" class=\"dataframe\">\n",
       "  <thead>\n",
       "    <tr style=\"text-align: right;\">\n",
       "      <th></th>\n",
       "      <th>id_membership</th>\n",
       "      <th>event</th>\n",
       "      <th>time</th>\n",
       "      <th>id_promotion_rec</th>\n",
       "      <th>id_promotion_comp</th>\n",
       "      <th>amount</th>\n",
       "      <th>reward</th>\n",
       "      <th>offer_completed</th>\n",
       "      <th>offer_received</th>\n",
       "      <th>offer_viewed</th>\n",
       "    </tr>\n",
       "  </thead>\n",
       "  <tbody>\n",
       "    <tr>\n",
       "      <th>0</th>\n",
       "      <td>78afa995795e4d85b5d9ceeca43f5fef</td>\n",
       "      <td>offer received</td>\n",
       "      <td>0</td>\n",
       "      <td>9b98b8c7a33c4b65b9aebfe6a799e6d9</td>\n",
       "      <td></td>\n",
       "      <td>0.0</td>\n",
       "      <td>0</td>\n",
       "      <td>0</td>\n",
       "      <td>1</td>\n",
       "      <td>0</td>\n",
       "    </tr>\n",
       "    <tr>\n",
       "      <th>1</th>\n",
       "      <td>a03223e636434f42ac4c3df47e8bac43</td>\n",
       "      <td>offer received</td>\n",
       "      <td>0</td>\n",
       "      <td>0b1e1539f2cc45b7b9fa7c272da2e1d7</td>\n",
       "      <td></td>\n",
       "      <td>0.0</td>\n",
       "      <td>0</td>\n",
       "      <td>0</td>\n",
       "      <td>1</td>\n",
       "      <td>0</td>\n",
       "    </tr>\n",
       "    <tr>\n",
       "      <th>2</th>\n",
       "      <td>e2127556f4f64592b11af22de27a7932</td>\n",
       "      <td>offer received</td>\n",
       "      <td>0</td>\n",
       "      <td>2906b810c7d4411798c6938adc9daaa5</td>\n",
       "      <td></td>\n",
       "      <td>0.0</td>\n",
       "      <td>0</td>\n",
       "      <td>0</td>\n",
       "      <td>1</td>\n",
       "      <td>0</td>\n",
       "    </tr>\n",
       "    <tr>\n",
       "      <th>3</th>\n",
       "      <td>8ec6ce2a7e7949b1bf142def7d0e0586</td>\n",
       "      <td>offer received</td>\n",
       "      <td>0</td>\n",
       "      <td>fafdcd668e3743c1bb461111dcafc2a4</td>\n",
       "      <td></td>\n",
       "      <td>0.0</td>\n",
       "      <td>0</td>\n",
       "      <td>0</td>\n",
       "      <td>1</td>\n",
       "      <td>0</td>\n",
       "    </tr>\n",
       "    <tr>\n",
       "      <th>4</th>\n",
       "      <td>68617ca6246f4fbc85e91a2a49552598</td>\n",
       "      <td>offer received</td>\n",
       "      <td>0</td>\n",
       "      <td>4d5c57ea9a6940dd891ad53e9dbe8da0</td>\n",
       "      <td></td>\n",
       "      <td>0.0</td>\n",
       "      <td>0</td>\n",
       "      <td>0</td>\n",
       "      <td>1</td>\n",
       "      <td>0</td>\n",
       "    </tr>\n",
       "  </tbody>\n",
       "</table>\n",
       "</div>"
      ],
      "text/plain": [
       "                      id_membership           event  time  \\\n",
       "0  78afa995795e4d85b5d9ceeca43f5fef  offer received     0   \n",
       "1  a03223e636434f42ac4c3df47e8bac43  offer received     0   \n",
       "2  e2127556f4f64592b11af22de27a7932  offer received     0   \n",
       "3  8ec6ce2a7e7949b1bf142def7d0e0586  offer received     0   \n",
       "4  68617ca6246f4fbc85e91a2a49552598  offer received     0   \n",
       "\n",
       "                   id_promotion_rec id_promotion_comp  amount  reward  \\\n",
       "0  9b98b8c7a33c4b65b9aebfe6a799e6d9                       0.0       0   \n",
       "1  0b1e1539f2cc45b7b9fa7c272da2e1d7                       0.0       0   \n",
       "2  2906b810c7d4411798c6938adc9daaa5                       0.0       0   \n",
       "3  fafdcd668e3743c1bb461111dcafc2a4                       0.0       0   \n",
       "4  4d5c57ea9a6940dd891ad53e9dbe8da0                       0.0       0   \n",
       "\n",
       "   offer_completed  offer_received  offer_viewed  \n",
       "0                0               1             0  \n",
       "1                0               1             0  \n",
       "2                0               1             0  \n",
       "3                0               1             0  \n",
       "4                0               1             0  "
      ]
     },
     "execution_count": 5,
     "metadata": {},
     "output_type": "execute_result"
    }
   ],
   "source": [
    "transcript_hot.head()"
   ]
  },
  {
   "cell_type": "code",
   "execution_count": 32,
   "id": "bb044161-5d14-4664-a5f7-84fd3b3f9707",
   "metadata": {},
   "outputs": [
    {
     "data": {
      "text/plain": [
       "array(['9b98b8c7a33c4b65b9aebfe6a799e6d9',\n",
       "       '0b1e1539f2cc45b7b9fa7c272da2e1d7',\n",
       "       '2906b810c7d4411798c6938adc9daaa5',\n",
       "       'fafdcd668e3743c1bb461111dcafc2a4',\n",
       "       '4d5c57ea9a6940dd891ad53e9dbe8da0',\n",
       "       'f19421c1d4aa40978ebb69ca19b0e20d',\n",
       "       '2298d6c36e964ae4a3e7e9706d1fb8c2',\n",
       "       '3f207df678b143eea3cee63160fa8bed',\n",
       "       'ae264e3637204a6fb9bb56bc8210ddfd',\n",
       "       '5a8bc65990b245e5a138643cd4eb9837', ''], dtype=object)"
      ]
     },
     "execution_count": 32,
     "metadata": {},
     "output_type": "execute_result"
    }
   ],
   "source": [
    "transcript[\"id_promotion_rec\"].unique()"
   ]
  },
  {
   "cell_type": "code",
   "execution_count": 33,
   "id": "1c71f88e-0564-453e-9dc6-09e7006f8293",
   "metadata": {},
   "outputs": [
    {
     "data": {
      "text/plain": [
       "array(['', '2906b810c7d4411798c6938adc9daaa5',\n",
       "       'fafdcd668e3743c1bb461111dcafc2a4',\n",
       "       '9b98b8c7a33c4b65b9aebfe6a799e6d9',\n",
       "       'ae264e3637204a6fb9bb56bc8210ddfd',\n",
       "       '4d5c57ea9a6940dd891ad53e9dbe8da0',\n",
       "       '2298d6c36e964ae4a3e7e9706d1fb8c2',\n",
       "       'f19421c1d4aa40978ebb69ca19b0e20d',\n",
       "       '0b1e1539f2cc45b7b9fa7c272da2e1d7'], dtype=object)"
      ]
     },
     "execution_count": 33,
     "metadata": {},
     "output_type": "execute_result"
    }
   ],
   "source": [
    "transcript[\"id_promotion_comp\"].unique()"
   ]
  },
  {
   "cell_type": "code",
   "execution_count": 34,
   "id": "66fa70d5-1dae-48cd-80e5-903fadcd195e",
   "metadata": {},
   "outputs": [
    {
     "data": {
      "text/plain": [
       "array([  0.  ,   0.83,  34.56, ..., 685.07, 405.04, 476.33])"
      ]
     },
     "execution_count": 34,
     "metadata": {},
     "output_type": "execute_result"
    }
   ],
   "source": [
    "transcript[\"amount\"].unique()"
   ]
  },
  {
   "cell_type": "code",
   "execution_count": 35,
   "id": "253986ef-0a43-4f84-b4c8-20c3b45162a0",
   "metadata": {},
   "outputs": [
    {
     "data": {
      "text/plain": [
       "array([ 0,  2,  5, 10,  3], dtype=int64)"
      ]
     },
     "execution_count": 35,
     "metadata": {},
     "output_type": "execute_result"
    }
   ],
   "source": [
    "transcript[\"reward\"].unique()"
   ]
  },
  {
   "cell_type": "code",
   "execution_count": 36,
   "id": "b34cbb55-55d6-4cbe-a38d-bf3134a61f6b",
   "metadata": {},
   "outputs": [
    {
     "data": {
      "text/plain": [
       "(306534, 7)"
      ]
     },
     "execution_count": 36,
     "metadata": {},
     "output_type": "execute_result"
    }
   ],
   "source": [
    "transcript.shape"
   ]
  },
  {
   "cell_type": "code",
   "execution_count": 37,
   "id": "a7c5936e-db69-48b0-8c00-404131e8e67d",
   "metadata": {},
   "outputs": [
    {
     "data": {
      "text/plain": [
       "id_membership         object\n",
       "event                 object\n",
       "time                   int64\n",
       "id_promotion_rec      object\n",
       "id_promotion_comp     object\n",
       "amount               float64\n",
       "reward                 int64\n",
       "dtype: object"
      ]
     },
     "execution_count": 37,
     "metadata": {},
     "output_type": "execute_result"
    }
   ],
   "source": [
    "transcript.dtypes"
   ]
  },
  {
   "cell_type": "code",
   "execution_count": 38,
   "id": "9a37a6b5-bab9-4d8f-9980-1a5aa7a6c1f4",
   "metadata": {},
   "outputs": [
    {
     "name": "stdout",
     "output_type": "stream",
     "text": [
      "id_membership        0\n",
      "event                0\n",
      "time                 0\n",
      "id_promotion_rec     0\n",
      "id_promotion_comp    0\n",
      "amount               0\n",
      "reward               0\n",
      "dtype: int64\n"
     ]
    }
   ],
   "source": [
    "print(transcript.isnull().sum())"
   ]
  },
  {
   "cell_type": "code",
   "execution_count": 39,
   "id": "e9197d20-6945-4003-8199-7a6ead11f109",
   "metadata": {},
   "outputs": [
    {
     "name": "stdout",
     "output_type": "stream",
     "text": [
      "id_membership        0\n",
      "event                0\n",
      "time                 0\n",
      "id_promotion_rec     0\n",
      "id_promotion_comp    0\n",
      "amount               0\n",
      "reward               0\n",
      "dtype: int64\n"
     ]
    }
   ],
   "source": [
    "print(transcript.isna().sum())"
   ]
  },
  {
   "cell_type": "code",
   "execution_count": 40,
   "id": "149862e8",
   "metadata": {},
   "outputs": [
    {
     "data": {
      "application/vnd.jupyter.widget-view+json": {
       "model_id": "0b1e944a177b47178644456c17e3958c",
       "version_major": 2,
       "version_minor": 0
      },
      "text/plain": [
       "Summarize dataset:   0%|          | 0/5 [00:00<?, ?it/s]"
      ]
     },
     "metadata": {},
     "output_type": "display_data"
    },
    {
     "name": "stderr",
     "output_type": "stream",
     "text": [
      "C:\\Users\\BASTAMX2\\Anaconda3\\envs\\daib\\lib\\site-packages\\scipy\\stats\\stats.py:4812: RuntimeWarning: overflow encountered in longlong_scalars\n",
      "  (2 * xtie * ytie) / m + x0 * y0 / (9 * m * (size - 2)))\n"
     ]
    },
    {
     "data": {
      "application/vnd.jupyter.widget-view+json": {
       "model_id": "177c66efa287421e8f016194f2ef370d",
       "version_major": 2,
       "version_minor": 0
      },
      "text/plain": [
       "Generate report structure:   0%|          | 0/1 [00:00<?, ?it/s]"
      ]
     },
     "metadata": {},
     "output_type": "display_data"
    },
    {
     "data": {
      "application/vnd.jupyter.widget-view+json": {
       "model_id": "057d0d1f03ac4627acf89f2d740ab5cc",
       "version_major": 2,
       "version_minor": 0
      },
      "text/plain": [
       "Render HTML:   0%|          | 0/1 [00:00<?, ?it/s]"
      ]
     },
     "metadata": {},
     "output_type": "display_data"
    },
    {
     "data": {
      "application/vnd.jupyter.widget-view+json": {
       "model_id": "0129a663348b4a5eb0f4a67df9fd4571",
       "version_major": 2,
       "version_minor": 0
      },
      "text/plain": [
       "Export report to file:   0%|          | 0/1 [00:00<?, ?it/s]"
      ]
     },
     "metadata": {},
     "output_type": "display_data"
    }
   ],
   "source": [
    "transcript_report = ProfileReport(transcript)\n",
    "transcript_report.to_file(\"reports/transcript.html\")\n",
    "#transcript_report"
   ]
  },
  {
   "cell_type": "markdown",
   "id": "3357924c-c99a-45c9-b39e-75b6eecca967",
   "metadata": {},
   "source": [
    "# Get Transactions"
   ]
  },
  {
   "cell_type": "code",
   "execution_count": 37,
   "id": "1f138d02-e9a2-4131-acc8-831aebbbfdaf",
   "metadata": {},
   "outputs": [
    {
     "data": {
      "text/plain": [
       "<module 'utils_main' from 'C:\\\\Users\\\\BASTAMX2\\\\04_TargetingCustomers_DAIB\\\\TargetingCustomers_DAIB\\\\eda\\\\../utils\\\\utils_main.py'>"
      ]
     },
     "execution_count": 37,
     "metadata": {},
     "output_type": "execute_result"
    }
   ],
   "source": [
    "imp.reload(utm)"
   ]
  },
  {
   "cell_type": "code",
   "execution_count": 38,
   "id": "fd20ee8a-9480-48a6-8e2a-0dc8de54be8e",
   "metadata": {},
   "outputs": [],
   "source": [
    "portfolio, profile, transcript = utm.readFiles(dropUnnecessaryCol = True)"
   ]
  },
  {
   "cell_type": "code",
   "execution_count": 39,
   "id": "88e368d9-759b-46c8-9af3-65212af928e1",
   "metadata": {},
   "outputs": [],
   "source": [
    "_, profile_hot, transcript_hot = utm.oneHotEncoder(portfolio, profile, transcript, dropUnnecessaryCol = True)"
   ]
  },
  {
   "cell_type": "code",
   "execution_count": 40,
   "id": "6e371ec4-d45d-4b24-a301-73e64a6eac35",
   "metadata": {},
   "outputs": [],
   "source": [
    "transactions, customers = utm.getTransactions(transcript_hot, profile_hot)"
   ]
  },
  {
   "cell_type": "code",
   "execution_count": 42,
   "id": "e795c5e0-6547-42bb-a16b-aeb4817b5ec0",
   "metadata": {},
   "outputs": [
    {
     "data": {
      "text/html": [
       "<div>\n",
       "<style scoped>\n",
       "    .dataframe tbody tr th:only-of-type {\n",
       "        vertical-align: middle;\n",
       "    }\n",
       "\n",
       "    .dataframe tbody tr th {\n",
       "        vertical-align: top;\n",
       "    }\n",
       "\n",
       "    .dataframe thead th {\n",
       "        text-align: right;\n",
       "    }\n",
       "</style>\n",
       "<table border=\"1\" class=\"dataframe\">\n",
       "  <thead>\n",
       "    <tr style=\"text-align: right;\">\n",
       "      <th></th>\n",
       "      <th>age</th>\n",
       "      <th>id_membership</th>\n",
       "      <th>income</th>\n",
       "      <th>gender_F</th>\n",
       "      <th>gender_M</th>\n",
       "      <th>gender_NA</th>\n",
       "      <th>gender_O</th>\n",
       "      <th>year_joined_2013</th>\n",
       "      <th>year_joined_2014</th>\n",
       "      <th>year_joined_2015</th>\n",
       "      <th>year_joined_2016</th>\n",
       "      <th>year_joined_2017</th>\n",
       "      <th>year_joined_2018</th>\n",
       "      <th>frequency</th>\n",
       "      <th>recency</th>\n",
       "      <th>T</th>\n",
       "      <th>monetary_value</th>\n",
       "    </tr>\n",
       "  </thead>\n",
       "  <tbody>\n",
       "    <tr>\n",
       "      <th>0</th>\n",
       "      <td>118</td>\n",
       "      <td>68be06ca386d4c31939f3a4f0e3dd783</td>\n",
       "      <td>NaN</td>\n",
       "      <td>0</td>\n",
       "      <td>0</td>\n",
       "      <td>1</td>\n",
       "      <td>0</td>\n",
       "      <td>0</td>\n",
       "      <td>0</td>\n",
       "      <td>0</td>\n",
       "      <td>0</td>\n",
       "      <td>1</td>\n",
       "      <td>0</td>\n",
       "      <td>8.0</td>\n",
       "      <td>14.0</td>\n",
       "      <td>15.0</td>\n",
       "      <td>2.50625</td>\n",
       "    </tr>\n",
       "    <tr>\n",
       "      <th>1</th>\n",
       "      <td>55</td>\n",
       "      <td>0610b486422d4921ae7d2bf64640c50b</td>\n",
       "      <td>112000.0</td>\n",
       "      <td>1</td>\n",
       "      <td>0</td>\n",
       "      <td>0</td>\n",
       "      <td>0</td>\n",
       "      <td>0</td>\n",
       "      <td>0</td>\n",
       "      <td>0</td>\n",
       "      <td>0</td>\n",
       "      <td>1</td>\n",
       "      <td>0</td>\n",
       "      <td>2.0</td>\n",
       "      <td>21.0</td>\n",
       "      <td>29.0</td>\n",
       "      <td>27.75000</td>\n",
       "    </tr>\n",
       "    <tr>\n",
       "      <th>2</th>\n",
       "      <td>118</td>\n",
       "      <td>38fe809add3b4fcf9315a9694bb96ff5</td>\n",
       "      <td>NaN</td>\n",
       "      <td>0</td>\n",
       "      <td>0</td>\n",
       "      <td>1</td>\n",
       "      <td>0</td>\n",
       "      <td>0</td>\n",
       "      <td>0</td>\n",
       "      <td>0</td>\n",
       "      <td>0</td>\n",
       "      <td>0</td>\n",
       "      <td>1</td>\n",
       "      <td>5.0</td>\n",
       "      <td>23.0</td>\n",
       "      <td>24.0</td>\n",
       "      <td>2.59200</td>\n",
       "    </tr>\n",
       "    <tr>\n",
       "      <th>3</th>\n",
       "      <td>75</td>\n",
       "      <td>78afa995795e4d85b5d9ceeca43f5fef</td>\n",
       "      <td>100000.0</td>\n",
       "      <td>1</td>\n",
       "      <td>0</td>\n",
       "      <td>0</td>\n",
       "      <td>0</td>\n",
       "      <td>0</td>\n",
       "      <td>0</td>\n",
       "      <td>0</td>\n",
       "      <td>0</td>\n",
       "      <td>1</td>\n",
       "      <td>0</td>\n",
       "      <td>5.0</td>\n",
       "      <td>16.0</td>\n",
       "      <td>24.0</td>\n",
       "      <td>24.32000</td>\n",
       "    </tr>\n",
       "    <tr>\n",
       "      <th>4</th>\n",
       "      <td>118</td>\n",
       "      <td>a03223e636434f42ac4c3df47e8bac43</td>\n",
       "      <td>NaN</td>\n",
       "      <td>0</td>\n",
       "      <td>0</td>\n",
       "      <td>1</td>\n",
       "      <td>0</td>\n",
       "      <td>0</td>\n",
       "      <td>0</td>\n",
       "      <td>0</td>\n",
       "      <td>0</td>\n",
       "      <td>1</td>\n",
       "      <td>0</td>\n",
       "      <td>2.0</td>\n",
       "      <td>16.0</td>\n",
       "      <td>20.0</td>\n",
       "      <td>1.78000</td>\n",
       "    </tr>\n",
       "  </tbody>\n",
       "</table>\n",
       "</div>"
      ],
      "text/plain": [
       "   age                     id_membership    income  gender_F  gender_M  \\\n",
       "0  118  68be06ca386d4c31939f3a4f0e3dd783       NaN         0         0   \n",
       "1   55  0610b486422d4921ae7d2bf64640c50b  112000.0         1         0   \n",
       "2  118  38fe809add3b4fcf9315a9694bb96ff5       NaN         0         0   \n",
       "3   75  78afa995795e4d85b5d9ceeca43f5fef  100000.0         1         0   \n",
       "4  118  a03223e636434f42ac4c3df47e8bac43       NaN         0         0   \n",
       "\n",
       "   gender_NA  gender_O  year_joined_2013  year_joined_2014  year_joined_2015  \\\n",
       "0          1         0                 0                 0                 0   \n",
       "1          0         0                 0                 0                 0   \n",
       "2          1         0                 0                 0                 0   \n",
       "3          0         0                 0                 0                 0   \n",
       "4          1         0                 0                 0                 0   \n",
       "\n",
       "   year_joined_2016  year_joined_2017  year_joined_2018  frequency  recency  \\\n",
       "0                 0                 1                 0        8.0     14.0   \n",
       "1                 0                 1                 0        2.0     21.0   \n",
       "2                 0                 0                 1        5.0     23.0   \n",
       "3                 0                 1                 0        5.0     16.0   \n",
       "4                 0                 1                 0        2.0     16.0   \n",
       "\n",
       "      T  monetary_value  \n",
       "0  15.0         2.50625  \n",
       "1  29.0        27.75000  \n",
       "2  24.0         2.59200  \n",
       "3  24.0        24.32000  \n",
       "4  20.0         1.78000  "
      ]
     },
     "execution_count": 42,
     "metadata": {},
     "output_type": "execute_result"
    }
   ],
   "source": [
    "customers.head()"
   ]
  },
  {
   "cell_type": "code",
   "execution_count": 43,
   "id": "55525fe9-ea9d-479f-9c26-8a648c143209",
   "metadata": {},
   "outputs": [
    {
     "data": {
      "text/html": [
       "<div>\n",
       "<style scoped>\n",
       "    .dataframe tbody tr th:only-of-type {\n",
       "        vertical-align: middle;\n",
       "    }\n",
       "\n",
       "    .dataframe tbody tr th {\n",
       "        vertical-align: top;\n",
       "    }\n",
       "\n",
       "    .dataframe thead th {\n",
       "        text-align: right;\n",
       "    }\n",
       "</style>\n",
       "<table border=\"1\" class=\"dataframe\">\n",
       "  <thead>\n",
       "    <tr style=\"text-align: right;\">\n",
       "      <th></th>\n",
       "      <th>id_membership</th>\n",
       "      <th>event</th>\n",
       "      <th>time</th>\n",
       "      <th>id_promotion_rec</th>\n",
       "      <th>id_promotion_comp</th>\n",
       "      <th>amount</th>\n",
       "      <th>reward</th>\n",
       "      <th>offer_completed</th>\n",
       "      <th>offer_received</th>\n",
       "      <th>offer_viewed</th>\n",
       "      <th>...</th>\n",
       "      <th>gender_M</th>\n",
       "      <th>gender_NA</th>\n",
       "      <th>gender_O</th>\n",
       "      <th>year_joined_2013</th>\n",
       "      <th>year_joined_2014</th>\n",
       "      <th>year_joined_2015</th>\n",
       "      <th>year_joined_2016</th>\n",
       "      <th>year_joined_2017</th>\n",
       "      <th>year_joined_2018</th>\n",
       "      <th>datetime</th>\n",
       "    </tr>\n",
       "  </thead>\n",
       "  <tbody>\n",
       "    <tr>\n",
       "      <th>0</th>\n",
       "      <td>02c083884c7d45b39cc68e1314fec56c</td>\n",
       "      <td>transaction</td>\n",
       "      <td>0</td>\n",
       "      <td></td>\n",
       "      <td></td>\n",
       "      <td>0.83</td>\n",
       "      <td>0</td>\n",
       "      <td>0</td>\n",
       "      <td>0</td>\n",
       "      <td>0</td>\n",
       "      <td>...</td>\n",
       "      <td>0</td>\n",
       "      <td>0</td>\n",
       "      <td>0</td>\n",
       "      <td>0</td>\n",
       "      <td>0</td>\n",
       "      <td>0</td>\n",
       "      <td>1</td>\n",
       "      <td>0</td>\n",
       "      <td>0</td>\n",
       "      <td>2000-01-01 12:00:00</td>\n",
       "    </tr>\n",
       "    <tr>\n",
       "      <th>1</th>\n",
       "      <td>02c083884c7d45b39cc68e1314fec56c</td>\n",
       "      <td>transaction</td>\n",
       "      <td>6</td>\n",
       "      <td></td>\n",
       "      <td></td>\n",
       "      <td>1.44</td>\n",
       "      <td>0</td>\n",
       "      <td>0</td>\n",
       "      <td>0</td>\n",
       "      <td>0</td>\n",
       "      <td>...</td>\n",
       "      <td>0</td>\n",
       "      <td>0</td>\n",
       "      <td>0</td>\n",
       "      <td>0</td>\n",
       "      <td>0</td>\n",
       "      <td>0</td>\n",
       "      <td>1</td>\n",
       "      <td>0</td>\n",
       "      <td>0</td>\n",
       "      <td>2000-01-01 18:00:00</td>\n",
       "    </tr>\n",
       "    <tr>\n",
       "      <th>2</th>\n",
       "      <td>02c083884c7d45b39cc68e1314fec56c</td>\n",
       "      <td>transaction</td>\n",
       "      <td>12</td>\n",
       "      <td></td>\n",
       "      <td></td>\n",
       "      <td>4.56</td>\n",
       "      <td>0</td>\n",
       "      <td>0</td>\n",
       "      <td>0</td>\n",
       "      <td>0</td>\n",
       "      <td>...</td>\n",
       "      <td>0</td>\n",
       "      <td>0</td>\n",
       "      <td>0</td>\n",
       "      <td>0</td>\n",
       "      <td>0</td>\n",
       "      <td>0</td>\n",
       "      <td>1</td>\n",
       "      <td>0</td>\n",
       "      <td>0</td>\n",
       "      <td>2000-01-02 00:00:00</td>\n",
       "    </tr>\n",
       "    <tr>\n",
       "      <th>3</th>\n",
       "      <td>02c083884c7d45b39cc68e1314fec56c</td>\n",
       "      <td>transaction</td>\n",
       "      <td>84</td>\n",
       "      <td></td>\n",
       "      <td></td>\n",
       "      <td>1.53</td>\n",
       "      <td>0</td>\n",
       "      <td>0</td>\n",
       "      <td>0</td>\n",
       "      <td>0</td>\n",
       "      <td>...</td>\n",
       "      <td>0</td>\n",
       "      <td>0</td>\n",
       "      <td>0</td>\n",
       "      <td>0</td>\n",
       "      <td>0</td>\n",
       "      <td>0</td>\n",
       "      <td>1</td>\n",
       "      <td>0</td>\n",
       "      <td>0</td>\n",
       "      <td>2000-01-05 00:00:00</td>\n",
       "    </tr>\n",
       "    <tr>\n",
       "      <th>4</th>\n",
       "      <td>02c083884c7d45b39cc68e1314fec56c</td>\n",
       "      <td>transaction</td>\n",
       "      <td>90</td>\n",
       "      <td></td>\n",
       "      <td></td>\n",
       "      <td>0.50</td>\n",
       "      <td>0</td>\n",
       "      <td>0</td>\n",
       "      <td>0</td>\n",
       "      <td>0</td>\n",
       "      <td>...</td>\n",
       "      <td>0</td>\n",
       "      <td>0</td>\n",
       "      <td>0</td>\n",
       "      <td>0</td>\n",
       "      <td>0</td>\n",
       "      <td>0</td>\n",
       "      <td>1</td>\n",
       "      <td>0</td>\n",
       "      <td>0</td>\n",
       "      <td>2000-01-05 06:00:00</td>\n",
       "    </tr>\n",
       "  </tbody>\n",
       "</table>\n",
       "<p>5 rows × 23 columns</p>\n",
       "</div>"
      ],
      "text/plain": [
       "                      id_membership        event  time id_promotion_rec  \\\n",
       "0  02c083884c7d45b39cc68e1314fec56c  transaction     0                    \n",
       "1  02c083884c7d45b39cc68e1314fec56c  transaction     6                    \n",
       "2  02c083884c7d45b39cc68e1314fec56c  transaction    12                    \n",
       "3  02c083884c7d45b39cc68e1314fec56c  transaction    84                    \n",
       "4  02c083884c7d45b39cc68e1314fec56c  transaction    90                    \n",
       "\n",
       "  id_promotion_comp  amount  reward  offer_completed  offer_received  \\\n",
       "0                      0.83       0                0               0   \n",
       "1                      1.44       0                0               0   \n",
       "2                      4.56       0                0               0   \n",
       "3                      1.53       0                0               0   \n",
       "4                      0.50       0                0               0   \n",
       "\n",
       "   offer_viewed  ...  gender_M  gender_NA  gender_O  year_joined_2013  \\\n",
       "0             0  ...         0          0         0                 0   \n",
       "1             0  ...         0          0         0                 0   \n",
       "2             0  ...         0          0         0                 0   \n",
       "3             0  ...         0          0         0                 0   \n",
       "4             0  ...         0          0         0                 0   \n",
       "\n",
       "   year_joined_2014  year_joined_2015  year_joined_2016  year_joined_2017  \\\n",
       "0                 0                 0                 1                 0   \n",
       "1                 0                 0                 1                 0   \n",
       "2                 0                 0                 1                 0   \n",
       "3                 0                 0                 1                 0   \n",
       "4                 0                 0                 1                 0   \n",
       "\n",
       "   year_joined_2018            datetime  \n",
       "0                 0 2000-01-01 12:00:00  \n",
       "1                 0 2000-01-01 18:00:00  \n",
       "2                 0 2000-01-02 00:00:00  \n",
       "3                 0 2000-01-05 00:00:00  \n",
       "4                 0 2000-01-05 06:00:00  \n",
       "\n",
       "[5 rows x 23 columns]"
      ]
     },
     "execution_count": 43,
     "metadata": {},
     "output_type": "execute_result"
    }
   ],
   "source": [
    "transactions.head()"
   ]
  },
  {
   "cell_type": "markdown",
   "id": "d7979beb-2472-43c5-aec8-4da27ce47f16",
   "metadata": {},
   "source": [
    "# Get Offers"
   ]
  },
  {
   "cell_type": "code",
   "execution_count": 48,
   "id": "15c7e21d-0320-41c8-a005-bf2f43a2a156",
   "metadata": {},
   "outputs": [
    {
     "data": {
      "text/plain": [
       "<module 'utils_main' from 'C:\\\\Users\\\\BASTAMX2\\\\04_TargetingCustomers_DAIB\\\\TargetingCustomers_DAIB\\\\eda\\\\../utils\\\\utils_main.py'>"
      ]
     },
     "execution_count": 48,
     "metadata": {},
     "output_type": "execute_result"
    }
   ],
   "source": [
    "imp.reload(utm)"
   ]
  },
  {
   "cell_type": "code",
   "execution_count": 49,
   "id": "42d25814-5f2d-4e94-88ff-b98073f45d0e",
   "metadata": {},
   "outputs": [],
   "source": [
    "portfolio, profile, transcript = utm.readFiles(dropUnnecessaryCol = True)"
   ]
  },
  {
   "cell_type": "code",
   "execution_count": 50,
   "id": "09502306-2254-4ad8-b445-1ed84a0519f5",
   "metadata": {},
   "outputs": [],
   "source": [
    "_, profile_hot, transcript_hot = utm.oneHotEncoder(portfolio, profile, transcript, dropUnnecessaryCol = True)"
   ]
  },
  {
   "cell_type": "code",
   "execution_count": 51,
   "id": "05b35315-0dc8-48a4-8366-92ddd5354d9c",
   "metadata": {},
   "outputs": [],
   "source": [
    "offers = utm.getOffers(transcript_hot, profile_hot)"
   ]
  },
  {
   "cell_type": "code",
   "execution_count": 52,
   "id": "ddb70513-88ef-41db-a4fb-78a75957dd84",
   "metadata": {},
   "outputs": [
    {
     "data": {
      "text/html": [
       "<div>\n",
       "<style scoped>\n",
       "    .dataframe tbody tr th:only-of-type {\n",
       "        vertical-align: middle;\n",
       "    }\n",
       "\n",
       "    .dataframe tbody tr th {\n",
       "        vertical-align: top;\n",
       "    }\n",
       "\n",
       "    .dataframe thead th {\n",
       "        text-align: right;\n",
       "    }\n",
       "</style>\n",
       "<table border=\"1\" class=\"dataframe\">\n",
       "  <thead>\n",
       "    <tr style=\"text-align: right;\">\n",
       "      <th></th>\n",
       "      <th>id_membership</th>\n",
       "      <th>event</th>\n",
       "      <th>time</th>\n",
       "      <th>id_promotion_rec</th>\n",
       "      <th>id_promotion_comp</th>\n",
       "      <th>amount</th>\n",
       "      <th>reward</th>\n",
       "      <th>offer_completed</th>\n",
       "      <th>offer_received</th>\n",
       "      <th>offer_viewed</th>\n",
       "      <th>...</th>\n",
       "      <th>gender_F</th>\n",
       "      <th>gender_M</th>\n",
       "      <th>gender_NA</th>\n",
       "      <th>gender_O</th>\n",
       "      <th>year_joined_2013</th>\n",
       "      <th>year_joined_2014</th>\n",
       "      <th>year_joined_2015</th>\n",
       "      <th>year_joined_2016</th>\n",
       "      <th>year_joined_2017</th>\n",
       "      <th>year_joined_2018</th>\n",
       "    </tr>\n",
       "  </thead>\n",
       "  <tbody>\n",
       "    <tr>\n",
       "      <th>0</th>\n",
       "      <td>78afa995795e4d85b5d9ceeca43f5fef</td>\n",
       "      <td>offer received</td>\n",
       "      <td>0.0</td>\n",
       "      <td>9b98b8c7a33c4b65b9aebfe6a799e6d9</td>\n",
       "      <td></td>\n",
       "      <td>0.0</td>\n",
       "      <td>0.0</td>\n",
       "      <td>0.0</td>\n",
       "      <td>1.0</td>\n",
       "      <td>0.0</td>\n",
       "      <td>...</td>\n",
       "      <td>1</td>\n",
       "      <td>0</td>\n",
       "      <td>0</td>\n",
       "      <td>0</td>\n",
       "      <td>0</td>\n",
       "      <td>0</td>\n",
       "      <td>0</td>\n",
       "      <td>0</td>\n",
       "      <td>1</td>\n",
       "      <td>0</td>\n",
       "    </tr>\n",
       "    <tr>\n",
       "      <th>1</th>\n",
       "      <td>78afa995795e4d85b5d9ceeca43f5fef</td>\n",
       "      <td>offer viewed</td>\n",
       "      <td>6.0</td>\n",
       "      <td>9b98b8c7a33c4b65b9aebfe6a799e6d9</td>\n",
       "      <td></td>\n",
       "      <td>0.0</td>\n",
       "      <td>0.0</td>\n",
       "      <td>0.0</td>\n",
       "      <td>0.0</td>\n",
       "      <td>1.0</td>\n",
       "      <td>...</td>\n",
       "      <td>1</td>\n",
       "      <td>0</td>\n",
       "      <td>0</td>\n",
       "      <td>0</td>\n",
       "      <td>0</td>\n",
       "      <td>0</td>\n",
       "      <td>0</td>\n",
       "      <td>0</td>\n",
       "      <td>1</td>\n",
       "      <td>0</td>\n",
       "    </tr>\n",
       "    <tr>\n",
       "      <th>2</th>\n",
       "      <td>78afa995795e4d85b5d9ceeca43f5fef</td>\n",
       "      <td>offer completed</td>\n",
       "      <td>132.0</td>\n",
       "      <td></td>\n",
       "      <td>9b98b8c7a33c4b65b9aebfe6a799e6d9</td>\n",
       "      <td>0.0</td>\n",
       "      <td>5.0</td>\n",
       "      <td>1.0</td>\n",
       "      <td>0.0</td>\n",
       "      <td>0.0</td>\n",
       "      <td>...</td>\n",
       "      <td>1</td>\n",
       "      <td>0</td>\n",
       "      <td>0</td>\n",
       "      <td>0</td>\n",
       "      <td>0</td>\n",
       "      <td>0</td>\n",
       "      <td>0</td>\n",
       "      <td>0</td>\n",
       "      <td>1</td>\n",
       "      <td>0</td>\n",
       "    </tr>\n",
       "    <tr>\n",
       "      <th>3</th>\n",
       "      <td>78afa995795e4d85b5d9ceeca43f5fef</td>\n",
       "      <td>offer received</td>\n",
       "      <td>168.0</td>\n",
       "      <td>5a8bc65990b245e5a138643cd4eb9837</td>\n",
       "      <td></td>\n",
       "      <td>0.0</td>\n",
       "      <td>0.0</td>\n",
       "      <td>0.0</td>\n",
       "      <td>1.0</td>\n",
       "      <td>0.0</td>\n",
       "      <td>...</td>\n",
       "      <td>1</td>\n",
       "      <td>0</td>\n",
       "      <td>0</td>\n",
       "      <td>0</td>\n",
       "      <td>0</td>\n",
       "      <td>0</td>\n",
       "      <td>0</td>\n",
       "      <td>0</td>\n",
       "      <td>1</td>\n",
       "      <td>0</td>\n",
       "    </tr>\n",
       "    <tr>\n",
       "      <th>4</th>\n",
       "      <td>78afa995795e4d85b5d9ceeca43f5fef</td>\n",
       "      <td>offer viewed</td>\n",
       "      <td>216.0</td>\n",
       "      <td>5a8bc65990b245e5a138643cd4eb9837</td>\n",
       "      <td></td>\n",
       "      <td>0.0</td>\n",
       "      <td>0.0</td>\n",
       "      <td>0.0</td>\n",
       "      <td>0.0</td>\n",
       "      <td>1.0</td>\n",
       "      <td>...</td>\n",
       "      <td>1</td>\n",
       "      <td>0</td>\n",
       "      <td>0</td>\n",
       "      <td>0</td>\n",
       "      <td>0</td>\n",
       "      <td>0</td>\n",
       "      <td>0</td>\n",
       "      <td>0</td>\n",
       "      <td>1</td>\n",
       "      <td>0</td>\n",
       "    </tr>\n",
       "  </tbody>\n",
       "</table>\n",
       "<p>5 rows × 22 columns</p>\n",
       "</div>"
      ],
      "text/plain": [
       "                      id_membership            event   time  \\\n",
       "0  78afa995795e4d85b5d9ceeca43f5fef   offer received    0.0   \n",
       "1  78afa995795e4d85b5d9ceeca43f5fef     offer viewed    6.0   \n",
       "2  78afa995795e4d85b5d9ceeca43f5fef  offer completed  132.0   \n",
       "3  78afa995795e4d85b5d9ceeca43f5fef   offer received  168.0   \n",
       "4  78afa995795e4d85b5d9ceeca43f5fef     offer viewed  216.0   \n",
       "\n",
       "                   id_promotion_rec                 id_promotion_comp  amount  \\\n",
       "0  9b98b8c7a33c4b65b9aebfe6a799e6d9                                       0.0   \n",
       "1  9b98b8c7a33c4b65b9aebfe6a799e6d9                                       0.0   \n",
       "2                                    9b98b8c7a33c4b65b9aebfe6a799e6d9     0.0   \n",
       "3  5a8bc65990b245e5a138643cd4eb9837                                       0.0   \n",
       "4  5a8bc65990b245e5a138643cd4eb9837                                       0.0   \n",
       "\n",
       "   reward  offer_completed  offer_received  offer_viewed  ...  gender_F  \\\n",
       "0     0.0              0.0             1.0           0.0  ...         1   \n",
       "1     0.0              0.0             0.0           1.0  ...         1   \n",
       "2     5.0              1.0             0.0           0.0  ...         1   \n",
       "3     0.0              0.0             1.0           0.0  ...         1   \n",
       "4     0.0              0.0             0.0           1.0  ...         1   \n",
       "\n",
       "   gender_M  gender_NA  gender_O  year_joined_2013  year_joined_2014  \\\n",
       "0         0          0         0                 0                 0   \n",
       "1         0          0         0                 0                 0   \n",
       "2         0          0         0                 0                 0   \n",
       "3         0          0         0                 0                 0   \n",
       "4         0          0         0                 0                 0   \n",
       "\n",
       "   year_joined_2015  year_joined_2016  year_joined_2017  year_joined_2018  \n",
       "0                 0                 0                 1                 0  \n",
       "1                 0                 0                 1                 0  \n",
       "2                 0                 0                 1                 0  \n",
       "3                 0                 0                 1                 0  \n",
       "4                 0                 0                 1                 0  \n",
       "\n",
       "[5 rows x 22 columns]"
      ]
     },
     "execution_count": 52,
     "metadata": {},
     "output_type": "execute_result"
    }
   ],
   "source": [
    "offers.head()"
   ]
  },
  {
   "cell_type": "code",
   "execution_count": 54,
   "id": "15c696d1-706d-42e1-ab1f-57712521b1fa",
   "metadata": {},
   "outputs": [],
   "source": [
    "t = offers.id_promotion_rec + offers.id_promotion_comp"
   ]
  },
  {
   "cell_type": "markdown",
   "id": "b4736590-e0fa-4c9a-b6e9-ce9c3b2030b5",
   "metadata": {},
   "source": [
    "# Merging dataframes\n",
    "This section does some investigation about merging dataframes"
   ]
  },
  {
   "cell_type": "markdown",
   "id": "3baf476e-c3ee-4580-af3c-479b4bb58cad",
   "metadata": {},
   "source": [
    "The idea is to merge the portfolio, profile, and transcript dataframes using the id_membership and id_promotion keys"
   ]
  },
  {
   "cell_type": "code",
   "execution_count": 41,
   "id": "cbaa2f08-3719-44cc-9db4-823fc0c87f12",
   "metadata": {},
   "outputs": [
    {
     "data": {
      "text/plain": [
       "Index(['reward', 'difficulty', 'duration', 'offer_type', 'id_promotion',\n",
       "       'email', 'mobile', 'social', 'web'],\n",
       "      dtype='object')"
      ]
     },
     "execution_count": 41,
     "metadata": {},
     "output_type": "execute_result"
    }
   ],
   "source": [
    "portfolio.columns"
   ]
  },
  {
   "cell_type": "code",
   "execution_count": 42,
   "id": "61dec99e-c471-434a-8a87-963b68f1974c",
   "metadata": {},
   "outputs": [
    {
     "data": {
      "text/plain": [
       "Index(['gender', 'age', 'id_membership', 'became_member_on', 'income'], dtype='object')"
      ]
     },
     "execution_count": 42,
     "metadata": {},
     "output_type": "execute_result"
    }
   ],
   "source": [
    "profile.columns"
   ]
  },
  {
   "cell_type": "code",
   "execution_count": 43,
   "id": "edc1b592-95b1-44b1-bc81-e87293c6b4dd",
   "metadata": {},
   "outputs": [
    {
     "data": {
      "text/plain": [
       "Index(['id_membership', 'event', 'time', 'id_promotion_rec',\n",
       "       'id_promotion_comp', 'amount', 'reward'],\n",
       "      dtype='object')"
      ]
     },
     "execution_count": 43,
     "metadata": {},
     "output_type": "execute_result"
    }
   ],
   "source": [
    "transcript.columns"
   ]
  },
  {
   "cell_type": "code",
   "execution_count": 44,
   "id": "55597c33-ba4a-4327-b683-9b2293804e7f",
   "metadata": {},
   "outputs": [],
   "source": [
    "trans_pro = pd.merge(transcript, profile, on=\"id_membership\")"
   ]
  },
  {
   "cell_type": "code",
   "execution_count": 45,
   "id": "c4fddbac-a4d6-4dc2-8d6c-aab555d472f6",
   "metadata": {},
   "outputs": [
    {
     "data": {
      "text/plain": [
       "(306534, 7)"
      ]
     },
     "execution_count": 45,
     "metadata": {},
     "output_type": "execute_result"
    }
   ],
   "source": [
    "transcript.shape"
   ]
  },
  {
   "cell_type": "code",
   "execution_count": 46,
   "id": "8790deae-dff9-493d-afbe-79c21a837d4a",
   "metadata": {},
   "outputs": [
    {
     "data": {
      "text/plain": [
       "(17000, 5)"
      ]
     },
     "execution_count": 46,
     "metadata": {},
     "output_type": "execute_result"
    }
   ],
   "source": [
    "profile.shape"
   ]
  },
  {
   "cell_type": "code",
   "execution_count": 47,
   "id": "59ae201b-f2df-4d37-b74e-a42c60452dd3",
   "metadata": {},
   "outputs": [
    {
     "data": {
      "text/plain": [
       "(306534, 11)"
      ]
     },
     "execution_count": 47,
     "metadata": {},
     "output_type": "execute_result"
    }
   ],
   "source": [
    "trans_pro.shape"
   ]
  },
  {
   "cell_type": "markdown",
   "id": "3c54b606-abf5-4bb3-87f5-85c6569fab55",
   "metadata": {},
   "source": [
    "The transcript df and the merged trans_pro df have the same number of rows --> no data has been lost --> Looks ok"
   ]
  },
  {
   "cell_type": "code",
   "execution_count": 48,
   "id": "5ae8f3f2-a933-468a-8e83-b4841101ee7d",
   "metadata": {},
   "outputs": [
    {
     "data": {
      "text/html": [
       "<div>\n",
       "<style scoped>\n",
       "    .dataframe tbody tr th:only-of-type {\n",
       "        vertical-align: middle;\n",
       "    }\n",
       "\n",
       "    .dataframe tbody tr th {\n",
       "        vertical-align: top;\n",
       "    }\n",
       "\n",
       "    .dataframe thead th {\n",
       "        text-align: right;\n",
       "    }\n",
       "</style>\n",
       "<table border=\"1\" class=\"dataframe\">\n",
       "  <thead>\n",
       "    <tr style=\"text-align: right;\">\n",
       "      <th></th>\n",
       "      <th>id_membership</th>\n",
       "      <th>event</th>\n",
       "      <th>time</th>\n",
       "      <th>id_promotion_rec</th>\n",
       "      <th>id_promotion_comp</th>\n",
       "      <th>amount</th>\n",
       "      <th>reward</th>\n",
       "      <th>gender</th>\n",
       "      <th>age</th>\n",
       "      <th>became_member_on</th>\n",
       "      <th>income</th>\n",
       "    </tr>\n",
       "  </thead>\n",
       "  <tbody>\n",
       "    <tr>\n",
       "      <th>0</th>\n",
       "      <td>78afa995795e4d85b5d9ceeca43f5fef</td>\n",
       "      <td>offer received</td>\n",
       "      <td>0</td>\n",
       "      <td>9b98b8c7a33c4b65b9aebfe6a799e6d9</td>\n",
       "      <td></td>\n",
       "      <td>0.00</td>\n",
       "      <td>0</td>\n",
       "      <td>F</td>\n",
       "      <td>75</td>\n",
       "      <td>2017-05-09</td>\n",
       "      <td>100000.0</td>\n",
       "    </tr>\n",
       "    <tr>\n",
       "      <th>1</th>\n",
       "      <td>78afa995795e4d85b5d9ceeca43f5fef</td>\n",
       "      <td>offer viewed</td>\n",
       "      <td>6</td>\n",
       "      <td>9b98b8c7a33c4b65b9aebfe6a799e6d9</td>\n",
       "      <td></td>\n",
       "      <td>0.00</td>\n",
       "      <td>0</td>\n",
       "      <td>F</td>\n",
       "      <td>75</td>\n",
       "      <td>2017-05-09</td>\n",
       "      <td>100000.0</td>\n",
       "    </tr>\n",
       "    <tr>\n",
       "      <th>2</th>\n",
       "      <td>78afa995795e4d85b5d9ceeca43f5fef</td>\n",
       "      <td>transaction</td>\n",
       "      <td>132</td>\n",
       "      <td></td>\n",
       "      <td></td>\n",
       "      <td>19.89</td>\n",
       "      <td>0</td>\n",
       "      <td>F</td>\n",
       "      <td>75</td>\n",
       "      <td>2017-05-09</td>\n",
       "      <td>100000.0</td>\n",
       "    </tr>\n",
       "    <tr>\n",
       "      <th>3</th>\n",
       "      <td>78afa995795e4d85b5d9ceeca43f5fef</td>\n",
       "      <td>offer completed</td>\n",
       "      <td>132</td>\n",
       "      <td></td>\n",
       "      <td>9b98b8c7a33c4b65b9aebfe6a799e6d9</td>\n",
       "      <td>0.00</td>\n",
       "      <td>5</td>\n",
       "      <td>F</td>\n",
       "      <td>75</td>\n",
       "      <td>2017-05-09</td>\n",
       "      <td>100000.0</td>\n",
       "    </tr>\n",
       "    <tr>\n",
       "      <th>4</th>\n",
       "      <td>78afa995795e4d85b5d9ceeca43f5fef</td>\n",
       "      <td>transaction</td>\n",
       "      <td>144</td>\n",
       "      <td></td>\n",
       "      <td></td>\n",
       "      <td>17.78</td>\n",
       "      <td>0</td>\n",
       "      <td>F</td>\n",
       "      <td>75</td>\n",
       "      <td>2017-05-09</td>\n",
       "      <td>100000.0</td>\n",
       "    </tr>\n",
       "  </tbody>\n",
       "</table>\n",
       "</div>"
      ],
      "text/plain": [
       "                      id_membership            event  time  \\\n",
       "0  78afa995795e4d85b5d9ceeca43f5fef   offer received     0   \n",
       "1  78afa995795e4d85b5d9ceeca43f5fef     offer viewed     6   \n",
       "2  78afa995795e4d85b5d9ceeca43f5fef      transaction   132   \n",
       "3  78afa995795e4d85b5d9ceeca43f5fef  offer completed   132   \n",
       "4  78afa995795e4d85b5d9ceeca43f5fef      transaction   144   \n",
       "\n",
       "                   id_promotion_rec                 id_promotion_comp  amount  \\\n",
       "0  9b98b8c7a33c4b65b9aebfe6a799e6d9                                      0.00   \n",
       "1  9b98b8c7a33c4b65b9aebfe6a799e6d9                                      0.00   \n",
       "2                                                                       19.89   \n",
       "3                                    9b98b8c7a33c4b65b9aebfe6a799e6d9    0.00   \n",
       "4                                                                       17.78   \n",
       "\n",
       "   reward gender  age became_member_on    income  \n",
       "0       0      F   75       2017-05-09  100000.0  \n",
       "1       0      F   75       2017-05-09  100000.0  \n",
       "2       0      F   75       2017-05-09  100000.0  \n",
       "3       5      F   75       2017-05-09  100000.0  \n",
       "4       0      F   75       2017-05-09  100000.0  "
      ]
     },
     "execution_count": 48,
     "metadata": {},
     "output_type": "execute_result"
    }
   ],
   "source": [
    "trans_pro.head()"
   ]
  },
  {
   "cell_type": "markdown",
   "id": "93f761d6-7fbd-43a7-872e-3d16784831f2",
   "metadata": {},
   "source": [
    "trans_pro has two \"id promotion\" columns:\n",
    "* one for the received promotions called \"id_promotion_rec\"\n",
    "* one for the completed promotions called \"id_promotion_comp\"\n",
    "\n",
    "Then we can either joined the trans_pro df with the portfolio df by either using the id_promotion_rec key or the id_promotion_comp key"
   ]
  },
  {
   "cell_type": "markdown",
   "id": "d3492a20-7e70-41fe-9640-cf7403d99270",
   "metadata": {
    "tags": []
   },
   "source": [
    "## Using the id_promotion_rec key\n",
    "\n",
    "For Received Promotions"
   ]
  },
  {
   "cell_type": "code",
   "execution_count": 59,
   "id": "23bf1b06-4819-4b86-a367-9bf9a8740915",
   "metadata": {},
   "outputs": [],
   "source": [
    "trans_pro_port_rec = pd.merge(trans_pro, portfolio, left_on = \"id_promotion_rec\", right_on=\"id_promotion\")"
   ]
  },
  {
   "cell_type": "code",
   "execution_count": 60,
   "id": "9ece1562-5b64-4f03-9445-667d86952418",
   "metadata": {},
   "outputs": [
    {
     "data": {
      "text/plain": [
       "(306534, 11)"
      ]
     },
     "execution_count": 60,
     "metadata": {},
     "output_type": "execute_result"
    }
   ],
   "source": [
    "trans_pro.shape"
   ]
  },
  {
   "cell_type": "code",
   "execution_count": 61,
   "id": "e44961e1-f4a5-417a-b47b-72b9fbc45be6",
   "metadata": {},
   "outputs": [
    {
     "data": {
      "text/plain": [
       "(134002, 20)"
      ]
     },
     "execution_count": 61,
     "metadata": {},
     "output_type": "execute_result"
    }
   ],
   "source": [
    "trans_pro_port_rec.shape"
   ]
  },
  {
   "cell_type": "markdown",
   "id": "8a0e284c-e217-4b8e-b259-b5fba22340a0",
   "metadata": {},
   "source": [
    "The trans_pro df and the merged trans_pro_port df do NOT have the same number of rows --> some data has been lost --> TO DOUBLE CHECK"
   ]
  },
  {
   "cell_type": "code",
   "execution_count": 62,
   "id": "135fb98e-fdc6-4e7a-97da-fcf4745645bc",
   "metadata": {},
   "outputs": [
    {
     "data": {
      "text/html": [
       "<div>\n",
       "<style scoped>\n",
       "    .dataframe tbody tr th:only-of-type {\n",
       "        vertical-align: middle;\n",
       "    }\n",
       "\n",
       "    .dataframe tbody tr th {\n",
       "        vertical-align: top;\n",
       "    }\n",
       "\n",
       "    .dataframe thead th {\n",
       "        text-align: right;\n",
       "    }\n",
       "</style>\n",
       "<table border=\"1\" class=\"dataframe\">\n",
       "  <thead>\n",
       "    <tr style=\"text-align: right;\">\n",
       "      <th></th>\n",
       "      <th>id_membership</th>\n",
       "      <th>event</th>\n",
       "      <th>time</th>\n",
       "      <th>id_promotion_rec</th>\n",
       "      <th>id_promotion_comp</th>\n",
       "      <th>amount</th>\n",
       "      <th>reward_x</th>\n",
       "      <th>gender</th>\n",
       "      <th>age</th>\n",
       "      <th>became_member_on</th>\n",
       "      <th>income</th>\n",
       "      <th>reward_y</th>\n",
       "      <th>difficulty</th>\n",
       "      <th>duration</th>\n",
       "      <th>offer_type</th>\n",
       "      <th>id_promotion</th>\n",
       "      <th>email</th>\n",
       "      <th>mobile</th>\n",
       "      <th>social</th>\n",
       "      <th>web</th>\n",
       "    </tr>\n",
       "  </thead>\n",
       "  <tbody>\n",
       "    <tr>\n",
       "      <th>0</th>\n",
       "      <td>78afa995795e4d85b5d9ceeca43f5fef</td>\n",
       "      <td>offer received</td>\n",
       "      <td>0</td>\n",
       "      <td>9b98b8c7a33c4b65b9aebfe6a799e6d9</td>\n",
       "      <td></td>\n",
       "      <td>0.0</td>\n",
       "      <td>0</td>\n",
       "      <td>F</td>\n",
       "      <td>75</td>\n",
       "      <td>2017-05-09</td>\n",
       "      <td>100000.0</td>\n",
       "      <td>5</td>\n",
       "      <td>5</td>\n",
       "      <td>7</td>\n",
       "      <td>bogo</td>\n",
       "      <td>9b98b8c7a33c4b65b9aebfe6a799e6d9</td>\n",
       "      <td>1</td>\n",
       "      <td>1</td>\n",
       "      <td>0</td>\n",
       "      <td>1</td>\n",
       "    </tr>\n",
       "    <tr>\n",
       "      <th>1</th>\n",
       "      <td>78afa995795e4d85b5d9ceeca43f5fef</td>\n",
       "      <td>offer viewed</td>\n",
       "      <td>6</td>\n",
       "      <td>9b98b8c7a33c4b65b9aebfe6a799e6d9</td>\n",
       "      <td></td>\n",
       "      <td>0.0</td>\n",
       "      <td>0</td>\n",
       "      <td>F</td>\n",
       "      <td>75</td>\n",
       "      <td>2017-05-09</td>\n",
       "      <td>100000.0</td>\n",
       "      <td>5</td>\n",
       "      <td>5</td>\n",
       "      <td>7</td>\n",
       "      <td>bogo</td>\n",
       "      <td>9b98b8c7a33c4b65b9aebfe6a799e6d9</td>\n",
       "      <td>1</td>\n",
       "      <td>1</td>\n",
       "      <td>0</td>\n",
       "      <td>1</td>\n",
       "    </tr>\n",
       "    <tr>\n",
       "      <th>2</th>\n",
       "      <td>e2127556f4f64592b11af22de27a7932</td>\n",
       "      <td>offer received</td>\n",
       "      <td>408</td>\n",
       "      <td>9b98b8c7a33c4b65b9aebfe6a799e6d9</td>\n",
       "      <td></td>\n",
       "      <td>0.0</td>\n",
       "      <td>0</td>\n",
       "      <td>M</td>\n",
       "      <td>68</td>\n",
       "      <td>2018-04-26</td>\n",
       "      <td>70000.0</td>\n",
       "      <td>5</td>\n",
       "      <td>5</td>\n",
       "      <td>7</td>\n",
       "      <td>bogo</td>\n",
       "      <td>9b98b8c7a33c4b65b9aebfe6a799e6d9</td>\n",
       "      <td>1</td>\n",
       "      <td>1</td>\n",
       "      <td>0</td>\n",
       "      <td>1</td>\n",
       "    </tr>\n",
       "    <tr>\n",
       "      <th>3</th>\n",
       "      <td>e2127556f4f64592b11af22de27a7932</td>\n",
       "      <td>offer viewed</td>\n",
       "      <td>420</td>\n",
       "      <td>9b98b8c7a33c4b65b9aebfe6a799e6d9</td>\n",
       "      <td></td>\n",
       "      <td>0.0</td>\n",
       "      <td>0</td>\n",
       "      <td>M</td>\n",
       "      <td>68</td>\n",
       "      <td>2018-04-26</td>\n",
       "      <td>70000.0</td>\n",
       "      <td>5</td>\n",
       "      <td>5</td>\n",
       "      <td>7</td>\n",
       "      <td>bogo</td>\n",
       "      <td>9b98b8c7a33c4b65b9aebfe6a799e6d9</td>\n",
       "      <td>1</td>\n",
       "      <td>1</td>\n",
       "      <td>0</td>\n",
       "      <td>1</td>\n",
       "    </tr>\n",
       "    <tr>\n",
       "      <th>4</th>\n",
       "      <td>68617ca6246f4fbc85e91a2a49552598</td>\n",
       "      <td>offer received</td>\n",
       "      <td>504</td>\n",
       "      <td>9b98b8c7a33c4b65b9aebfe6a799e6d9</td>\n",
       "      <td></td>\n",
       "      <td>0.0</td>\n",
       "      <td>0</td>\n",
       "      <td>None</td>\n",
       "      <td>118</td>\n",
       "      <td>2017-10-02</td>\n",
       "      <td>NaN</td>\n",
       "      <td>5</td>\n",
       "      <td>5</td>\n",
       "      <td>7</td>\n",
       "      <td>bogo</td>\n",
       "      <td>9b98b8c7a33c4b65b9aebfe6a799e6d9</td>\n",
       "      <td>1</td>\n",
       "      <td>1</td>\n",
       "      <td>0</td>\n",
       "      <td>1</td>\n",
       "    </tr>\n",
       "  </tbody>\n",
       "</table>\n",
       "</div>"
      ],
      "text/plain": [
       "                      id_membership           event  time  \\\n",
       "0  78afa995795e4d85b5d9ceeca43f5fef  offer received     0   \n",
       "1  78afa995795e4d85b5d9ceeca43f5fef    offer viewed     6   \n",
       "2  e2127556f4f64592b11af22de27a7932  offer received   408   \n",
       "3  e2127556f4f64592b11af22de27a7932    offer viewed   420   \n",
       "4  68617ca6246f4fbc85e91a2a49552598  offer received   504   \n",
       "\n",
       "                   id_promotion_rec id_promotion_comp  amount  reward_x  \\\n",
       "0  9b98b8c7a33c4b65b9aebfe6a799e6d9                       0.0         0   \n",
       "1  9b98b8c7a33c4b65b9aebfe6a799e6d9                       0.0         0   \n",
       "2  9b98b8c7a33c4b65b9aebfe6a799e6d9                       0.0         0   \n",
       "3  9b98b8c7a33c4b65b9aebfe6a799e6d9                       0.0         0   \n",
       "4  9b98b8c7a33c4b65b9aebfe6a799e6d9                       0.0         0   \n",
       "\n",
       "  gender  age became_member_on    income  reward_y  difficulty  duration  \\\n",
       "0      F   75       2017-05-09  100000.0         5           5         7   \n",
       "1      F   75       2017-05-09  100000.0         5           5         7   \n",
       "2      M   68       2018-04-26   70000.0         5           5         7   \n",
       "3      M   68       2018-04-26   70000.0         5           5         7   \n",
       "4   None  118       2017-10-02       NaN         5           5         7   \n",
       "\n",
       "  offer_type                      id_promotion  email  mobile  social  web  \n",
       "0       bogo  9b98b8c7a33c4b65b9aebfe6a799e6d9      1       1       0    1  \n",
       "1       bogo  9b98b8c7a33c4b65b9aebfe6a799e6d9      1       1       0    1  \n",
       "2       bogo  9b98b8c7a33c4b65b9aebfe6a799e6d9      1       1       0    1  \n",
       "3       bogo  9b98b8c7a33c4b65b9aebfe6a799e6d9      1       1       0    1  \n",
       "4       bogo  9b98b8c7a33c4b65b9aebfe6a799e6d9      1       1       0    1  "
      ]
     },
     "execution_count": 62,
     "metadata": {},
     "output_type": "execute_result"
    }
   ],
   "source": [
    "trans_pro_port_rec.head()"
   ]
  },
  {
   "cell_type": "markdown",
   "id": "452e58f8-4c9f-44be-a779-4d24917c6f7c",
   "metadata": {},
   "source": [
    "## Using the id_promotion_comp key"
   ]
  },
  {
   "cell_type": "markdown",
   "id": "9d9db306-e63d-4687-a892-db46812bcdfc",
   "metadata": {},
   "source": [
    "For completed promotions"
   ]
  },
  {
   "cell_type": "code",
   "execution_count": 63,
   "id": "17320dd6-e8f0-4a8e-8fa4-bd444d51fdbf",
   "metadata": {},
   "outputs": [],
   "source": [
    "trans_pro_port_comp = pd.merge(trans_pro, portfolio, left_on = \"id_promotion_comp\", right_on=\"id_promotion\")"
   ]
  },
  {
   "cell_type": "code",
   "execution_count": 64,
   "id": "79bd845c-8780-4d38-a190-4d8d907c1434",
   "metadata": {},
   "outputs": [
    {
     "data": {
      "text/plain": [
       "(306534, 11)"
      ]
     },
     "execution_count": 64,
     "metadata": {},
     "output_type": "execute_result"
    }
   ],
   "source": [
    "trans_pro.shape"
   ]
  },
  {
   "cell_type": "code",
   "execution_count": 65,
   "id": "5cb5da76-87a6-49cc-872a-ba6d8812d252",
   "metadata": {},
   "outputs": [
    {
     "data": {
      "text/plain": [
       "(33579, 20)"
      ]
     },
     "execution_count": 65,
     "metadata": {},
     "output_type": "execute_result"
    }
   ],
   "source": [
    "trans_pro_port_comp.shape"
   ]
  },
  {
   "cell_type": "markdown",
   "id": "30125fff-4fa9-43d5-9531-39a9841d82bb",
   "metadata": {},
   "source": [
    "The trans_pro df and the merged trans_pro_port df do NOT have the same number of rows --> some data has been lost --> TO DOUBLE CHECK"
   ]
  },
  {
   "cell_type": "code",
   "execution_count": 66,
   "id": "bb6fb267-23c5-4a7a-afe6-2ed91d847567",
   "metadata": {},
   "outputs": [
    {
     "data": {
      "text/html": [
       "<div>\n",
       "<style scoped>\n",
       "    .dataframe tbody tr th:only-of-type {\n",
       "        vertical-align: middle;\n",
       "    }\n",
       "\n",
       "    .dataframe tbody tr th {\n",
       "        vertical-align: top;\n",
       "    }\n",
       "\n",
       "    .dataframe thead th {\n",
       "        text-align: right;\n",
       "    }\n",
       "</style>\n",
       "<table border=\"1\" class=\"dataframe\">\n",
       "  <thead>\n",
       "    <tr style=\"text-align: right;\">\n",
       "      <th></th>\n",
       "      <th>id_membership</th>\n",
       "      <th>event</th>\n",
       "      <th>time</th>\n",
       "      <th>id_promotion_rec</th>\n",
       "      <th>id_promotion_comp</th>\n",
       "      <th>amount</th>\n",
       "      <th>reward_x</th>\n",
       "      <th>gender</th>\n",
       "      <th>age</th>\n",
       "      <th>became_member_on</th>\n",
       "      <th>income</th>\n",
       "      <th>reward_y</th>\n",
       "      <th>difficulty</th>\n",
       "      <th>duration</th>\n",
       "      <th>offer_type</th>\n",
       "      <th>id_promotion</th>\n",
       "      <th>email</th>\n",
       "      <th>mobile</th>\n",
       "      <th>social</th>\n",
       "      <th>web</th>\n",
       "    </tr>\n",
       "  </thead>\n",
       "  <tbody>\n",
       "    <tr>\n",
       "      <th>0</th>\n",
       "      <td>78afa995795e4d85b5d9ceeca43f5fef</td>\n",
       "      <td>offer completed</td>\n",
       "      <td>132</td>\n",
       "      <td></td>\n",
       "      <td>9b98b8c7a33c4b65b9aebfe6a799e6d9</td>\n",
       "      <td>0.0</td>\n",
       "      <td>5</td>\n",
       "      <td>F</td>\n",
       "      <td>75</td>\n",
       "      <td>2017-05-09</td>\n",
       "      <td>100000.0</td>\n",
       "      <td>5</td>\n",
       "      <td>5</td>\n",
       "      <td>7</td>\n",
       "      <td>bogo</td>\n",
       "      <td>9b98b8c7a33c4b65b9aebfe6a799e6d9</td>\n",
       "      <td>1</td>\n",
       "      <td>1</td>\n",
       "      <td>0</td>\n",
       "      <td>1</td>\n",
       "    </tr>\n",
       "    <tr>\n",
       "      <th>1</th>\n",
       "      <td>e2127556f4f64592b11af22de27a7932</td>\n",
       "      <td>offer completed</td>\n",
       "      <td>522</td>\n",
       "      <td></td>\n",
       "      <td>9b98b8c7a33c4b65b9aebfe6a799e6d9</td>\n",
       "      <td>0.0</td>\n",
       "      <td>5</td>\n",
       "      <td>M</td>\n",
       "      <td>68</td>\n",
       "      <td>2018-04-26</td>\n",
       "      <td>70000.0</td>\n",
       "      <td>5</td>\n",
       "      <td>5</td>\n",
       "      <td>7</td>\n",
       "      <td>bogo</td>\n",
       "      <td>9b98b8c7a33c4b65b9aebfe6a799e6d9</td>\n",
       "      <td>1</td>\n",
       "      <td>1</td>\n",
       "      <td>0</td>\n",
       "      <td>1</td>\n",
       "    </tr>\n",
       "    <tr>\n",
       "      <th>2</th>\n",
       "      <td>389bc3fa690240e798340f5a15918d5c</td>\n",
       "      <td>offer completed</td>\n",
       "      <td>498</td>\n",
       "      <td></td>\n",
       "      <td>9b98b8c7a33c4b65b9aebfe6a799e6d9</td>\n",
       "      <td>0.0</td>\n",
       "      <td>5</td>\n",
       "      <td>M</td>\n",
       "      <td>65</td>\n",
       "      <td>2018-02-09</td>\n",
       "      <td>53000.0</td>\n",
       "      <td>5</td>\n",
       "      <td>5</td>\n",
       "      <td>7</td>\n",
       "      <td>bogo</td>\n",
       "      <td>9b98b8c7a33c4b65b9aebfe6a799e6d9</td>\n",
       "      <td>1</td>\n",
       "      <td>1</td>\n",
       "      <td>0</td>\n",
       "      <td>1</td>\n",
       "    </tr>\n",
       "    <tr>\n",
       "      <th>3</th>\n",
       "      <td>868317b9be554cb18e50bc68484749a2</td>\n",
       "      <td>offer completed</td>\n",
       "      <td>468</td>\n",
       "      <td></td>\n",
       "      <td>9b98b8c7a33c4b65b9aebfe6a799e6d9</td>\n",
       "      <td>0.0</td>\n",
       "      <td>5</td>\n",
       "      <td>F</td>\n",
       "      <td>96</td>\n",
       "      <td>2017-11-17</td>\n",
       "      <td>89000.0</td>\n",
       "      <td>5</td>\n",
       "      <td>5</td>\n",
       "      <td>7</td>\n",
       "      <td>bogo</td>\n",
       "      <td>9b98b8c7a33c4b65b9aebfe6a799e6d9</td>\n",
       "      <td>1</td>\n",
       "      <td>1</td>\n",
       "      <td>0</td>\n",
       "      <td>1</td>\n",
       "    </tr>\n",
       "    <tr>\n",
       "      <th>4</th>\n",
       "      <td>f082d80f0aac47a99173ba8ef8fc1909</td>\n",
       "      <td>offer completed</td>\n",
       "      <td>12</td>\n",
       "      <td></td>\n",
       "      <td>9b98b8c7a33c4b65b9aebfe6a799e6d9</td>\n",
       "      <td>0.0</td>\n",
       "      <td>5</td>\n",
       "      <td>M</td>\n",
       "      <td>40</td>\n",
       "      <td>2016-07-09</td>\n",
       "      <td>33000.0</td>\n",
       "      <td>5</td>\n",
       "      <td>5</td>\n",
       "      <td>7</td>\n",
       "      <td>bogo</td>\n",
       "      <td>9b98b8c7a33c4b65b9aebfe6a799e6d9</td>\n",
       "      <td>1</td>\n",
       "      <td>1</td>\n",
       "      <td>0</td>\n",
       "      <td>1</td>\n",
       "    </tr>\n",
       "  </tbody>\n",
       "</table>\n",
       "</div>"
      ],
      "text/plain": [
       "                      id_membership            event  time id_promotion_rec  \\\n",
       "0  78afa995795e4d85b5d9ceeca43f5fef  offer completed   132                    \n",
       "1  e2127556f4f64592b11af22de27a7932  offer completed   522                    \n",
       "2  389bc3fa690240e798340f5a15918d5c  offer completed   498                    \n",
       "3  868317b9be554cb18e50bc68484749a2  offer completed   468                    \n",
       "4  f082d80f0aac47a99173ba8ef8fc1909  offer completed    12                    \n",
       "\n",
       "                  id_promotion_comp  amount  reward_x gender  age  \\\n",
       "0  9b98b8c7a33c4b65b9aebfe6a799e6d9     0.0         5      F   75   \n",
       "1  9b98b8c7a33c4b65b9aebfe6a799e6d9     0.0         5      M   68   \n",
       "2  9b98b8c7a33c4b65b9aebfe6a799e6d9     0.0         5      M   65   \n",
       "3  9b98b8c7a33c4b65b9aebfe6a799e6d9     0.0         5      F   96   \n",
       "4  9b98b8c7a33c4b65b9aebfe6a799e6d9     0.0         5      M   40   \n",
       "\n",
       "  became_member_on    income  reward_y  difficulty  duration offer_type  \\\n",
       "0       2017-05-09  100000.0         5           5         7       bogo   \n",
       "1       2018-04-26   70000.0         5           5         7       bogo   \n",
       "2       2018-02-09   53000.0         5           5         7       bogo   \n",
       "3       2017-11-17   89000.0         5           5         7       bogo   \n",
       "4       2016-07-09   33000.0         5           5         7       bogo   \n",
       "\n",
       "                       id_promotion  email  mobile  social  web  \n",
       "0  9b98b8c7a33c4b65b9aebfe6a799e6d9      1       1       0    1  \n",
       "1  9b98b8c7a33c4b65b9aebfe6a799e6d9      1       1       0    1  \n",
       "2  9b98b8c7a33c4b65b9aebfe6a799e6d9      1       1       0    1  \n",
       "3  9b98b8c7a33c4b65b9aebfe6a799e6d9      1       1       0    1  \n",
       "4  9b98b8c7a33c4b65b9aebfe6a799e6d9      1       1       0    1  "
      ]
     },
     "execution_count": 66,
     "metadata": {},
     "output_type": "execute_result"
    }
   ],
   "source": [
    "trans_pro_port.head()"
   ]
  },
  {
   "cell_type": "markdown",
   "id": "a1e21b18-bdaa-4e3b-aabf-6fe7ac258765",
   "metadata": {},
   "source": [
    "# Variables of interest"
   ]
  },
  {
   "cell_type": "markdown",
   "id": "61867409-b710-4d7b-86c2-e6382438b6aa",
   "metadata": {},
   "source": [
    "The idea is to derive a set of informative variables that we can use to cluster customers.\n",
    "\n",
    "The name of the derived variables will start with \"prep_\" for preprocessing."
   ]
  },
  {
   "cell_type": "markdown",
   "id": "4278a4c9-b6e7-412e-b974-4edb907af80d",
   "metadata": {},
   "source": [
    "Some exploration first"
   ]
  },
  {
   "cell_type": "code",
   "execution_count": 67,
   "id": "7dd013c7-ea51-4e54-9a70-95fb065ab93a",
   "metadata": {},
   "outputs": [
    {
     "data": {
      "text/plain": [
       "array(['offer received', 'offer viewed', 'transaction', 'offer completed'],\n",
       "      dtype=object)"
      ]
     },
     "execution_count": 67,
     "metadata": {},
     "output_type": "execute_result"
    }
   ],
   "source": [
    "transcript.event.unique()"
   ]
  },
  {
   "cell_type": "markdown",
   "id": "616c97d2-af88-4a71-9fcc-d266e74a837f",
   "metadata": {},
   "source": [
    "There are four different types of events:\n",
    "* offer received\n",
    "* offer viewed\n",
    "* transaction\n",
    "* offer completed"
   ]
  },
  {
   "cell_type": "code",
   "execution_count": 68,
   "id": "a9971980-3507-4a7a-aa74-c94b51ecde52",
   "metadata": {},
   "outputs": [
    {
     "data": {
      "text/plain": [
       "1775451.9699999907"
      ]
     },
     "execution_count": 68,
     "metadata": {},
     "output_type": "execute_result"
    }
   ],
   "source": [
    "sum(transcript[transcript.event == \"transaction\"].amount)"
   ]
  },
  {
   "cell_type": "code",
   "execution_count": 69,
   "id": "60c7a3cf-50ba-4066-b2ad-3157f3594662",
   "metadata": {},
   "outputs": [
    {
     "data": {
      "text/plain": [
       "0.0"
      ]
     },
     "execution_count": 69,
     "metadata": {},
     "output_type": "execute_result"
    }
   ],
   "source": [
    "sum(transcript[transcript.event == \"offer received\"].amount)"
   ]
  },
  {
   "cell_type": "markdown",
   "id": "5614d47a-a848-4b66-a85d-28ca0e00d534",
   "metadata": {},
   "source": [
    "The \"offer received\", \"offer viewed\", and \"offer completed\" events have their corresponding amount set to 0.\n",
    "\n",
    "Only the \"transaction\" events have a non-zero amount."
   ]
  },
  {
   "cell_type": "markdown",
   "id": "8afff565-9882-4f96-aee0-9a99256314b5",
   "metadata": {},
   "source": [
    "## Total average spend per customer"
   ]
  },
  {
   "cell_type": "code",
   "execution_count": 70,
   "id": "6a2dbf1d-3b5b-4836-abea-24e6469eb965",
   "metadata": {},
   "outputs": [
    {
     "data": {
      "text/html": [
       "<div>\n",
       "<style scoped>\n",
       "    .dataframe tbody tr th:only-of-type {\n",
       "        vertical-align: middle;\n",
       "    }\n",
       "\n",
       "    .dataframe tbody tr th {\n",
       "        vertical-align: top;\n",
       "    }\n",
       "\n",
       "    .dataframe thead th {\n",
       "        text-align: right;\n",
       "    }\n",
       "</style>\n",
       "<table border=\"1\" class=\"dataframe\">\n",
       "  <thead>\n",
       "    <tr style=\"text-align: right;\">\n",
       "      <th></th>\n",
       "      <th>id_membership</th>\n",
       "      <th>prep_tot_aver_spend</th>\n",
       "    </tr>\n",
       "  </thead>\n",
       "  <tbody>\n",
       "    <tr>\n",
       "      <th>0</th>\n",
       "      <td>0009655768c64bdeb2e877511632db8f</td>\n",
       "      <td>15.950000</td>\n",
       "    </tr>\n",
       "    <tr>\n",
       "      <th>1</th>\n",
       "      <td>00116118485d4dfda04fdbaba9a87b5c</td>\n",
       "      <td>1.363333</td>\n",
       "    </tr>\n",
       "    <tr>\n",
       "      <th>2</th>\n",
       "      <td>0011e0d4e6b944f998e987f904e8c1e5</td>\n",
       "      <td>15.892000</td>\n",
       "    </tr>\n",
       "    <tr>\n",
       "      <th>3</th>\n",
       "      <td>0020c2b971eb4e9188eac86d93036a77</td>\n",
       "      <td>24.607500</td>\n",
       "    </tr>\n",
       "    <tr>\n",
       "      <th>4</th>\n",
       "      <td>0020ccbbb6d84e358d3414a3ff76cffd</td>\n",
       "      <td>12.837500</td>\n",
       "    </tr>\n",
       "    <tr>\n",
       "      <th>...</th>\n",
       "      <td>...</td>\n",
       "      <td>...</td>\n",
       "    </tr>\n",
       "    <tr>\n",
       "      <th>16573</th>\n",
       "      <td>fff3ba4757bd42088c044ca26d73817a</td>\n",
       "      <td>52.816364</td>\n",
       "    </tr>\n",
       "    <tr>\n",
       "      <th>16574</th>\n",
       "      <td>fff7576017104bcc8677a8d63322b5e1</td>\n",
       "      <td>4.990000</td>\n",
       "    </tr>\n",
       "    <tr>\n",
       "      <th>16575</th>\n",
       "      <td>fff8957ea8b240a6b5e634b6ee8eafcf</td>\n",
       "      <td>2.430000</td>\n",
       "    </tr>\n",
       "    <tr>\n",
       "      <th>16576</th>\n",
       "      <td>fffad4f4828548d1b5583907f2e9906b</td>\n",
       "      <td>7.402500</td>\n",
       "    </tr>\n",
       "    <tr>\n",
       "      <th>16577</th>\n",
       "      <td>ffff82501cea40309d5fdd7edcca4a07</td>\n",
       "      <td>15.071333</td>\n",
       "    </tr>\n",
       "  </tbody>\n",
       "</table>\n",
       "<p>16578 rows × 2 columns</p>\n",
       "</div>"
      ],
      "text/plain": [
       "                          id_membership  prep_tot_aver_spend\n",
       "0      0009655768c64bdeb2e877511632db8f            15.950000\n",
       "1      00116118485d4dfda04fdbaba9a87b5c             1.363333\n",
       "2      0011e0d4e6b944f998e987f904e8c1e5            15.892000\n",
       "3      0020c2b971eb4e9188eac86d93036a77            24.607500\n",
       "4      0020ccbbb6d84e358d3414a3ff76cffd            12.837500\n",
       "...                                 ...                  ...\n",
       "16573  fff3ba4757bd42088c044ca26d73817a            52.816364\n",
       "16574  fff7576017104bcc8677a8d63322b5e1             4.990000\n",
       "16575  fff8957ea8b240a6b5e634b6ee8eafcf             2.430000\n",
       "16576  fffad4f4828548d1b5583907f2e9906b             7.402500\n",
       "16577  ffff82501cea40309d5fdd7edcca4a07            15.071333\n",
       "\n",
       "[16578 rows x 2 columns]"
      ]
     },
     "execution_count": 70,
     "metadata": {},
     "output_type": "execute_result"
    }
   ],
   "source": [
    "trans_mean = transcript.query('event == \"transaction\"') # Filter only on transactions events\n",
    "trans_mean = trans_mean.groupby('id_membership').mean() #.sort_values(by=\"amount\", ascending=False)\n",
    "trans_mean = trans_mean.reset_index(level=[0]) # reset index\n",
    "trans_mean = trans_mean[[\"id_membership\", \"amount\"]] # only keep \"id_membership\" and \"amount\" columns for later merging to profile\n",
    "trans_mean.rename(columns = {'amount':'prep_tot_aver_spend'}, inplace = True) # rename \"amount\" column to \"prep_tot_aver_spend\" column\n",
    "trans_mean"
   ]
  },
  {
   "cell_type": "code",
   "execution_count": 142,
   "id": "b00fbb21-47b8-418c-b8db-a6067dcd7d3a",
   "metadata": {
    "tags": []
   },
   "outputs": [
    {
     "data": {
      "text/plain": [
       "(16578, 2)"
      ]
     },
     "execution_count": 142,
     "metadata": {},
     "output_type": "execute_result"
    }
   ],
   "source": [
    "trans_mean.shape"
   ]
  },
  {
   "cell_type": "code",
   "execution_count": 144,
   "id": "ddb3cf7b-4b31-4aa8-b794-0c6b6845b98d",
   "metadata": {},
   "outputs": [
    {
     "data": {
      "text/plain": [
       "(17000, 5)"
      ]
     },
     "execution_count": 144,
     "metadata": {},
     "output_type": "execute_result"
    }
   ],
   "source": [
    "profile.shape"
   ]
  },
  {
   "cell_type": "markdown",
   "id": "f129645c-12b6-43ba-9c62-2af4855aa775",
   "metadata": {},
   "source": [
    "There is less rows in trans_mean than profile --> some customers do **NOT** do any transactions probably. lets do a full outer join to double check that"
   ]
  },
  {
   "cell_type": "code",
   "execution_count": 145,
   "id": "df33b523-b628-4a72-babe-a76a8df01eb1",
   "metadata": {},
   "outputs": [],
   "source": [
    "pro_test = pd.merge(trans_mean, profile, on=\"id_membership\",how='outer')"
   ]
  },
  {
   "cell_type": "code",
   "execution_count": 146,
   "id": "418bb856-5f65-4904-ab2a-8abde200fe61",
   "metadata": {},
   "outputs": [
    {
     "data": {
      "text/html": [
       "<div>\n",
       "<style scoped>\n",
       "    .dataframe tbody tr th:only-of-type {\n",
       "        vertical-align: middle;\n",
       "    }\n",
       "\n",
       "    .dataframe tbody tr th {\n",
       "        vertical-align: top;\n",
       "    }\n",
       "\n",
       "    .dataframe thead th {\n",
       "        text-align: right;\n",
       "    }\n",
       "</style>\n",
       "<table border=\"1\" class=\"dataframe\">\n",
       "  <thead>\n",
       "    <tr style=\"text-align: right;\">\n",
       "      <th></th>\n",
       "      <th>id_membership</th>\n",
       "      <th>prep_tot_aver_spend</th>\n",
       "      <th>gender</th>\n",
       "      <th>age</th>\n",
       "      <th>became_member_on</th>\n",
       "      <th>income</th>\n",
       "    </tr>\n",
       "  </thead>\n",
       "  <tbody>\n",
       "    <tr>\n",
       "      <th>0</th>\n",
       "      <td>0009655768c64bdeb2e877511632db8f</td>\n",
       "      <td>15.950000</td>\n",
       "      <td>M</td>\n",
       "      <td>33</td>\n",
       "      <td>2017-04-21</td>\n",
       "      <td>72000.0</td>\n",
       "    </tr>\n",
       "    <tr>\n",
       "      <th>1</th>\n",
       "      <td>00116118485d4dfda04fdbaba9a87b5c</td>\n",
       "      <td>1.363333</td>\n",
       "      <td>None</td>\n",
       "      <td>118</td>\n",
       "      <td>2018-04-25</td>\n",
       "      <td>NaN</td>\n",
       "    </tr>\n",
       "    <tr>\n",
       "      <th>2</th>\n",
       "      <td>0011e0d4e6b944f998e987f904e8c1e5</td>\n",
       "      <td>15.892000</td>\n",
       "      <td>O</td>\n",
       "      <td>40</td>\n",
       "      <td>2018-01-09</td>\n",
       "      <td>57000.0</td>\n",
       "    </tr>\n",
       "    <tr>\n",
       "      <th>3</th>\n",
       "      <td>0020c2b971eb4e9188eac86d93036a77</td>\n",
       "      <td>24.607500</td>\n",
       "      <td>F</td>\n",
       "      <td>59</td>\n",
       "      <td>2016-03-04</td>\n",
       "      <td>90000.0</td>\n",
       "    </tr>\n",
       "    <tr>\n",
       "      <th>4</th>\n",
       "      <td>0020ccbbb6d84e358d3414a3ff76cffd</td>\n",
       "      <td>12.837500</td>\n",
       "      <td>F</td>\n",
       "      <td>24</td>\n",
       "      <td>2016-11-11</td>\n",
       "      <td>60000.0</td>\n",
       "    </tr>\n",
       "    <tr>\n",
       "      <th>...</th>\n",
       "      <td>...</td>\n",
       "      <td>...</td>\n",
       "      <td>...</td>\n",
       "      <td>...</td>\n",
       "      <td>...</td>\n",
       "      <td>...</td>\n",
       "    </tr>\n",
       "    <tr>\n",
       "      <th>16995</th>\n",
       "      <td>122d6efefb634edeb6a7199163a012d5</td>\n",
       "      <td>NaN</td>\n",
       "      <td>M</td>\n",
       "      <td>67</td>\n",
       "      <td>2018-06-22</td>\n",
       "      <td>73000.0</td>\n",
       "    </tr>\n",
       "    <tr>\n",
       "      <th>16996</th>\n",
       "      <td>8c8aab35a805417b9f818afd497f26a4</td>\n",
       "      <td>NaN</td>\n",
       "      <td>M</td>\n",
       "      <td>63</td>\n",
       "      <td>2017-08-13</td>\n",
       "      <td>71000.0</td>\n",
       "    </tr>\n",
       "    <tr>\n",
       "      <th>16997</th>\n",
       "      <td>b29f03fcfc844f01b93c28ce950a2cd7</td>\n",
       "      <td>NaN</td>\n",
       "      <td>M</td>\n",
       "      <td>34</td>\n",
       "      <td>2018-03-10</td>\n",
       "      <td>31000.0</td>\n",
       "    </tr>\n",
       "    <tr>\n",
       "      <th>16998</th>\n",
       "      <td>043b6b6be98c412d901f7f376e0548d0</td>\n",
       "      <td>NaN</td>\n",
       "      <td>M</td>\n",
       "      <td>73</td>\n",
       "      <td>2017-10-05</td>\n",
       "      <td>77000.0</td>\n",
       "    </tr>\n",
       "    <tr>\n",
       "      <th>16999</th>\n",
       "      <td>b6f74fc8e1664cfb9b44834dd9f7cf48</td>\n",
       "      <td>NaN</td>\n",
       "      <td>None</td>\n",
       "      <td>118</td>\n",
       "      <td>2018-03-07</td>\n",
       "      <td>NaN</td>\n",
       "    </tr>\n",
       "  </tbody>\n",
       "</table>\n",
       "<p>17000 rows × 6 columns</p>\n",
       "</div>"
      ],
      "text/plain": [
       "                          id_membership  prep_tot_aver_spend gender  age  \\\n",
       "0      0009655768c64bdeb2e877511632db8f            15.950000      M   33   \n",
       "1      00116118485d4dfda04fdbaba9a87b5c             1.363333   None  118   \n",
       "2      0011e0d4e6b944f998e987f904e8c1e5            15.892000      O   40   \n",
       "3      0020c2b971eb4e9188eac86d93036a77            24.607500      F   59   \n",
       "4      0020ccbbb6d84e358d3414a3ff76cffd            12.837500      F   24   \n",
       "...                                 ...                  ...    ...  ...   \n",
       "16995  122d6efefb634edeb6a7199163a012d5                  NaN      M   67   \n",
       "16996  8c8aab35a805417b9f818afd497f26a4                  NaN      M   63   \n",
       "16997  b29f03fcfc844f01b93c28ce950a2cd7                  NaN      M   34   \n",
       "16998  043b6b6be98c412d901f7f376e0548d0                  NaN      M   73   \n",
       "16999  b6f74fc8e1664cfb9b44834dd9f7cf48                  NaN   None  118   \n",
       "\n",
       "      became_member_on   income  \n",
       "0           2017-04-21  72000.0  \n",
       "1           2018-04-25      NaN  \n",
       "2           2018-01-09  57000.0  \n",
       "3           2016-03-04  90000.0  \n",
       "4           2016-11-11  60000.0  \n",
       "...                ...      ...  \n",
       "16995       2018-06-22  73000.0  \n",
       "16996       2017-08-13  71000.0  \n",
       "16997       2018-03-10  31000.0  \n",
       "16998       2017-10-05  77000.0  \n",
       "16999       2018-03-07      NaN  \n",
       "\n",
       "[17000 rows x 6 columns]"
      ]
     },
     "execution_count": 146,
     "metadata": {},
     "output_type": "execute_result"
    }
   ],
   "source": [
    "pro_test"
   ]
  },
  {
   "cell_type": "markdown",
   "id": "8224caee-e2bf-4482-a080-5deaf5ded9aa",
   "metadata": {},
   "source": [
    "We see that the bottom rows have **NaN** for the prep_tot_aver_spend meaning that they did not do any transactions."
   ]
  },
  {
   "cell_type": "code",
   "execution_count": 147,
   "id": "afc700da-1ecf-493a-9701-2aca3efed856",
   "metadata": {},
   "outputs": [
    {
     "data": {
      "text/plain": [
       "422"
      ]
     },
     "execution_count": 147,
     "metadata": {},
     "output_type": "execute_result"
    }
   ],
   "source": [
    "sum(pro_test.prep_tot_aver_spend.isna())"
   ]
  },
  {
   "cell_type": "markdown",
   "id": "428a731d-ac19-44de-b2e1-36b18210dcb3",
   "metadata": {},
   "source": [
    "There are 422 customers that did not do any transactions"
   ]
  },
  {
   "cell_type": "markdown",
   "id": "be2242cd-5904-4c80-b0d1-7b69bba2e6eb",
   "metadata": {},
   "source": [
    "Lets do a inner merge this time to avoid any NaNs in the prep_tot_aver_spend column."
   ]
  },
  {
   "cell_type": "code",
   "execution_count": 166,
   "id": "e3709a0a-1474-4a48-aa95-719cd028374c",
   "metadata": {},
   "outputs": [
    {
     "ename": "TypeError",
     "evalue": "merge() got an unexpected keyword argument 'merge_how'",
     "output_type": "error",
     "traceback": [
      "\u001b[1;31m---------------------------------------------------------------------------\u001b[0m",
      "\u001b[1;31mTypeError\u001b[0m                                 Traceback (most recent call last)",
      "\u001b[1;32m~\\AppData\\Local\\Temp/ipykernel_1208/1675106322.py\u001b[0m in \u001b[0;36m<module>\u001b[1;34m\u001b[0m\n\u001b[1;32m----> 1\u001b[1;33m \u001b[0mpro_ext\u001b[0m \u001b[1;33m=\u001b[0m \u001b[0mpd\u001b[0m\u001b[1;33m.\u001b[0m\u001b[0mmerge\u001b[0m\u001b[1;33m(\u001b[0m\u001b[0mtrans_mean\u001b[0m\u001b[1;33m,\u001b[0m \u001b[0mprofile\u001b[0m\u001b[1;33m,\u001b[0m \u001b[0mon\u001b[0m\u001b[1;33m=\u001b[0m\u001b[1;34m\"id_membership\"\u001b[0m\u001b[1;33m,\u001b[0m \u001b[0mmerge_how\u001b[0m\u001b[1;33m=\u001b[0m\u001b[1;34m\"inner\"\u001b[0m\u001b[1;33m)\u001b[0m\u001b[1;33m\u001b[0m\u001b[1;33m\u001b[0m\u001b[0m\n\u001b[0m",
      "\u001b[1;31mTypeError\u001b[0m: merge() got an unexpected keyword argument 'merge_how'"
     ]
    }
   ],
   "source": [
    "pro_ext = pd.merge(trans_mean, profile, on=\"id_membership\", merge_how=\"inner\")"
   ]
  },
  {
   "cell_type": "markdown",
   "id": "bf23313e-1f03-477f-95fa-81ebf6735434",
   "metadata": {},
   "source": [
    "### Comparison of the 118 age group against the non-118 age group"
   ]
  },
  {
   "cell_type": "markdown",
   "id": "a28dffb8-8634-4518-9156-621594abe9f4",
   "metadata": {},
   "source": [
    "We see that the **118** age group spend on average much **LESS** than the **non-118** age group."
   ]
  },
  {
   "cell_type": "code",
   "execution_count": 167,
   "id": "5202050c-ee1e-4868-8159-5f10ec12a538",
   "metadata": {},
   "outputs": [
    {
     "data": {
      "text/plain": [
       "count    16578.000000\n",
       "mean        13.680266\n",
       "std         16.056763\n",
       "min          0.050000\n",
       "25%          3.181392\n",
       "50%         11.996607\n",
       "75%         20.469643\n",
       "max        451.470000\n",
       "Name: prep_tot_aver_spend, dtype: float64"
      ]
     },
     "execution_count": 167,
     "metadata": {},
     "output_type": "execute_result"
    }
   ],
   "source": [
    "pro_ext.prep_tot_aver_spend.describe()"
   ]
  },
  {
   "cell_type": "code",
   "execution_count": 168,
   "id": "30502048-248f-4e74-b574-6de06b6d18ea",
   "metadata": {},
   "outputs": [
    {
     "data": {
      "text/plain": [
       "count    2086.000000\n",
       "mean        2.759012\n",
       "std         3.344033\n",
       "min         0.050000\n",
       "25%         1.632000\n",
       "50%         2.265833\n",
       "75%         3.062670\n",
       "max        82.070000\n",
       "Name: prep_tot_aver_spend, dtype: float64"
      ]
     },
     "execution_count": 168,
     "metadata": {},
     "output_type": "execute_result"
    }
   ],
   "source": [
    "pro_ext[pro_ext.age==118].prep_tot_aver_spend.describe()"
   ]
  },
  {
   "cell_type": "code",
   "execution_count": 169,
   "id": "55ababf1-2396-4b24-9142-31723c80fe92",
   "metadata": {},
   "outputs": [
    {
     "data": {
      "text/plain": [
       "count    14492.000000\n",
       "mean        15.252287\n",
       "std         16.543371\n",
       "min          0.150000\n",
       "25%          3.890833\n",
       "50%         14.311214\n",
       "75%         21.467625\n",
       "max        451.470000\n",
       "Name: prep_tot_aver_spend, dtype: float64"
      ]
     },
     "execution_count": 169,
     "metadata": {},
     "output_type": "execute_result"
    }
   ],
   "source": [
    "pro_ext[pro_ext.age!=118].prep_tot_aver_spend.describe()"
   ]
  },
  {
   "cell_type": "markdown",
   "id": "87dca130-1284-467e-80b1-7021fe422830",
   "metadata": {},
   "source": [
    "## Total number of completed offer"
   ]
  },
  {
   "cell_type": "code",
   "execution_count": 113,
   "id": "d7237828-bd9a-40c4-80a3-3d07ae064438",
   "metadata": {},
   "outputs": [
    {
     "data": {
      "text/html": [
       "<div>\n",
       "<style scoped>\n",
       "    .dataframe tbody tr th:only-of-type {\n",
       "        vertical-align: middle;\n",
       "    }\n",
       "\n",
       "    .dataframe tbody tr th {\n",
       "        vertical-align: top;\n",
       "    }\n",
       "\n",
       "    .dataframe thead th {\n",
       "        text-align: right;\n",
       "    }\n",
       "</style>\n",
       "<table border=\"1\" class=\"dataframe\">\n",
       "  <thead>\n",
       "    <tr style=\"text-align: right;\">\n",
       "      <th></th>\n",
       "      <th>id_membership</th>\n",
       "      <th>event</th>\n",
       "      <th>time</th>\n",
       "      <th>id_promotion</th>\n",
       "      <th>amount</th>\n",
       "      <th>reward</th>\n",
       "    </tr>\n",
       "  </thead>\n",
       "  <tbody>\n",
       "    <tr>\n",
       "      <th>0</th>\n",
       "      <td>78afa995795e4d85b5d9ceeca43f5fef</td>\n",
       "      <td>offer received</td>\n",
       "      <td>0</td>\n",
       "      <td>9b98b8c7a33c4b65b9aebfe6a799e6d9</td>\n",
       "      <td>0.0</td>\n",
       "      <td>0</td>\n",
       "    </tr>\n",
       "    <tr>\n",
       "      <th>1</th>\n",
       "      <td>a03223e636434f42ac4c3df47e8bac43</td>\n",
       "      <td>offer received</td>\n",
       "      <td>0</td>\n",
       "      <td>0b1e1539f2cc45b7b9fa7c272da2e1d7</td>\n",
       "      <td>0.0</td>\n",
       "      <td>0</td>\n",
       "    </tr>\n",
       "    <tr>\n",
       "      <th>2</th>\n",
       "      <td>e2127556f4f64592b11af22de27a7932</td>\n",
       "      <td>offer received</td>\n",
       "      <td>0</td>\n",
       "      <td>2906b810c7d4411798c6938adc9daaa5</td>\n",
       "      <td>0.0</td>\n",
       "      <td>0</td>\n",
       "    </tr>\n",
       "    <tr>\n",
       "      <th>3</th>\n",
       "      <td>8ec6ce2a7e7949b1bf142def7d0e0586</td>\n",
       "      <td>offer received</td>\n",
       "      <td>0</td>\n",
       "      <td>fafdcd668e3743c1bb461111dcafc2a4</td>\n",
       "      <td>0.0</td>\n",
       "      <td>0</td>\n",
       "    </tr>\n",
       "    <tr>\n",
       "      <th>4</th>\n",
       "      <td>68617ca6246f4fbc85e91a2a49552598</td>\n",
       "      <td>offer received</td>\n",
       "      <td>0</td>\n",
       "      <td>4d5c57ea9a6940dd891ad53e9dbe8da0</td>\n",
       "      <td>0.0</td>\n",
       "      <td>0</td>\n",
       "    </tr>\n",
       "  </tbody>\n",
       "</table>\n",
       "</div>"
      ],
      "text/plain": [
       "                      id_membership           event  time  \\\n",
       "0  78afa995795e4d85b5d9ceeca43f5fef  offer received     0   \n",
       "1  a03223e636434f42ac4c3df47e8bac43  offer received     0   \n",
       "2  e2127556f4f64592b11af22de27a7932  offer received     0   \n",
       "3  8ec6ce2a7e7949b1bf142def7d0e0586  offer received     0   \n",
       "4  68617ca6246f4fbc85e91a2a49552598  offer received     0   \n",
       "\n",
       "                       id_promotion  amount  reward  \n",
       "0  9b98b8c7a33c4b65b9aebfe6a799e6d9     0.0       0  \n",
       "1  0b1e1539f2cc45b7b9fa7c272da2e1d7     0.0       0  \n",
       "2  2906b810c7d4411798c6938adc9daaa5     0.0       0  \n",
       "3  fafdcd668e3743c1bb461111dcafc2a4     0.0       0  \n",
       "4  4d5c57ea9a6940dd891ad53e9dbe8da0     0.0       0  "
      ]
     },
     "execution_count": 113,
     "metadata": {},
     "output_type": "execute_result"
    }
   ],
   "source": [
    "transcript.head()"
   ]
  },
  {
   "cell_type": "code",
   "execution_count": 135,
   "id": "6bb7889d-4da5-46f5-8b1c-52fce1da4518",
   "metadata": {},
   "outputs": [
    {
     "data": {
      "text/html": [
       "<div>\n",
       "<style scoped>\n",
       "    .dataframe tbody tr th:only-of-type {\n",
       "        vertical-align: middle;\n",
       "    }\n",
       "\n",
       "    .dataframe tbody tr th {\n",
       "        vertical-align: top;\n",
       "    }\n",
       "\n",
       "    .dataframe thead th {\n",
       "        text-align: right;\n",
       "    }\n",
       "</style>\n",
       "<table border=\"1\" class=\"dataframe\">\n",
       "  <thead>\n",
       "    <tr style=\"text-align: right;\">\n",
       "      <th></th>\n",
       "      <th></th>\n",
       "      <th>time</th>\n",
       "      <th>id_promotion</th>\n",
       "      <th>amount</th>\n",
       "      <th>reward</th>\n",
       "    </tr>\n",
       "    <tr>\n",
       "      <th>id_membership</th>\n",
       "      <th>event</th>\n",
       "      <th></th>\n",
       "      <th></th>\n",
       "      <th></th>\n",
       "      <th></th>\n",
       "    </tr>\n",
       "  </thead>\n",
       "  <tbody>\n",
       "    <tr>\n",
       "      <th rowspan=\"4\" valign=\"top\">0009655768c64bdeb2e877511632db8f</th>\n",
       "      <th>offer completed</th>\n",
       "      <td>3</td>\n",
       "      <td>3</td>\n",
       "      <td>3</td>\n",
       "      <td>3</td>\n",
       "    </tr>\n",
       "    <tr>\n",
       "      <th>offer received</th>\n",
       "      <td>5</td>\n",
       "      <td>5</td>\n",
       "      <td>5</td>\n",
       "      <td>5</td>\n",
       "    </tr>\n",
       "    <tr>\n",
       "      <th>offer viewed</th>\n",
       "      <td>4</td>\n",
       "      <td>4</td>\n",
       "      <td>4</td>\n",
       "      <td>4</td>\n",
       "    </tr>\n",
       "    <tr>\n",
       "      <th>transaction</th>\n",
       "      <td>8</td>\n",
       "      <td>8</td>\n",
       "      <td>8</td>\n",
       "      <td>8</td>\n",
       "    </tr>\n",
       "    <tr>\n",
       "      <th rowspan=\"3\" valign=\"top\">00116118485d4dfda04fdbaba9a87b5c</th>\n",
       "      <th>offer received</th>\n",
       "      <td>2</td>\n",
       "      <td>2</td>\n",
       "      <td>2</td>\n",
       "      <td>2</td>\n",
       "    </tr>\n",
       "    <tr>\n",
       "      <th>offer viewed</th>\n",
       "      <td>2</td>\n",
       "      <td>2</td>\n",
       "      <td>2</td>\n",
       "      <td>2</td>\n",
       "    </tr>\n",
       "    <tr>\n",
       "      <th>transaction</th>\n",
       "      <td>3</td>\n",
       "      <td>3</td>\n",
       "      <td>3</td>\n",
       "      <td>3</td>\n",
       "    </tr>\n",
       "    <tr>\n",
       "      <th rowspan=\"4\" valign=\"top\">0011e0d4e6b944f998e987f904e8c1e5</th>\n",
       "      <th>offer completed</th>\n",
       "      <td>3</td>\n",
       "      <td>3</td>\n",
       "      <td>3</td>\n",
       "      <td>3</td>\n",
       "    </tr>\n",
       "    <tr>\n",
       "      <th>offer received</th>\n",
       "      <td>5</td>\n",
       "      <td>5</td>\n",
       "      <td>5</td>\n",
       "      <td>5</td>\n",
       "    </tr>\n",
       "    <tr>\n",
       "      <th>offer viewed</th>\n",
       "      <td>5</td>\n",
       "      <td>5</td>\n",
       "      <td>5</td>\n",
       "      <td>5</td>\n",
       "    </tr>\n",
       "    <tr>\n",
       "      <th>transaction</th>\n",
       "      <td>5</td>\n",
       "      <td>5</td>\n",
       "      <td>5</td>\n",
       "      <td>5</td>\n",
       "    </tr>\n",
       "    <tr>\n",
       "      <th rowspan=\"4\" valign=\"top\">0020c2b971eb4e9188eac86d93036a77</th>\n",
       "      <th>offer completed</th>\n",
       "      <td>3</td>\n",
       "      <td>3</td>\n",
       "      <td>3</td>\n",
       "      <td>3</td>\n",
       "    </tr>\n",
       "    <tr>\n",
       "      <th>offer received</th>\n",
       "      <td>5</td>\n",
       "      <td>5</td>\n",
       "      <td>5</td>\n",
       "      <td>5</td>\n",
       "    </tr>\n",
       "    <tr>\n",
       "      <th>offer viewed</th>\n",
       "      <td>3</td>\n",
       "      <td>3</td>\n",
       "      <td>3</td>\n",
       "      <td>3</td>\n",
       "    </tr>\n",
       "    <tr>\n",
       "      <th>transaction</th>\n",
       "      <td>8</td>\n",
       "      <td>8</td>\n",
       "      <td>8</td>\n",
       "      <td>8</td>\n",
       "    </tr>\n",
       "    <tr>\n",
       "      <th rowspan=\"4\" valign=\"top\">0020ccbbb6d84e358d3414a3ff76cffd</th>\n",
       "      <th>offer completed</th>\n",
       "      <td>3</td>\n",
       "      <td>3</td>\n",
       "      <td>3</td>\n",
       "      <td>3</td>\n",
       "    </tr>\n",
       "    <tr>\n",
       "      <th>offer received</th>\n",
       "      <td>4</td>\n",
       "      <td>4</td>\n",
       "      <td>4</td>\n",
       "      <td>4</td>\n",
       "    </tr>\n",
       "    <tr>\n",
       "      <th>offer viewed</th>\n",
       "      <td>4</td>\n",
       "      <td>4</td>\n",
       "      <td>4</td>\n",
       "      <td>4</td>\n",
       "    </tr>\n",
       "    <tr>\n",
       "      <th>transaction</th>\n",
       "      <td>12</td>\n",
       "      <td>12</td>\n",
       "      <td>12</td>\n",
       "      <td>12</td>\n",
       "    </tr>\n",
       "    <tr>\n",
       "      <th>003d66b6608740288d6cc97a6903f4f0</th>\n",
       "      <th>offer completed</th>\n",
       "      <td>3</td>\n",
       "      <td>3</td>\n",
       "      <td>3</td>\n",
       "      <td>3</td>\n",
       "    </tr>\n",
       "  </tbody>\n",
       "</table>\n",
       "</div>"
      ],
      "text/plain": [
       "                                                  time  id_promotion  amount  \\\n",
       "id_membership                    event                                         \n",
       "0009655768c64bdeb2e877511632db8f offer completed     3             3       3   \n",
       "                                 offer received      5             5       5   \n",
       "                                 offer viewed        4             4       4   \n",
       "                                 transaction         8             8       8   \n",
       "00116118485d4dfda04fdbaba9a87b5c offer received      2             2       2   \n",
       "                                 offer viewed        2             2       2   \n",
       "                                 transaction         3             3       3   \n",
       "0011e0d4e6b944f998e987f904e8c1e5 offer completed     3             3       3   \n",
       "                                 offer received      5             5       5   \n",
       "                                 offer viewed        5             5       5   \n",
       "                                 transaction         5             5       5   \n",
       "0020c2b971eb4e9188eac86d93036a77 offer completed     3             3       3   \n",
       "                                 offer received      5             5       5   \n",
       "                                 offer viewed        3             3       3   \n",
       "                                 transaction         8             8       8   \n",
       "0020ccbbb6d84e358d3414a3ff76cffd offer completed     3             3       3   \n",
       "                                 offer received      4             4       4   \n",
       "                                 offer viewed        4             4       4   \n",
       "                                 transaction        12            12      12   \n",
       "003d66b6608740288d6cc97a6903f4f0 offer completed     3             3       3   \n",
       "\n",
       "                                                  reward  \n",
       "id_membership                    event                    \n",
       "0009655768c64bdeb2e877511632db8f offer completed       3  \n",
       "                                 offer received        5  \n",
       "                                 offer viewed          4  \n",
       "                                 transaction           8  \n",
       "00116118485d4dfda04fdbaba9a87b5c offer received        2  \n",
       "                                 offer viewed          2  \n",
       "                                 transaction           3  \n",
       "0011e0d4e6b944f998e987f904e8c1e5 offer completed       3  \n",
       "                                 offer received        5  \n",
       "                                 offer viewed          5  \n",
       "                                 transaction           5  \n",
       "0020c2b971eb4e9188eac86d93036a77 offer completed       3  \n",
       "                                 offer received        5  \n",
       "                                 offer viewed          3  \n",
       "                                 transaction           8  \n",
       "0020ccbbb6d84e358d3414a3ff76cffd offer completed       3  \n",
       "                                 offer received        4  \n",
       "                                 offer viewed          4  \n",
       "                                 transaction          12  \n",
       "003d66b6608740288d6cc97a6903f4f0 offer completed       3  "
      ]
     },
     "execution_count": 135,
     "metadata": {},
     "output_type": "execute_result"
    }
   ],
   "source": [
    "trans_count = transcript.groupby(['id_membership', 'event']).count()#.sort_values(by=\"amount\", ascending=False)\n",
    "trans_count.head(20)\n",
    "#tot_aver_spend = trans_mean[\"amount\"]"
   ]
  },
  {
   "cell_type": "markdown",
   "id": "80fa1bc4-7c56-461f-8e4c-da933275897b",
   "metadata": {},
   "source": [
    "We see different scenarios for customers:\n",
    "* some customers view and use (e.g. complete) all the received offers\n",
    "* some other customers do not use (e.g. complete) at all their received offers even if they have viewed them --> need to undestand why"
   ]
  },
  {
   "cell_type": "code",
   "execution_count": 172,
   "id": "db8d6369-79a5-45a3-9870-92b870ca0822",
   "metadata": {},
   "outputs": [
    {
     "name": "stderr",
     "output_type": "stream",
     "text": [
      "C:\\Users\\BASTAMX2\\AppData\\Roaming\\Python\\Python38\\site-packages\\pandas\\core\\frame.py:4438: SettingWithCopyWarning: \n",
      "A value is trying to be set on a copy of a slice from a DataFrame\n",
      "\n",
      "See the caveats in the documentation: https://pandas.pydata.org/pandas-docs/stable/user_guide/indexing.html#returning-a-view-versus-a-copy\n",
      "  return super().rename(\n"
     ]
    },
    {
     "data": {
      "text/html": [
       "<div>\n",
       "<style scoped>\n",
       "    .dataframe tbody tr th:only-of-type {\n",
       "        vertical-align: middle;\n",
       "    }\n",
       "\n",
       "    .dataframe tbody tr th {\n",
       "        vertical-align: top;\n",
       "    }\n",
       "\n",
       "    .dataframe thead th {\n",
       "        text-align: right;\n",
       "    }\n",
       "</style>\n",
       "<table border=\"1\" class=\"dataframe\">\n",
       "  <thead>\n",
       "    <tr style=\"text-align: right;\">\n",
       "      <th></th>\n",
       "      <th>id_membership</th>\n",
       "      <th>prep_tot_comp_offer</th>\n",
       "    </tr>\n",
       "  </thead>\n",
       "  <tbody>\n",
       "    <tr>\n",
       "      <th>0</th>\n",
       "      <td>0009655768c64bdeb2e877511632db8f</td>\n",
       "      <td>3</td>\n",
       "    </tr>\n",
       "    <tr>\n",
       "      <th>7</th>\n",
       "      <td>0011e0d4e6b944f998e987f904e8c1e5</td>\n",
       "      <td>3</td>\n",
       "    </tr>\n",
       "    <tr>\n",
       "      <th>11</th>\n",
       "      <td>0020c2b971eb4e9188eac86d93036a77</td>\n",
       "      <td>3</td>\n",
       "    </tr>\n",
       "    <tr>\n",
       "      <th>15</th>\n",
       "      <td>0020ccbbb6d84e358d3414a3ff76cffd</td>\n",
       "      <td>3</td>\n",
       "    </tr>\n",
       "    <tr>\n",
       "      <th>19</th>\n",
       "      <td>003d66b6608740288d6cc97a6903f4f0</td>\n",
       "      <td>3</td>\n",
       "    </tr>\n",
       "    <tr>\n",
       "      <th>...</th>\n",
       "      <td>...</td>\n",
       "      <td>...</td>\n",
       "    </tr>\n",
       "    <tr>\n",
       "      <th>63157</th>\n",
       "      <td>fff29fb549084123bd046dbc5ceb4faa</td>\n",
       "      <td>6</td>\n",
       "    </tr>\n",
       "    <tr>\n",
       "      <th>63161</th>\n",
       "      <td>fff3ba4757bd42088c044ca26d73817a</td>\n",
       "      <td>3</td>\n",
       "    </tr>\n",
       "    <tr>\n",
       "      <th>63165</th>\n",
       "      <td>fff7576017104bcc8677a8d63322b5e1</td>\n",
       "      <td>3</td>\n",
       "    </tr>\n",
       "    <tr>\n",
       "      <th>63172</th>\n",
       "      <td>fffad4f4828548d1b5583907f2e9906b</td>\n",
       "      <td>3</td>\n",
       "    </tr>\n",
       "    <tr>\n",
       "      <th>63176</th>\n",
       "      <td>ffff82501cea40309d5fdd7edcca4a07</td>\n",
       "      <td>6</td>\n",
       "    </tr>\n",
       "  </tbody>\n",
       "</table>\n",
       "<p>12774 rows × 2 columns</p>\n",
       "</div>"
      ],
      "text/plain": [
       "                          id_membership  prep_tot_comp_offer\n",
       "0      0009655768c64bdeb2e877511632db8f                    3\n",
       "7      0011e0d4e6b944f998e987f904e8c1e5                    3\n",
       "11     0020c2b971eb4e9188eac86d93036a77                    3\n",
       "15     0020ccbbb6d84e358d3414a3ff76cffd                    3\n",
       "19     003d66b6608740288d6cc97a6903f4f0                    3\n",
       "...                                 ...                  ...\n",
       "63157  fff29fb549084123bd046dbc5ceb4faa                    6\n",
       "63161  fff3ba4757bd42088c044ca26d73817a                    3\n",
       "63165  fff7576017104bcc8677a8d63322b5e1                    3\n",
       "63172  fffad4f4828548d1b5583907f2e9906b                    3\n",
       "63176  ffff82501cea40309d5fdd7edcca4a07                    6\n",
       "\n",
       "[12774 rows x 2 columns]"
      ]
     },
     "execution_count": 172,
     "metadata": {},
     "output_type": "execute_result"
    }
   ],
   "source": [
    "trans_count_ind = trans_count.reset_index(level=[0,1]) # reset index\n",
    "trans_count_filt = trans_count_ind[trans_count_ind[\"event\"] == \"offer completed\"] # Filter on \"offer completed\" only\n",
    "trans_count_filt.rename(columns = {'time':'prep_tot_comp_offer'}, inplace = True) # rename \"amount\" column to \"prep_tot_aver_spend\" column\n",
    "trans_count_filt = trans_count_filt[[\"id_membership\", \"prep_tot_comp_offer\"]] # only keep the prep_tot_aver_spend and id_membership columns before merging\n",
    "trans_count_filt"
   ]
  },
  {
   "cell_type": "code",
   "execution_count": 117,
   "id": "d7921133-6647-4205-818f-908d70e26c17",
   "metadata": {},
   "outputs": [
    {
     "data": {
      "text/plain": [
       "(12774, 6)"
      ]
     },
     "execution_count": 117,
     "metadata": {},
     "output_type": "execute_result"
    }
   ],
   "source": [
    "trans_count_filt.shape"
   ]
  },
  {
   "cell_type": "markdown",
   "id": "630c0c9f-3f90-43e4-bfb9-3a9be14db26d",
   "metadata": {},
   "source": [
    "## Number of transactions over the set promotion period"
   ]
  },
  {
   "cell_type": "code",
   "execution_count": 181,
   "id": "2e17303c-5071-4476-8992-ac7d3e545c62",
   "metadata": {},
   "outputs": [
    {
     "data": {
      "text/html": [
       "<div>\n",
       "<style scoped>\n",
       "    .dataframe tbody tr th:only-of-type {\n",
       "        vertical-align: middle;\n",
       "    }\n",
       "\n",
       "    .dataframe tbody tr th {\n",
       "        vertical-align: top;\n",
       "    }\n",
       "\n",
       "    .dataframe thead th {\n",
       "        text-align: right;\n",
       "    }\n",
       "</style>\n",
       "<table border=\"1\" class=\"dataframe\">\n",
       "  <thead>\n",
       "    <tr style=\"text-align: right;\">\n",
       "      <th></th>\n",
       "      <th>id_membership</th>\n",
       "      <th>prep_nb_of_transactions</th>\n",
       "    </tr>\n",
       "  </thead>\n",
       "  <tbody>\n",
       "    <tr>\n",
       "      <th>0</th>\n",
       "      <td>0009655768c64bdeb2e877511632db8f</td>\n",
       "      <td>8</td>\n",
       "    </tr>\n",
       "    <tr>\n",
       "      <th>1</th>\n",
       "      <td>00116118485d4dfda04fdbaba9a87b5c</td>\n",
       "      <td>3</td>\n",
       "    </tr>\n",
       "    <tr>\n",
       "      <th>2</th>\n",
       "      <td>0011e0d4e6b944f998e987f904e8c1e5</td>\n",
       "      <td>5</td>\n",
       "    </tr>\n",
       "    <tr>\n",
       "      <th>3</th>\n",
       "      <td>0020c2b971eb4e9188eac86d93036a77</td>\n",
       "      <td>8</td>\n",
       "    </tr>\n",
       "    <tr>\n",
       "      <th>4</th>\n",
       "      <td>0020ccbbb6d84e358d3414a3ff76cffd</td>\n",
       "      <td>12</td>\n",
       "    </tr>\n",
       "    <tr>\n",
       "      <th>...</th>\n",
       "      <td>...</td>\n",
       "      <td>...</td>\n",
       "    </tr>\n",
       "    <tr>\n",
       "      <th>16573</th>\n",
       "      <td>fff3ba4757bd42088c044ca26d73817a</td>\n",
       "      <td>11</td>\n",
       "    </tr>\n",
       "    <tr>\n",
       "      <th>16574</th>\n",
       "      <td>fff7576017104bcc8677a8d63322b5e1</td>\n",
       "      <td>6</td>\n",
       "    </tr>\n",
       "    <tr>\n",
       "      <th>16575</th>\n",
       "      <td>fff8957ea8b240a6b5e634b6ee8eafcf</td>\n",
       "      <td>5</td>\n",
       "    </tr>\n",
       "    <tr>\n",
       "      <th>16576</th>\n",
       "      <td>fffad4f4828548d1b5583907f2e9906b</td>\n",
       "      <td>12</td>\n",
       "    </tr>\n",
       "    <tr>\n",
       "      <th>16577</th>\n",
       "      <td>ffff82501cea40309d5fdd7edcca4a07</td>\n",
       "      <td>15</td>\n",
       "    </tr>\n",
       "  </tbody>\n",
       "</table>\n",
       "<p>16578 rows × 2 columns</p>\n",
       "</div>"
      ],
      "text/plain": [
       "                          id_membership  prep_nb_of_transactions\n",
       "0      0009655768c64bdeb2e877511632db8f                        8\n",
       "1      00116118485d4dfda04fdbaba9a87b5c                        3\n",
       "2      0011e0d4e6b944f998e987f904e8c1e5                        5\n",
       "3      0020c2b971eb4e9188eac86d93036a77                        8\n",
       "4      0020ccbbb6d84e358d3414a3ff76cffd                       12\n",
       "...                                 ...                      ...\n",
       "16573  fff3ba4757bd42088c044ca26d73817a                       11\n",
       "16574  fff7576017104bcc8677a8d63322b5e1                        6\n",
       "16575  fff8957ea8b240a6b5e634b6ee8eafcf                        5\n",
       "16576  fffad4f4828548d1b5583907f2e9906b                       12\n",
       "16577  ffff82501cea40309d5fdd7edcca4a07                       15\n",
       "\n",
       "[16578 rows x 2 columns]"
      ]
     },
     "execution_count": 181,
     "metadata": {},
     "output_type": "execute_result"
    }
   ],
   "source": [
    "trans_count = transcript.query('event == \"transaction\"') # Filter on transactions events\n",
    "trans_count = trans_count.groupby('id_membership').count() # groupby id_membership and apply mean\n",
    "trans_count = trans_count.reset_index(level=[0]) # reset index\n",
    "trans_count.rename(columns = {'time':'prep_nb_of_transactions'}, inplace = True) # rename \"amount\" column to \"prep_tot_aver_spend\" column\n",
    "\n",
    "trans_count = trans_count[[\"id_membership\", \"prep_nb_of_transactions\"]] # only keep the prep_nb_of_transactions and id_membership columns before merging\n",
    "trans_count"
   ]
  },
  {
   "cell_type": "markdown",
   "id": "d147c964-0aab-4fb7-827b-cbd95b55cc9d",
   "metadata": {
    "tags": []
   },
   "source": [
    "## Test preprocessing function"
   ]
  },
  {
   "cell_type": "code",
   "execution_count": 71,
   "id": "636ddab9-1c38-44a5-9d51-af54d961674f",
   "metadata": {},
   "outputs": [
    {
     "data": {
      "text/plain": [
       "<module 'utils_main' from 'C:\\\\Users\\\\BASTAMX2\\\\04_TargetingCustomers_DAIB\\\\TargetingCustomers_DAIB\\\\eda\\\\../utils\\\\utils_main.py'>"
      ]
     },
     "execution_count": 71,
     "metadata": {},
     "output_type": "execute_result"
    }
   ],
   "source": [
    "imp.reload(utm)"
   ]
  },
  {
   "cell_type": "code",
   "execution_count": 72,
   "id": "d8dbb760-93de-46df-a4eb-1e2f6421e84e",
   "metadata": {},
   "outputs": [
    {
     "data": {
      "text/plain": [
       "(17000, 5)"
      ]
     },
     "execution_count": 72,
     "metadata": {},
     "output_type": "execute_result"
    }
   ],
   "source": [
    "profile.shape"
   ]
  },
  {
   "cell_type": "code",
   "execution_count": 73,
   "id": "e840d828-5f29-43d7-afc1-eef438053157",
   "metadata": {},
   "outputs": [
    {
     "name": "stderr",
     "output_type": "stream",
     "text": [
      "C:\\Users\\BASTAMX2\\AppData\\Roaming\\Python\\Python38\\site-packages\\pandas\\core\\frame.py:4438: SettingWithCopyWarning: \n",
      "A value is trying to be set on a copy of a slice from a DataFrame\n",
      "\n",
      "See the caveats in the documentation: https://pandas.pydata.org/pandas-docs/stable/user_guide/indexing.html#returning-a-view-versus-a-copy\n",
      "  return super().rename(\n"
     ]
    },
    {
     "data": {
      "text/html": [
       "<div>\n",
       "<style scoped>\n",
       "    .dataframe tbody tr th:only-of-type {\n",
       "        vertical-align: middle;\n",
       "    }\n",
       "\n",
       "    .dataframe tbody tr th {\n",
       "        vertical-align: top;\n",
       "    }\n",
       "\n",
       "    .dataframe thead th {\n",
       "        text-align: right;\n",
       "    }\n",
       "</style>\n",
       "<table border=\"1\" class=\"dataframe\">\n",
       "  <thead>\n",
       "    <tr style=\"text-align: right;\">\n",
       "      <th></th>\n",
       "      <th>id_membership</th>\n",
       "      <th>prep_nb_of_offer_view</th>\n",
       "      <th>prep_nb_of_offer_rec</th>\n",
       "      <th>prep_nb_of_transactions</th>\n",
       "      <th>prep_nb_of_offer_comp</th>\n",
       "      <th>prep_tot_spend</th>\n",
       "      <th>prep_tot_aver_spend</th>\n",
       "      <th>gender</th>\n",
       "      <th>age</th>\n",
       "      <th>became_member_on</th>\n",
       "      <th>income</th>\n",
       "    </tr>\n",
       "  </thead>\n",
       "  <tbody>\n",
       "    <tr>\n",
       "      <th>0</th>\n",
       "      <td>0009655768c64bdeb2e877511632db8f</td>\n",
       "      <td>4.0</td>\n",
       "      <td>5.0</td>\n",
       "      <td>8.0</td>\n",
       "      <td>3.0</td>\n",
       "      <td>127.60</td>\n",
       "      <td>15.950000</td>\n",
       "      <td>M</td>\n",
       "      <td>33</td>\n",
       "      <td>2017-04-21</td>\n",
       "      <td>72000.0</td>\n",
       "    </tr>\n",
       "    <tr>\n",
       "      <th>1</th>\n",
       "      <td>00116118485d4dfda04fdbaba9a87b5c</td>\n",
       "      <td>2.0</td>\n",
       "      <td>2.0</td>\n",
       "      <td>3.0</td>\n",
       "      <td>NaN</td>\n",
       "      <td>4.09</td>\n",
       "      <td>1.363333</td>\n",
       "      <td>None</td>\n",
       "      <td>118</td>\n",
       "      <td>2018-04-25</td>\n",
       "      <td>NaN</td>\n",
       "    </tr>\n",
       "    <tr>\n",
       "      <th>2</th>\n",
       "      <td>0011e0d4e6b944f998e987f904e8c1e5</td>\n",
       "      <td>5.0</td>\n",
       "      <td>5.0</td>\n",
       "      <td>5.0</td>\n",
       "      <td>3.0</td>\n",
       "      <td>79.46</td>\n",
       "      <td>15.892000</td>\n",
       "      <td>O</td>\n",
       "      <td>40</td>\n",
       "      <td>2018-01-09</td>\n",
       "      <td>57000.0</td>\n",
       "    </tr>\n",
       "    <tr>\n",
       "      <th>3</th>\n",
       "      <td>0020c2b971eb4e9188eac86d93036a77</td>\n",
       "      <td>3.0</td>\n",
       "      <td>5.0</td>\n",
       "      <td>8.0</td>\n",
       "      <td>3.0</td>\n",
       "      <td>196.86</td>\n",
       "      <td>24.607500</td>\n",
       "      <td>F</td>\n",
       "      <td>59</td>\n",
       "      <td>2016-03-04</td>\n",
       "      <td>90000.0</td>\n",
       "    </tr>\n",
       "    <tr>\n",
       "      <th>4</th>\n",
       "      <td>0020ccbbb6d84e358d3414a3ff76cffd</td>\n",
       "      <td>4.0</td>\n",
       "      <td>4.0</td>\n",
       "      <td>12.0</td>\n",
       "      <td>3.0</td>\n",
       "      <td>154.05</td>\n",
       "      <td>12.837500</td>\n",
       "      <td>F</td>\n",
       "      <td>24</td>\n",
       "      <td>2016-11-11</td>\n",
       "      <td>60000.0</td>\n",
       "    </tr>\n",
       "  </tbody>\n",
       "</table>\n",
       "</div>"
      ],
      "text/plain": [
       "                      id_membership  prep_nb_of_offer_view  \\\n",
       "0  0009655768c64bdeb2e877511632db8f                    4.0   \n",
       "1  00116118485d4dfda04fdbaba9a87b5c                    2.0   \n",
       "2  0011e0d4e6b944f998e987f904e8c1e5                    5.0   \n",
       "3  0020c2b971eb4e9188eac86d93036a77                    3.0   \n",
       "4  0020ccbbb6d84e358d3414a3ff76cffd                    4.0   \n",
       "\n",
       "   prep_nb_of_offer_rec  prep_nb_of_transactions  prep_nb_of_offer_comp  \\\n",
       "0                   5.0                      8.0                    3.0   \n",
       "1                   2.0                      3.0                    NaN   \n",
       "2                   5.0                      5.0                    3.0   \n",
       "3                   5.0                      8.0                    3.0   \n",
       "4                   4.0                     12.0                    3.0   \n",
       "\n",
       "   prep_tot_spend  prep_tot_aver_spend gender  age became_member_on   income  \n",
       "0          127.60            15.950000      M   33       2017-04-21  72000.0  \n",
       "1            4.09             1.363333   None  118       2018-04-25      NaN  \n",
       "2           79.46            15.892000      O   40       2018-01-09  57000.0  \n",
       "3          196.86            24.607500      F   59       2016-03-04  90000.0  \n",
       "4          154.05            12.837500      F   24       2016-11-11  60000.0  "
      ]
     },
     "execution_count": 73,
     "metadata": {},
     "output_type": "execute_result"
    }
   ],
   "source": [
    "profile_prep = utm.preprocessing(portfolio, profile, transcript, merge_how=\"outer\")\n",
    "profile_prep.head()"
   ]
  },
  {
   "cell_type": "code",
   "execution_count": 175,
   "id": "2cd09e9f-fcce-4667-b486-23e6ad490fef",
   "metadata": {},
   "outputs": [
    {
     "data": {
      "text/plain": [
       "(17000, 7)"
      ]
     },
     "execution_count": 175,
     "metadata": {},
     "output_type": "execute_result"
    }
   ],
   "source": [
    "profile_prep.shape"
   ]
  },
  {
   "cell_type": "code",
   "execution_count": 198,
   "id": "99aecdbe-66db-44f7-b6ea-83923cc75940",
   "metadata": {},
   "outputs": [
    {
     "data": {
      "text/plain": [
       "422"
      ]
     },
     "execution_count": 198,
     "metadata": {},
     "output_type": "execute_result"
    }
   ],
   "source": [
    "sum(profile_prep.prep_tot_aver_spend.isna())"
   ]
  },
  {
   "cell_type": "markdown",
   "id": "f347f312-e3c5-442a-a451-040041c5c696",
   "metadata": {},
   "source": [
    "422 customers have not spend a single dollar (no transactions)"
   ]
  },
  {
   "cell_type": "code",
   "execution_count": 185,
   "id": "f89a78c5-6b64-4bcc-b77f-6233f36b4c1a",
   "metadata": {},
   "outputs": [
    {
     "data": {
      "text/plain": [
       "422"
      ]
     },
     "execution_count": 185,
     "metadata": {},
     "output_type": "execute_result"
    }
   ],
   "source": [
    "sum(profile_prep.prep_nb_of_transactions.isna())"
   ]
  },
  {
   "cell_type": "markdown",
   "id": "07cdc85d-3f08-4e0b-bd88-eac61553d73a",
   "metadata": {},
   "source": [
    "422 customer have **not** executed any transactions"
   ]
  },
  {
   "cell_type": "code",
   "execution_count": 199,
   "id": "4ab307f7-2174-4bf7-a2d2-04ccbe0ffac5",
   "metadata": {},
   "outputs": [
    {
     "data": {
      "text/plain": [
       "4226"
      ]
     },
     "execution_count": 199,
     "metadata": {},
     "output_type": "execute_result"
    }
   ],
   "source": [
    "sum(profile_prep.prep_nb_of_offer_comp.isna())"
   ]
  },
  {
   "cell_type": "markdown",
   "id": "186d9d12-140f-4521-a5d7-d2892f0dbed1",
   "metadata": {},
   "source": [
    "4226 customers have **not** completed any offers --> why"
   ]
  },
  {
   "cell_type": "code",
   "execution_count": 200,
   "id": "37c34255-0b30-44db-9c83-98aaee70b8be",
   "metadata": {},
   "outputs": [
    {
     "data": {
      "text/plain": [
       "6"
      ]
     },
     "execution_count": 200,
     "metadata": {},
     "output_type": "execute_result"
    }
   ],
   "source": [
    "sum(profile_prep.prep_nb_of_offer_rec.isna())"
   ]
  },
  {
   "cell_type": "markdown",
   "id": "d410dbb6-eee7-4885-b291-18ece713ea32",
   "metadata": {},
   "source": [
    "6 customers have **not** received any offers --> why"
   ]
  },
  {
   "cell_type": "code",
   "execution_count": 202,
   "id": "a8eeced5-b3d3-41a4-ab0c-048f9de1a054",
   "metadata": {},
   "outputs": [
    {
     "data": {
      "text/plain": [
       "166"
      ]
     },
     "execution_count": 202,
     "metadata": {},
     "output_type": "execute_result"
    }
   ],
   "source": [
    "sum(profile_prep.prep_nb_of_offer_view.isna())"
   ]
  },
  {
   "cell_type": "markdown",
   "id": "721b2aec-8833-4de7-b166-d5bd2face922",
   "metadata": {},
   "source": [
    "166 customers have **not** viewed any offers --> why"
   ]
  }
 ],
 "metadata": {
  "kernelspec": {
   "display_name": "Python 3 (ipykernel)",
   "language": "python",
   "name": "python3"
  },
  "language_info": {
   "codemirror_mode": {
    "name": "ipython",
    "version": 3
   },
   "file_extension": ".py",
   "mimetype": "text/x-python",
   "name": "python",
   "nbconvert_exporter": "python",
   "pygments_lexer": "ipython3",
   "version": "3.8.12"
  },
  "varInspector": {
   "cols": {
    "lenName": 16,
    "lenType": 16,
    "lenVar": 40
   },
   "kernels_config": {
    "python": {
     "delete_cmd_postfix": "",
     "delete_cmd_prefix": "del ",
     "library": "var_list.py",
     "varRefreshCmd": "print(var_dic_list())"
    },
    "r": {
     "delete_cmd_postfix": ") ",
     "delete_cmd_prefix": "rm(",
     "library": "var_list.r",
     "varRefreshCmd": "cat(var_dic_list()) "
    }
   },
   "types_to_exclude": [
    "module",
    "function",
    "builtin_function_or_method",
    "instance",
    "_Feature"
   ],
   "window_display": false
  }
 },
 "nbformat": 4,
 "nbformat_minor": 5
}
